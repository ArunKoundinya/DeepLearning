{
  "cells": [
    {
      "cell_type": "markdown",
      "metadata": {},
      "source": [
        "---\n",
        "title: Tensor Flow  - Important Functions \n",
        "categories:\n",
        "- Tensor Basics\n",
        "date: '2024-06-22'\n",
        "draft: false\n",
        "---"
      ]
    },
    {
      "cell_type": "markdown",
      "metadata": {
        "id": "nDa3pW0-7owN"
      },
      "source": [
        "Previously, we were exploring basics of tensorflow mathematical  and arthimetic operations. In this article we will explore few important functions that would be helpful in our modelling journey."
      ]
    },
    {
      "cell_type": "markdown",
      "metadata": {
        "id": "wqIXKVUTDfMT"
      },
      "source": [
        "![](concat_stack.png)"
      ]
    },
    {
      "cell_type": "markdown",
      "metadata": {
        "colab_type": "text",
        "id": "view-in-github"
      },
      "source": [
        "<a href=\"https://colab.research.google.com/github/ArunKoundinya/DeepLearning/blob/main/posts/tensorflow_important_functions/index.ipynb\" target=\"_parent\"><img src=\"https://colab.research.google.com/assets/colab-badge.svg\" alt=\"Open In Colab\"/></a>"
      ]
    },
    {
      "cell_type": "code",
      "execution_count": null,
      "metadata": {
        "id": "5zOeuaZf7wet"
      },
      "outputs": [],
      "source": [
        "import tensorflow as tf\n",
        "import numpy as np"
      ]
    },
    {
      "cell_type": "markdown",
      "metadata": {
        "id": "xICvdCQUDnHC"
      },
      "source": [
        "## 1. Stack & Concat"
      ]
    },
    {
      "cell_type": "markdown",
      "metadata": {
        "id": "jkhBnRw5F_uk"
      },
      "source": [
        "We will explore through examples when we can use stack and concat.\n",
        "\n",
        "Initially we will explore the syntax of `stack` and `concat` and then understand its operations. Based on the output of these operations we will deduce how to use them."
      ]
    },
    {
      "cell_type": "markdown",
      "metadata": {
        "id": "TKOvcpj8HHqZ"
      },
      "source": [
        "### 1.1 Syntax Exploration"
      ]
    },
    {
      "cell_type": "code",
      "execution_count": 38,
      "metadata": {
        "colab": {
          "base_uri": "https://localhost:8080/"
        },
        "id": "M0rbcVlm7zjk",
        "outputId": "7dfb9e07-fcc1-44a1-d334-7b558733b63d"
      },
      "outputs": [
        {
          "data": {
            "text/plain": [
              "[[1, 3, 4], [2, 4, 5], [3, 5, 6], [4, 6, 7]]"
            ]
          },
          "execution_count": 38,
          "metadata": {},
          "output_type": "execute_result"
        }
      ],
      "source": [
        "list1 = [1,3,4]\n",
        "list2 = [2,4,5]\n",
        "list3 = [3,5,6]\n",
        "list4 = [4,6,7]\n",
        "\n",
        "[list1, list2, list3, list4]"
      ]
    },
    {
      "cell_type": "code",
      "execution_count": 39,
      "metadata": {
        "colab": {
          "base_uri": "https://localhost:8080/"
        },
        "id": "05FY4Kb5D4H9",
        "outputId": "c1ca07f4-8918-4986-f4fa-92afedd67936"
      },
      "outputs": [
        {
          "data": {
            "text/plain": [
              "<tf.Tensor: shape=(4, 3), dtype=int32, numpy=\n",
              "array([[1, 3, 4],\n",
              "       [2, 4, 5],\n",
              "       [3, 5, 6],\n",
              "       [4, 6, 7]], dtype=int32)>"
            ]
          },
          "execution_count": 39,
          "metadata": {},
          "output_type": "execute_result"
        }
      ],
      "source": [
        "tf.stack([list1, list2, list3, list4])"
      ]
    },
    {
      "cell_type": "code",
      "execution_count": 40,
      "metadata": {
        "colab": {
          "base_uri": "https://localhost:8080/"
        },
        "id": "-qzfZggTHBs6",
        "outputId": "989679df-94f2-49b7-c554-557c4c251aef"
      },
      "outputs": [
        {
          "data": {
            "text/plain": [
              "<tf.Tensor: shape=(12,), dtype=int32, numpy=array([1, 3, 4, 2, 4, 5, 3, 5, 6, 4, 6, 7], dtype=int32)>"
            ]
          },
          "execution_count": 40,
          "metadata": {},
          "output_type": "execute_result"
        }
      ],
      "source": [
        "tf.concat([list1, list2, list3, list4], axis=0)"
      ]
    },
    {
      "cell_type": "markdown",
      "metadata": {
        "id": "4qvjfSc6HnlU"
      },
      "source": [
        "`stack` command is stacking the list where as `concat` has unrolled the list and concatened the elements."
      ]
    },
    {
      "cell_type": "markdown",
      "metadata": {
        "id": "rpPlf4EUH3ZE"
      },
      "source": [
        "### 1.2 Exploring the Outputs"
      ]
    },
    {
      "cell_type": "code",
      "execution_count": 43,
      "metadata": {
        "colab": {
          "base_uri": "https://localhost:8080/"
        },
        "id": "xIsBWMUyD9d0",
        "outputId": "e48a89f7-bbe4-46f6-8a25-515f3fd6b6fe"
      },
      "outputs": [
        {
          "name": "stdout",
          "output_type": "stream",
          "text": [
            "(3,)\n",
            "(4, 3)\n",
            "(12,)\n"
          ]
        }
      ],
      "source": [
        "list1 = tf.constant([1,3,4])\n",
        "list2 = tf.constant([2,4,5])\n",
        "list3 = tf.constant([3,5,6])\n",
        "list4 = tf.constant([4,6,7])\n",
        "\n",
        "print(list1.shape)\n",
        "\n",
        "print(tf.stack([list1, list2, list3, list4]).shape)\n",
        "\n",
        "print(tf.concat([list1, list2, list3, list4], axis=0).shape)"
      ]
    },
    {
      "cell_type": "markdown",
      "metadata": {
        "id": "HhQbLpVfIGWL"
      },
      "source": [
        "From this output we can deduce that when we are converting the same list into `EagerTensor` the output remained the same. Since, the dimensions of the input remanined the same."
      ]
    },
    {
      "cell_type": "code",
      "execution_count": 45,
      "metadata": {
        "colab": {
          "base_uri": "https://localhost:8080/"
        },
        "id": "czoHV2Q3EHya",
        "outputId": "6799a048-a3cd-4c9c-8130-0f2e9e4cb44a"
      },
      "outputs": [
        {
          "name": "stdout",
          "output_type": "stream",
          "text": [
            "(1, 3)\n",
            "(4, 1, 3)\n",
            "(4, 3)\n"
          ]
        }
      ],
      "source": [
        "list1 = tf.constant([1,3,4],shape=(1,3))\n",
        "list2 = tf.constant([2,4,5],shape=(1,3))\n",
        "list3 = tf.constant([3,5,6],shape=(1,3))\n",
        "list4 = tf.constant([4,6,7],shape=(1,3))\n",
        "\n",
        "print(list1.shape)\n",
        "\n",
        "print(tf.stack([list1, list2, list3, list4]).shape)\n",
        "\n",
        "print(tf.concat([list1, list2, list3, list4], axis=0).shape)"
      ]
    },
    {
      "cell_type": "code",
      "execution_count": 50,
      "metadata": {
        "colab": {
          "base_uri": "https://localhost:8080/"
        },
        "id": "4IbptxMXIxo_",
        "outputId": "1d63d66b-fa9e-4559-e85a-2d632f05d14f"
      },
      "outputs": [
        {
          "name": "stdout",
          "output_type": "stream",
          "text": [
            "tf.Tensor([1 3 4], shape=(3,), dtype=int32)\n",
            "tf.Tensor([[1 3 4]], shape=(1, 3), dtype=int32)\n"
          ]
        }
      ],
      "source": [
        "list1 = tf.constant([1,3,4])\n",
        "print(list1)\n",
        "list1 = tf.constant([1,3,4],shape=(1,3))\n",
        "print(list1)"
      ]
    },
    {
      "cell_type": "markdown",
      "metadata": {
        "id": "1YOWgG8sIcX3"
      },
      "source": [
        "From this output we can deduce that when we convert from tensor `1D` to `2D`  the difference in operations is conspicious.\n",
        "\n",
        "`stack` stacks the tensors one above the other, while `concat` combines the tensor on user-defined axis.\n",
        "\n",
        "On this learning, we can use these commands in below scenario as per my comprenhension.\n",
        "\n",
        "If we have multiple images and we want to stack them into a single variable we use `stack`. On the other side `concat` can we used to combined already pre-available stacked images in a variable."
      ]
    },
    {
      "cell_type": "code",
      "execution_count": 54,
      "metadata": {
        "colab": {
          "base_uri": "https://localhost:8080/"
        },
        "id": "NSWPekiRExfH",
        "outputId": "18037683-c4de-4f34-ea9b-f4d06bd76b62"
      },
      "outputs": [
        {
          "data": {
            "text/plain": [
              "TensorShape([4, 24, 24, 3])"
            ]
          },
          "execution_count": 54,
          "metadata": {},
          "output_type": "execute_result"
        }
      ],
      "source": [
        "list1 = tf.random.normal((24,24,3))\n",
        "list2 = tf.random.normal((24,24,3))\n",
        "list3 = tf.random.normal((24,24,3))\n",
        "list4 = tf.random.normal((24,24,3))\n",
        "tf.stack([list1, list2, list3, list4]).shape"
      ]
    },
    {
      "cell_type": "markdown",
      "metadata": {
        "id": "IT8BA_c0K6K4"
      },
      "source": [
        "In the above toy example we are stacking four images of `24X24X3` dimensions using `tf.stack`"
      ]
    },
    {
      "cell_type": "code",
      "execution_count": 58,
      "metadata": {
        "colab": {
          "base_uri": "https://localhost:8080/"
        },
        "id": "-Y6nK7I8FJUb",
        "outputId": "f70c492c-1787-4e87-9371-32e6a0808eb9"
      },
      "outputs": [
        {
          "data": {
            "text/plain": [
              "TensorShape([16, 24, 24, 3])"
            ]
          },
          "execution_count": 58,
          "metadata": {},
          "output_type": "execute_result"
        }
      ],
      "source": [
        "list1 = tf.random.normal((4,24,24,3))\n",
        "list2 = tf.random.normal((4,24,24,3))\n",
        "list3 = tf.random.normal((4,24,24,3))\n",
        "list4 = tf.random.normal((4,24,24,3))\n",
        "tf.concat([list1, list2, list3, list4], axis=0).shape"
      ]
    },
    {
      "cell_type": "markdown",
      "metadata": {
        "id": "Eqmkw67kLDHM"
      },
      "source": [
        "Further, we are combining the stacked images into a larger stack of 16 images."
      ]
    },
    {
      "cell_type": "markdown",
      "metadata": {
        "id": "qY4x-yDxLgcI"
      },
      "source": [
        "## 2. UnStack"
      ]
    },
    {
      "cell_type": "markdown",
      "metadata": {
        "id": "9X3SALGPLi0-"
      },
      "source": [
        "Unstack is straightforward and simple"
      ]
    },
    {
      "cell_type": "code",
      "execution_count": 59,
      "metadata": {
        "colab": {
          "base_uri": "https://localhost:8080/"
        },
        "id": "nT2mi4beLiQJ",
        "outputId": "7e866953-1f77-4c5f-a78e-29881bef8417"
      },
      "outputs": [
        {
          "data": {
            "text/plain": [
              "TensorShape([4, 24, 24, 3])"
            ]
          },
          "execution_count": 59,
          "metadata": {},
          "output_type": "execute_result"
        }
      ],
      "source": [
        "list1 = tf.random.normal((24,24,3))\n",
        "list2 = tf.random.normal((24,24,3))\n",
        "list3 = tf.random.normal((24,24,3))\n",
        "list4 = tf.random.normal((24,24,3))\n",
        "tf.stack([list1, list2, list3, list4]).shape"
      ]
    },
    {
      "cell_type": "code",
      "execution_count": 62,
      "metadata": {
        "colab": {
          "base_uri": "https://localhost:8080/"
        },
        "id": "M8SK3_7hLpP0",
        "outputId": "69af2bf3-5725-4ab0-aa58-e7ef8ca73ab6"
      },
      "outputs": [
        {
          "name": "stdout",
          "output_type": "stream",
          "text": [
            "4\n",
            "<class 'list'>\n"
          ]
        }
      ],
      "source": [
        "print(len(tf.unstack(tf.stack([list1, list2, list3, list4]), axis=0)))\n",
        "\n",
        "print(type(tf.unstack(tf.stack([list1, list2, list3, list4]), axis=0)))"
      ]
    },
    {
      "cell_type": "markdown",
      "metadata": {
        "id": "p3O28hq9LxrP"
      },
      "source": [
        "Unstacking splits the stacked image in a list"
      ]
    },
    {
      "cell_type": "markdown",
      "metadata": {
        "id": "-EDOiGxCL4aj"
      },
      "source": [
        "## 3. Expand Dimensions & Gather"
      ]
    },
    {
      "cell_type": "markdown",
      "metadata": {
        "id": "5pZs0RNhMAw9"
      },
      "source": [
        "We will explore through examples when we can use `expand_dims` and `gather`.\n",
        "\n",
        "Initially we will explore the syntax of `expand_dims` and `gather` and then understand its operations. Based on the output of these operations we will deduce how to use them."
      ]
    },
    {
      "cell_type": "code",
      "execution_count": 71,
      "metadata": {
        "colab": {
          "base_uri": "https://localhost:8080/"
        },
        "id": "P47hJhrpLqd0",
        "outputId": "8990dcb1-3287-474f-c57f-79254800c47d"
      },
      "outputs": [
        {
          "name": "stdout",
          "output_type": "stream",
          "text": [
            "tf.Tensor([-0.67980325  0.951565   -0.67902976], shape=(3,), dtype=float32)\n",
            "\n",
            "tf.Tensor([[-0.67980325  0.951565   -0.67902976]], shape=(1, 3), dtype=float32)\n",
            "\n",
            "tf.Tensor(\n",
            "[[-0.67980325]\n",
            " [ 0.951565  ]\n",
            " [-0.67902976]], shape=(3, 1), dtype=float32)\n"
          ]
        }
      ],
      "source": [
        "x = tf.random.normal((3,))\n",
        "print(x)\n",
        "print(\"\")\n",
        "print(tf.expand_dims(x, axis = 0))\n",
        "print(\"\")\n",
        "print(tf.expand_dims(x, axis = 1))"
      ]
    },
    {
      "cell_type": "markdown",
      "metadata": {
        "id": "R6JYC_6cM0PW"
      },
      "source": [
        "`expand_dims` looks like adding one more dimensions by converting from `1D` to `2D` as defined by user."
      ]
    },
    {
      "cell_type": "code",
      "execution_count": 74,
      "metadata": {
        "colab": {
          "base_uri": "https://localhost:8080/"
        },
        "id": "HYXqGHepMTZN",
        "outputId": "08eac2b5-bff9-49c5-e1a1-db76f8b2b4f3"
      },
      "outputs": [
        {
          "name": "stdout",
          "output_type": "stream",
          "text": [
            "tf.Tensor([-0.67980325], shape=(1,), dtype=float32)\n",
            "\n",
            "tf.Tensor([-0.67980325  0.951565  ], shape=(2,), dtype=float32)\n",
            "\n",
            "tf.Tensor([ 0.951565   -0.67902976 -0.67980325], shape=(3,), dtype=float32)\n"
          ]
        }
      ],
      "source": [
        "print(tf.gather(x, [0]))\n",
        "print(\"\")\n",
        "print(tf.gather(x, [0,1]))\n",
        "print(\"\")\n",
        "print(tf.gather(x, [1,2,0]))"
      ]
    },
    {
      "cell_type": "markdown",
      "metadata": {
        "id": "KyPX1il3NDYV"
      },
      "source": [
        "`gather` is gathering the information based in the indices shared by the user."
      ]
    },
    {
      "cell_type": "markdown",
      "metadata": {
        "id": "8z9nJiRFOQ5Z"
      },
      "source": [
        "### 3.1 Exploding Expand_Dims"
      ]
    },
    {
      "cell_type": "markdown",
      "metadata": {
        "id": "uMa9k3NSNO9v"
      },
      "source": [
        "Based on the outputs I can think of using `expand_dims` while performing any operations which would not have been possible without expanding dimensions."
      ]
    },
    {
      "cell_type": "code",
      "execution_count": 78,
      "metadata": {
        "colab": {
          "base_uri": "https://localhost:8080/",
          "height": 176
        },
        "id": "N5_YjZ-ENLdd",
        "outputId": "df910516-99c1-4759-94e5-495564b30579"
      },
      "outputs": [
        {
          "ename": "NameError",
          "evalue": "name 'tensor_2d' is not defined",
          "output_type": "error",
          "traceback": [
            "\u001b[0;31m---------------------------------------------------------------------------\u001b[0m",
            "\u001b[0;31mNameError\u001b[0m                                 Traceback (most recent call last)",
            "\u001b[0;32m<ipython-input-78-3733c7bbb351>\u001b[0m in \u001b[0;36m<cell line: 4>\u001b[0;34m()\u001b[0m\n\u001b[1;32m      2\u001b[0m \u001b[0mtensor2d\u001b[0m \u001b[0;34m=\u001b[0m \u001b[0mtf\u001b[0m\u001b[0;34m.\u001b[0m\u001b[0mconstant\u001b[0m\u001b[0;34m(\u001b[0m\u001b[0;34m[\u001b[0m\u001b[0;34m[\u001b[0m\u001b[0;36m4\u001b[0m\u001b[0;34m,\u001b[0m \u001b[0;36m5\u001b[0m\u001b[0;34m,\u001b[0m \u001b[0;36m6\u001b[0m\u001b[0;34m]\u001b[0m\u001b[0;34m,\u001b[0m \u001b[0;34m[\u001b[0m\u001b[0;36m7\u001b[0m\u001b[0;34m,\u001b[0m \u001b[0;36m8\u001b[0m\u001b[0;34m,\u001b[0m \u001b[0;36m9\u001b[0m\u001b[0;34m]\u001b[0m\u001b[0;34m]\u001b[0m\u001b[0;34m)\u001b[0m\u001b[0;34m\u001b[0m\u001b[0;34m\u001b[0m\u001b[0m\n\u001b[1;32m      3\u001b[0m \u001b[0;34m\u001b[0m\u001b[0m\n\u001b[0;32m----> 4\u001b[0;31m \u001b[0mtensor_1d\u001b[0m \u001b[0;34m+\u001b[0m \u001b[0mtensor_2d\u001b[0m\u001b[0;34m\u001b[0m\u001b[0;34m\u001b[0m\u001b[0m\n\u001b[0m",
            "\u001b[0;31mNameError\u001b[0m: name 'tensor_2d' is not defined"
          ]
        }
      ],
      "source": [
        "\n",
        "tensor1d = tf.constant([1, 2, 3])\n",
        "tensor2d = tf.constant([[4, 5, 6], [7, 8, 9]])\n",
        "\n",
        "tensor_1d + tensor_2d"
      ]
    },
    {
      "cell_type": "code",
      "execution_count": 79,
      "metadata": {
        "colab": {
          "base_uri": "https://localhost:8080/"
        },
        "id": "tuPtL6YkNYja",
        "outputId": "7ed8d4ff-3f3b-450f-c6aa-d776c9612ff5"
      },
      "outputs": [
        {
          "name": "stdout",
          "output_type": "stream",
          "text": [
            "tf.Tensor(\n",
            "[[ 5  7  9]\n",
            " [ 8 10 12]], shape=(2, 3), dtype=int32)\n"
          ]
        }
      ],
      "source": [
        "\n",
        "tensor1d_expanded = tf.expand_dims(tensor1d, axis=0)  # Expand along axis 0\n",
        "\n",
        "# Now you can add the two tensors\n",
        "result = tensor1d_expanded + tensor2d\n",
        "print(result)\n"
      ]
    },
    {
      "cell_type": "markdown",
      "metadata": {
        "id": "zWKufHrHOcVh"
      },
      "source": [
        "### 3.2. Gather"
      ]
    },
    {
      "cell_type": "markdown",
      "metadata": {
        "id": "BEeimc0ROhYM"
      },
      "source": [
        "Based on the outputs I can think of using `gather` while extracting relevant dimension of the tensor for further operations in the modelling"
      ]
    },
    {
      "cell_type": "code",
      "execution_count": 80,
      "metadata": {
        "colab": {
          "base_uri": "https://localhost:8080/"
        },
        "id": "qGPBz6eSOeTs",
        "outputId": "499cef4d-16b4-4788-9115-6e6a7b42c0c1"
      },
      "outputs": [
        {
          "name": "stdout",
          "output_type": "stream",
          "text": [
            "(224, 224, 2)\n"
          ]
        }
      ],
      "source": [
        "image_tensor = tf.random.normal((224, 224, 3))  # Example image tensor\n",
        "\n",
        "# Extract the red and blue channels (indices 0 and 2)\n",
        "extracted_channels = tf.gather(image_tensor, [0, 2], axis=-1)\n",
        "print(extracted_channels.shape)  # Output: (224, 224, 2)\n"
      ]
    },
    {
      "cell_type": "markdown",
      "metadata": {
        "id": "b8VIhH9lO75q"
      },
      "source": [
        "In the above example we have extracted only two channels instead of three channels."
      ]
    },
    {
      "cell_type": "markdown",
      "metadata": {},
      "source": [
        "```{=html}\n",
        "<script src=\"https://giscus.app/client.js\"\n",
        "        data-repo=\"ArunKoundinya/DeepLearning\"\n",
        "        data-repo-id=\"R_kgDOLhOfMA\"\n",
        "        data-category=\"General\"\n",
        "        data-category-id=\"DIC_kwDOLhOfMM4CeHeZ\"\n",
        "        data-mapping=\"pathname\"\n",
        "        data-strict=\"0\"\n",
        "        data-reactions-enabled=\"1\"\n",
        "        data-emit-metadata=\"0\"\n",
        "        data-input-position=\"bottom\"\n",
        "        data-theme=\"dark_high_contrast\"\n",
        "        data-lang=\"en\"\n",
        "        crossorigin=\"anonymous\"\n",
        "        async>\n",
        "</script>\n",
        "```"
      ]
    }
  ],
  "metadata": {
    "colab": {
      "authorship_tag": "ABX9TyNwG+TcEaBI+wE8RGAm0ZuX",
      "include_colab_link": true,
      "provenance": []
    },
    "kernelspec": {
      "display_name": "Python 3",
      "name": "python3"
    },
    "language_info": {
      "name": "python"
    }
  },
  "nbformat": 4,
  "nbformat_minor": 0
}
