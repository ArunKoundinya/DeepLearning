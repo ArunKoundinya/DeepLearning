{
  "nbformat": 4,
  "nbformat_minor": 0,
  "metadata": {
    "colab": {
      "provenance": [],
      "machine_shape": "hm",
      "gpuType": "V100",
      "authorship_tag": "ABX9TyPIG6nSfUidP9X4h3fs5/bZ",
      "include_colab_link": true
    },
    "kernelspec": {
      "name": "python3",
      "display_name": "Python 3"
    },
    "language_info": {
      "name": "python"
    },
    "accelerator": "GPU"
  },
  "cells": [
    {
      "cell_type": "markdown",
      "metadata": {
        "id": "view-in-github",
        "colab_type": "text"
      },
      "source": [
        "<a href=\"https://colab.research.google.com/github/ArunKoundinya/DeepLearning/blob/main/posts/deep-learning-project-msis/AmazonReviews_Part4.ipynb\" target=\"_parent\"><img src=\"https://colab.research.google.com/assets/colab-badge.svg\" alt=\"Open In Colab\"/></a>"
      ]
    },
    {
      "cell_type": "markdown",
      "source": [
        "# Amazon Reviews Sentiment Analysis - Part 4"
      ],
      "metadata": {
        "id": "mBcDRgjxEC5B"
      }
    },
    {
      "cell_type": "markdown",
      "source": [
        "The main purpose of this file is to check why we cannot do One-Hot encoding for the text for the project.\n",
        "\n",
        "Also, why Word-Embeddings and better neural architecture might be a better alternative approach."
      ],
      "metadata": {
        "id": "kulmltTvEF9X"
      }
    },
    {
      "cell_type": "markdown",
      "source": [
        "## Table of Contents\n",
        "- [1 - Packages](#1)\n",
        "- [2 - Loading the Dataset](#2)\n",
        "- [3 - Feed Forward NN with One-Hot](#3)\n",
        "- [4 - Feed Forward NN with Embedding Layer](#4)"
      ],
      "metadata": {
        "id": "SHbuJy2iEXv3"
      }
    },
    {
      "cell_type": "markdown",
      "source": [
        "<a name='1'></a>\n",
        "## 1 - Loading the Packages"
      ],
      "metadata": {
        "id": "wj74rsS2ErFe"
      }
    },
    {
      "cell_type": "code",
      "execution_count": null,
      "metadata": {
        "colab": {
          "base_uri": "https://localhost:8080/"
        },
        "id": "GVP_6AeSVc13",
        "outputId": "6a319d81-05bb-4af9-f8c9-08a02564b2f0"
      },
      "outputs": [
        {
          "output_type": "stream",
          "name": "stdout",
          "text": [
            "Collecting pandarallel\n",
            "  Downloading pandarallel-1.6.5.tar.gz (14 kB)\n",
            "  Preparing metadata (setup.py) ... \u001b[?25l\u001b[?25hdone\n",
            "Collecting dill>=0.3.1 (from pandarallel)\n",
            "  Downloading dill-0.3.8-py3-none-any.whl (116 kB)\n",
            "\u001b[2K     \u001b[90m━━━━━━━━━━━━━━━━━━━━━━━━━━━━━━━━━━━━━━━━\u001b[0m \u001b[32m116.3/116.3 kB\u001b[0m \u001b[31m1.4 MB/s\u001b[0m eta \u001b[36m0:00:00\u001b[0m\n",
            "\u001b[?25hRequirement already satisfied: pandas>=1 in /usr/local/lib/python3.10/dist-packages (from pandarallel) (2.0.3)\n",
            "Requirement already satisfied: psutil in /usr/local/lib/python3.10/dist-packages (from pandarallel) (5.9.5)\n",
            "Requirement already satisfied: python-dateutil>=2.8.2 in /usr/local/lib/python3.10/dist-packages (from pandas>=1->pandarallel) (2.8.2)\n",
            "Requirement already satisfied: pytz>=2020.1 in /usr/local/lib/python3.10/dist-packages (from pandas>=1->pandarallel) (2023.4)\n",
            "Requirement already satisfied: tzdata>=2022.1 in /usr/local/lib/python3.10/dist-packages (from pandas>=1->pandarallel) (2024.1)\n",
            "Requirement already satisfied: numpy>=1.21.0 in /usr/local/lib/python3.10/dist-packages (from pandas>=1->pandarallel) (1.25.2)\n",
            "Requirement already satisfied: six>=1.5 in /usr/local/lib/python3.10/dist-packages (from python-dateutil>=2.8.2->pandas>=1->pandarallel) (1.16.0)\n",
            "Building wheels for collected packages: pandarallel\n",
            "  Building wheel for pandarallel (setup.py) ... \u001b[?25l\u001b[?25hdone\n",
            "  Created wheel for pandarallel: filename=pandarallel-1.6.5-py3-none-any.whl size=16673 sha256=2f73b8745e52212f7841bdc9db50ce03da0fad4e5495b61ef28f822d09907b2b\n",
            "  Stored in directory: /root/.cache/pip/wheels/50/4f/1e/34e057bb868842209f1623f195b74fd7eda229308a7352d47f\n",
            "Successfully built pandarallel\n",
            "Installing collected packages: dill, pandarallel\n",
            "Successfully installed dill-0.3.8 pandarallel-1.6.5\n"
          ]
        }
      ],
      "source": [
        "!pip install pandarallel"
      ]
    },
    {
      "cell_type": "code",
      "source": [
        "from google.colab import drive\n",
        "import os\n",
        "import pandas as pd\n",
        "import numpy as np\n",
        "import tensorflow as tf\n",
        "\n",
        "from sklearn.model_selection import train_test_split\n",
        "\n",
        "from sklearn.feature_extraction.text import CountVectorizer\n",
        "from sklearn.feature_extraction.text import TfidfVectorizer\n",
        "\n",
        "from tensorflow.keras.preprocessing.text import Tokenizer\n",
        "from tensorflow.keras.preprocessing.sequence import pad_sequences\n",
        "from tensorflow.keras.models import Sequential\n",
        "\n",
        "from tensorflow.keras.optimizers import Adam\n",
        "from tensorflow.keras.initializers import GlorotUniform\n",
        "\n",
        "\n",
        "from sklearn.metrics import accuracy_score, classification_report\n",
        "\n",
        "from pandarallel import pandarallel"
      ],
      "metadata": {
        "id": "aAGwnsf8VmeK"
      },
      "execution_count": null,
      "outputs": []
    },
    {
      "cell_type": "markdown",
      "source": [
        "<a name='1'></a>\n",
        "## 2 - Loading the Data"
      ],
      "metadata": {
        "id": "FmDmBR6DEuKc"
      }
    },
    {
      "cell_type": "code",
      "source": [
        "drive.mount('/content/drive')\n",
        "os.chdir('/content/drive/My Drive/MSIS/IntroductiontoDeepLearning/Project/')\n",
        "\n",
        "testdata = pd.read_csv('test_data_sample_complete.csv')\n",
        "traindata = pd.read_csv('train_data_sample_complete.csv')\n"
      ],
      "metadata": {
        "colab": {
          "base_uri": "https://localhost:8080/"
        },
        "id": "7abL1zhqWCAr",
        "outputId": "ecb6dd46-2733-42b7-d4b3-484eff4d90d2"
      },
      "execution_count": null,
      "outputs": [
        {
          "output_type": "stream",
          "name": "stdout",
          "text": [
            "Mounted at /content/drive\n"
          ]
        }
      ]
    },
    {
      "cell_type": "code",
      "source": [
        "# Initialize pandarallel\n",
        "pandarallel.initialize(progress_bar=True)"
      ],
      "metadata": {
        "colab": {
          "base_uri": "https://localhost:8080/"
        },
        "id": "Wlo0IQpkWGDE",
        "outputId": "ccd00499-ffef-4b08-e25b-03b4f76ad2a4"
      },
      "execution_count": null,
      "outputs": [
        {
          "output_type": "stream",
          "name": "stdout",
          "text": [
            "INFO: Pandarallel will run on 4 workers.\n",
            "INFO: Pandarallel will use Memory file system to transfer data between the main process and workers.\n"
          ]
        }
      ]
    },
    {
      "cell_type": "markdown",
      "source": [
        "<a name='3'></a>\n",
        "## 3 - Feed Foward NN with One-Hot"
      ],
      "metadata": {
        "id": "gF3CS9v-ExWT"
      }
    },
    {
      "cell_type": "code",
      "source": [
        "train_data = traindata.sample(n=10000, random_state=42)\n",
        "test_data = testdata.sample(n=1000, random_state=42)\n",
        "\n",
        "train_data['class_index'] = train_data['class_index'].map({1:0, 2:1})\n",
        "test_data['class_index'] = test_data['class_index'].map({1:0, 2:1})\n",
        "\n",
        "train_data['review_combined_lemma'] = train_data['review_combined_lemma'].fillna('')\n",
        "test_data['review_combined_lemma'] = test_data['review_combined_lemma'].fillna('')\n",
        "\n",
        "X_train = train_data.review_combined_lemma\n",
        "y_train = np.array(train_data.class_index)\n",
        "\n",
        "X = test_data.review_combined_lemma\n",
        "y = np.array(test_data.class_index)\n",
        "\n",
        "tokenizer = Tokenizer(oov_token=\"<UNK>\",)\n",
        "tokenizer.fit_on_texts(X_train)\n",
        "\n",
        "tokenizer.word_index['<PAD>'] = 0\n",
        "\n",
        "X_sequences_train = tokenizer.texts_to_sequences(X_train)\n",
        "\n",
        "X_sequences = tokenizer.texts_to_sequences(X)\n",
        "\n",
        "X_train = pad_sequences(X_sequences_train, maxlen=100)\n",
        "X = pad_sequences(X_sequences, maxlen=100)"
      ],
      "metadata": {
        "id": "lSwkvUUCWTfX"
      },
      "execution_count": null,
      "outputs": []
    },
    {
      "cell_type": "code",
      "source": [
        "from keras.utils import to_categorical\n",
        "\n",
        "# Assuming X_train and X are already tokenized and padded\n",
        "\n",
        "# Convert each word into a one-hot vector\n",
        "X_train_one_hot = to_categorical(X_train)\n",
        "X_one_hot = to_categorical(X)\n",
        "\n",
        "# Check the shape of the resulting one-hot vectors\n",
        "print(\"Shape of X_train_one_hot:\", X_train_one_hot.shape)\n",
        "print(\"Shape of X_one_hot:\", X_one_hot.shape)"
      ],
      "metadata": {
        "colab": {
          "base_uri": "https://localhost:8080/"
        },
        "id": "ms7xOfvmW08L",
        "outputId": "0380e571-e70a-4600-b4eb-709d117be01e"
      },
      "execution_count": null,
      "outputs": [
        {
          "output_type": "stream",
          "name": "stdout",
          "text": [
            "Shape of X_train_one_hot: (10000, 100, 39128)\n",
            "Shape of X_one_hot: (1000, 100, 39123)\n"
          ]
        }
      ]
    },
    {
      "cell_type": "code",
      "source": [
        "X_train_one_hot.shape"
      ],
      "metadata": {
        "colab": {
          "base_uri": "https://localhost:8080/"
        },
        "id": "UVQ0Sd_UXGtr",
        "outputId": "707d50ee-5675-4d9c-c438-05a3cf85a0a4"
      },
      "execution_count": null,
      "outputs": [
        {
          "output_type": "execute_result",
          "data": {
            "text/plain": [
              "(10000, 100, 39128)"
            ]
          },
          "metadata": {},
          "execution_count": 21
        }
      ]
    },
    {
      "cell_type": "code",
      "source": [
        "model_ffnn_4 = Sequential()\n",
        "model_ffnn_4.add(tf.keras.layers.Dense(units=48, activation='relu',  kernel_initializer=GlorotUniform(), input_shape=(100,39128)))\n",
        "model_ffnn_4.add(tf.keras.layers.Flatten())\n",
        "model_ffnn_4.add(tf.keras.layers.Dense(units=4, kernel_initializer=GlorotUniform() ,activation='relu'))\n",
        "model_ffnn_4.add(tf.keras.layers.Dense(units=1,  kernel_initializer=GlorotUniform(),activation='softmax'))"
      ],
      "metadata": {
        "id": "HdgxsNP5XXhR"
      },
      "execution_count": null,
      "outputs": []
    },
    {
      "cell_type": "code",
      "source": [
        "model_ffnn_4.summary()"
      ],
      "metadata": {
        "colab": {
          "base_uri": "https://localhost:8080/"
        },
        "id": "S0Auy5efX1My",
        "outputId": "e6b738f3-94e2-48b3-c080-2a78063cf449"
      },
      "execution_count": null,
      "outputs": [
        {
          "output_type": "stream",
          "name": "stdout",
          "text": [
            "Model: \"sequential_1\"\n",
            "_________________________________________________________________\n",
            " Layer (type)                Output Shape              Param #   \n",
            "=================================================================\n",
            " dense_2 (Dense)             (None, 100, 48)           1878192   \n",
            "                                                                 \n",
            " flatten_1 (Flatten)         (None, 4800)              0         \n",
            "                                                                 \n",
            " dense_3 (Dense)             (None, 4)                 19204     \n",
            "                                                                 \n",
            " dense_4 (Dense)             (None, 1)                 5         \n",
            "                                                                 \n",
            "=================================================================\n",
            "Total params: 1897401 (7.24 MB)\n",
            "Trainable params: 1897401 (7.24 MB)\n",
            "Non-trainable params: 0 (0.00 Byte)\n",
            "_________________________________________________________________\n"
          ]
        }
      ]
    },
    {
      "cell_type": "code",
      "source": [
        "model_ffnn_4.compile(optimizer='adam', loss='binary_crossentropy', metrics=['accuracy'])\n",
        "\n",
        "model_ffnn_4.fit(X_train_one_hot, y_train, epochs=5, batch_size=64)"
      ],
      "metadata": {
        "id": "Qz4-kCBhX3L2"
      },
      "execution_count": null,
      "outputs": []
    },
    {
      "cell_type": "markdown",
      "source": [
        "Here `V100` with `50GB` ram crashes even for 10K size dataset"
      ],
      "metadata": {
        "id": "uXzYCo3pFCEN"
      }
    },
    {
      "cell_type": "markdown",
      "source": [
        "<a name='4'></a>\n",
        "## 4 - Feed Foward NN with Word Embeddings"
      ],
      "metadata": {
        "id": "eRCkDfxlE5N_"
      }
    },
    {
      "cell_type": "code",
      "source": [
        "train_data = traindata.sample(n=10000, random_state=42)\n",
        "test_data = testdata.sample(n=1000, random_state=42)\n",
        "\n",
        "train_data['class_index'] = train_data['class_index'].map({1:0, 2:1})\n",
        "test_data['class_index'] = test_data['class_index'].map({1:0, 2:1})\n",
        "\n",
        "train_data['review_combined_lemma'] = train_data['review_combined_lemma'].fillna('')\n",
        "test_data['review_combined_lemma'] = test_data['review_combined_lemma'].fillna('')\n",
        "\n",
        "X_train = train_data.review_combined_lemma\n",
        "y_train = np.array(train_data.class_index)\n",
        "\n",
        "X = test_data.review_combined_lemma\n",
        "y = np.array(test_data.class_index)\n",
        "\n",
        "tokenizer = Tokenizer(oov_token=\"<UNK>\",)\n",
        "tokenizer.fit_on_texts(X_train)\n",
        "\n",
        "tokenizer.word_index['<PAD>'] = 0\n",
        "\n",
        "X_sequences_train = tokenizer.texts_to_sequences(X_train)\n",
        "\n",
        "X_sequences = tokenizer.texts_to_sequences(X)\n",
        "\n",
        "X_train = pad_sequences(X_sequences_train, maxlen=100)\n",
        "X = pad_sequences(X_sequences, maxlen=100)"
      ],
      "metadata": {
        "id": "aH4D60YUV4xj"
      },
      "execution_count": null,
      "outputs": []
    },
    {
      "cell_type": "code",
      "source": [
        "X_dev, X_test, y_dev, y_test = train_test_split(X, y, test_size=0.5, random_state=42)"
      ],
      "metadata": {
        "id": "so95WqyCcIXD"
      },
      "execution_count": null,
      "outputs": []
    },
    {
      "cell_type": "code",
      "source": [
        "print(X_train.shape)\n",
        "print(X_dev.shape)\n",
        "print(X_test.shape)"
      ],
      "metadata": {
        "colab": {
          "base_uri": "https://localhost:8080/"
        },
        "id": "6v5msi5McKCM",
        "outputId": "e55caee2-d434-412c-a915-b739930dd7d6"
      },
      "execution_count": null,
      "outputs": [
        {
          "output_type": "stream",
          "name": "stdout",
          "text": [
            "(10000, 100)\n",
            "(500, 100)\n",
            "(500, 100)\n"
          ]
        }
      ]
    },
    {
      "cell_type": "code",
      "source": [
        "train_data['class_index'].value_counts()"
      ],
      "metadata": {
        "colab": {
          "base_uri": "https://localhost:8080/"
        },
        "id": "6iH2O3sUozl8",
        "outputId": "166ca7b5-5736-4c69-cfb5-b280fd87ac70"
      },
      "execution_count": null,
      "outputs": [
        {
          "output_type": "execute_result",
          "data": {
            "text/plain": [
              "class_index\n",
              "1    5046\n",
              "0    4954\n",
              "Name: count, dtype: int64"
            ]
          },
          "metadata": {},
          "execution_count": 9
        }
      ]
    },
    {
      "cell_type": "code",
      "source": [
        "vocab_size = len(tokenizer.word_index) + 2"
      ],
      "metadata": {
        "id": "2jLi62wXbP00"
      },
      "execution_count": null,
      "outputs": []
    },
    {
      "cell_type": "code",
      "source": [
        "modelffn_embed = Sequential()\n",
        "modelffn_embed.add(tf.keras.layers.Embedding(input_dim=vocab_size, output_dim=8, input_length=100))\n",
        "modelffn_embed.add(tf.keras.layers.Flatten())\n",
        "modelffn_embed.add(tf.keras.layers.Dense(32, activation='relu'))\n",
        "modelffn_embed.add(tf.keras.layers.Dense(1, activation='sigmoid'))"
      ],
      "metadata": {
        "id": "Yb38cg_nbcno"
      },
      "execution_count": null,
      "outputs": []
    },
    {
      "cell_type": "code",
      "source": [
        "modelffn_embed.summary()"
      ],
      "metadata": {
        "colab": {
          "base_uri": "https://localhost:8080/"
        },
        "id": "iOMqzQJlbwdz",
        "outputId": "e0dc60ec-2444-4883-807f-ff1388e5a50f"
      },
      "execution_count": null,
      "outputs": [
        {
          "output_type": "stream",
          "name": "stdout",
          "text": [
            "Model: \"sequential\"\n",
            "_________________________________________________________________\n",
            " Layer (type)                Output Shape              Param #   \n",
            "=================================================================\n",
            " embedding (Embedding)       (None, 100, 8)            313040    \n",
            "                                                                 \n",
            " flatten (Flatten)           (None, 800)               0         \n",
            "                                                                 \n",
            " dense (Dense)               (None, 32)                25632     \n",
            "                                                                 \n",
            " dense_1 (Dense)             (None, 1)                 33        \n",
            "                                                                 \n",
            "=================================================================\n",
            "Total params: 338705 (1.29 MB)\n",
            "Trainable params: 338705 (1.29 MB)\n",
            "Non-trainable params: 0 (0.00 Byte)\n",
            "_________________________________________________________________\n"
          ]
        }
      ]
    },
    {
      "cell_type": "code",
      "source": [
        "modelffn_embed.compile(optimizer='adam', loss='binary_crossentropy', metrics=['accuracy'])\n",
        "\n",
        "# Train the model\n",
        "modelffn_embed.fit(X_train, y_train, epochs=5, batch_size=64, validation_data=(X_dev, y_dev))\n",
        "\n",
        "loss, accuracy = modelffn_embed.evaluate(X_test, y_test)\n",
        "print(f'Test Loss: {loss}, Test Accuracy: {accuracy}')"
      ],
      "metadata": {
        "colab": {
          "base_uri": "https://localhost:8080/"
        },
        "id": "P_fOe5QJbyS4",
        "outputId": "04dbb8e9-c91c-4bce-d069-d38602520bf3"
      },
      "execution_count": null,
      "outputs": [
        {
          "output_type": "stream",
          "name": "stdout",
          "text": [
            "Epoch 1/5\n",
            "157/157 [==============================] - 21s 118ms/step - loss: 0.6345 - accuracy: 0.6251 - val_loss: 0.4396 - val_accuracy: 0.8280\n",
            "Epoch 2/5\n",
            "157/157 [==============================] - 11s 69ms/step - loss: 0.2813 - accuracy: 0.8935 - val_loss: 0.3451 - val_accuracy: 0.8640\n",
            "Epoch 3/5\n",
            "157/157 [==============================] - 8s 48ms/step - loss: 0.1147 - accuracy: 0.9638 - val_loss: 0.3863 - val_accuracy: 0.8560\n",
            "Epoch 4/5\n",
            "157/157 [==============================] - 7s 47ms/step - loss: 0.0479 - accuracy: 0.9887 - val_loss: 0.4356 - val_accuracy: 0.8660\n",
            "Epoch 5/5\n",
            "157/157 [==============================] - 5s 30ms/step - loss: 0.0191 - accuracy: 0.9974 - val_loss: 0.4868 - val_accuracy: 0.8580\n",
            "16/16 [==============================] - 0s 2ms/step - loss: 0.4828 - accuracy: 0.8520\n",
            "Test Loss: 0.4828338325023651, Test Accuracy: 0.8519999980926514\n"
          ]
        }
      ]
    },
    {
      "cell_type": "code",
      "source": [
        "history_ffn_embed = modelffn_embed.fit(X_train, y_train, epochs=50, batch_size=64, validation_data=(X_dev, y_dev),verbose = 0)\n"
      ],
      "metadata": {
        "id": "jHPBwiOdY7iO"
      },
      "execution_count": null,
      "outputs": []
    },
    {
      "cell_type": "code",
      "source": [
        "loss, accuracy = modelffn_embed.evaluate(X_test, y_test)\n",
        "print(f'Test Loss: {loss}, Test Accuracy: {accuracy}')"
      ],
      "metadata": {
        "colab": {
          "base_uri": "https://localhost:8080/"
        },
        "id": "0AsTDgUTZbYM",
        "outputId": "414849a9-b218-4bd5-8054-b176185fb094"
      },
      "execution_count": null,
      "outputs": [
        {
          "output_type": "stream",
          "name": "stdout",
          "text": [
            "16/16 [==============================] - 0s 2ms/step - loss: 1.1008 - accuracy: 0.8400\n",
            "Test Loss: 1.1007981300354004, Test Accuracy: 0.8399999737739563\n"
          ]
        }
      ]
    },
    {
      "cell_type": "code",
      "source": [
        "pd.DataFrame(history_ffn_embed.history)"
      ],
      "metadata": {
        "colab": {
          "base_uri": "https://localhost:8080/",
          "height": 1000
        },
        "id": "XFn9jyLkZkUO",
        "outputId": "b9fbdecc-1beb-4386-d86d-2bc64ff2fed9"
      },
      "execution_count": null,
      "outputs": [
        {
          "output_type": "execute_result",
          "data": {
            "text/plain": [
              "        loss  accuracy  val_loss  val_accuracy\n",
              "0   0.009748    0.9992  0.520976         0.854\n",
              "1   0.005276    0.9996  0.549638         0.852\n",
              "2   0.003331    0.9999  0.576066         0.856\n",
              "3   0.002150    0.9999  0.599153         0.848\n",
              "4   0.001391    1.0000  0.644266         0.848\n",
              "5   0.001092    1.0000  0.634673         0.848\n",
              "6   0.000834    1.0000  0.653190         0.844\n",
              "7   0.000663    1.0000  0.668371         0.844\n",
              "8   0.000534    1.0000  0.681219         0.844\n",
              "9   0.000432    1.0000  0.694421         0.842\n",
              "10  0.000365    1.0000  0.707896         0.842\n",
              "11  0.000324    1.0000  0.721440         0.840\n",
              "12  0.000257    1.0000  0.734632         0.842\n",
              "13  0.000222    1.0000  0.742694         0.840\n",
              "14  0.000191    1.0000  0.753557         0.840\n",
              "15  0.000167    1.0000  0.766977         0.842\n",
              "16  0.000143    1.0000  0.774682         0.842\n",
              "17  0.000124    1.0000  0.783459         0.842\n",
              "18  0.000109    1.0000  0.791717         0.842\n",
              "19  0.000093    1.0000  0.806533         0.842\n",
              "20  0.000088    1.0000  0.810420         0.842\n",
              "21  0.000075    1.0000  0.820965         0.840\n",
              "22  0.000067    1.0000  0.828712         0.840\n",
              "23  0.000060    1.0000  0.838487         0.842\n",
              "24  0.000052    1.0000  0.845717         0.840\n",
              "25  0.000045    1.0000  0.857232         0.842\n",
              "26  0.000042    1.0000  0.859110         0.840\n",
              "27  0.000038    1.0000  0.872332         0.840\n",
              "28  0.000033    1.0000  0.879950         0.842\n",
              "29  0.000031    1.0000  0.885962         0.838\n",
              "30  0.000027    1.0000  0.903373         0.838\n",
              "31  0.000024    1.0000  0.898310         0.840\n",
              "32  0.000022    1.0000  0.911362         0.838\n",
              "33  0.000019    1.0000  0.913673         0.838\n",
              "34  0.000018    1.0000  0.926475         0.838\n",
              "35  0.000016    1.0000  0.927089         0.838\n",
              "36  0.000015    1.0000  0.943337         0.840\n",
              "37  0.000013    1.0000  0.942922         0.838\n",
              "38  0.000012    1.0000  0.951818         0.838\n",
              "39  0.000011    1.0000  0.956543         0.838\n",
              "40  0.000010    1.0000  0.970549         0.840\n",
              "41  0.000009    1.0000  0.972109         0.838\n",
              "42  0.000008    1.0000  0.975975         0.838\n",
              "43  0.000007    1.0000  0.984918         0.838\n",
              "44  0.000007    1.0000  1.007258         0.832\n",
              "45  0.000006    1.0000  0.998533         0.838\n",
              "46  0.000006    1.0000  1.006751         0.838\n",
              "47  0.000005    1.0000  1.013540         0.838\n",
              "48  0.000005    1.0000  1.018308         0.838\n",
              "49  0.000004    1.0000  1.033135         0.836"
            ],
            "text/html": [
              "\n",
              "  <div id=\"df-211b3771-866b-4933-a95f-ac8d5b94cef8\" class=\"colab-df-container\">\n",
              "    <div>\n",
              "<style scoped>\n",
              "    .dataframe tbody tr th:only-of-type {\n",
              "        vertical-align: middle;\n",
              "    }\n",
              "\n",
              "    .dataframe tbody tr th {\n",
              "        vertical-align: top;\n",
              "    }\n",
              "\n",
              "    .dataframe thead th {\n",
              "        text-align: right;\n",
              "    }\n",
              "</style>\n",
              "<table border=\"1\" class=\"dataframe\">\n",
              "  <thead>\n",
              "    <tr style=\"text-align: right;\">\n",
              "      <th></th>\n",
              "      <th>loss</th>\n",
              "      <th>accuracy</th>\n",
              "      <th>val_loss</th>\n",
              "      <th>val_accuracy</th>\n",
              "    </tr>\n",
              "  </thead>\n",
              "  <tbody>\n",
              "    <tr>\n",
              "      <th>0</th>\n",
              "      <td>0.009748</td>\n",
              "      <td>0.9992</td>\n",
              "      <td>0.520976</td>\n",
              "      <td>0.854</td>\n",
              "    </tr>\n",
              "    <tr>\n",
              "      <th>1</th>\n",
              "      <td>0.005276</td>\n",
              "      <td>0.9996</td>\n",
              "      <td>0.549638</td>\n",
              "      <td>0.852</td>\n",
              "    </tr>\n",
              "    <tr>\n",
              "      <th>2</th>\n",
              "      <td>0.003331</td>\n",
              "      <td>0.9999</td>\n",
              "      <td>0.576066</td>\n",
              "      <td>0.856</td>\n",
              "    </tr>\n",
              "    <tr>\n",
              "      <th>3</th>\n",
              "      <td>0.002150</td>\n",
              "      <td>0.9999</td>\n",
              "      <td>0.599153</td>\n",
              "      <td>0.848</td>\n",
              "    </tr>\n",
              "    <tr>\n",
              "      <th>4</th>\n",
              "      <td>0.001391</td>\n",
              "      <td>1.0000</td>\n",
              "      <td>0.644266</td>\n",
              "      <td>0.848</td>\n",
              "    </tr>\n",
              "    <tr>\n",
              "      <th>5</th>\n",
              "      <td>0.001092</td>\n",
              "      <td>1.0000</td>\n",
              "      <td>0.634673</td>\n",
              "      <td>0.848</td>\n",
              "    </tr>\n",
              "    <tr>\n",
              "      <th>6</th>\n",
              "      <td>0.000834</td>\n",
              "      <td>1.0000</td>\n",
              "      <td>0.653190</td>\n",
              "      <td>0.844</td>\n",
              "    </tr>\n",
              "    <tr>\n",
              "      <th>7</th>\n",
              "      <td>0.000663</td>\n",
              "      <td>1.0000</td>\n",
              "      <td>0.668371</td>\n",
              "      <td>0.844</td>\n",
              "    </tr>\n",
              "    <tr>\n",
              "      <th>8</th>\n",
              "      <td>0.000534</td>\n",
              "      <td>1.0000</td>\n",
              "      <td>0.681219</td>\n",
              "      <td>0.844</td>\n",
              "    </tr>\n",
              "    <tr>\n",
              "      <th>9</th>\n",
              "      <td>0.000432</td>\n",
              "      <td>1.0000</td>\n",
              "      <td>0.694421</td>\n",
              "      <td>0.842</td>\n",
              "    </tr>\n",
              "    <tr>\n",
              "      <th>10</th>\n",
              "      <td>0.000365</td>\n",
              "      <td>1.0000</td>\n",
              "      <td>0.707896</td>\n",
              "      <td>0.842</td>\n",
              "    </tr>\n",
              "    <tr>\n",
              "      <th>11</th>\n",
              "      <td>0.000324</td>\n",
              "      <td>1.0000</td>\n",
              "      <td>0.721440</td>\n",
              "      <td>0.840</td>\n",
              "    </tr>\n",
              "    <tr>\n",
              "      <th>12</th>\n",
              "      <td>0.000257</td>\n",
              "      <td>1.0000</td>\n",
              "      <td>0.734632</td>\n",
              "      <td>0.842</td>\n",
              "    </tr>\n",
              "    <tr>\n",
              "      <th>13</th>\n",
              "      <td>0.000222</td>\n",
              "      <td>1.0000</td>\n",
              "      <td>0.742694</td>\n",
              "      <td>0.840</td>\n",
              "    </tr>\n",
              "    <tr>\n",
              "      <th>14</th>\n",
              "      <td>0.000191</td>\n",
              "      <td>1.0000</td>\n",
              "      <td>0.753557</td>\n",
              "      <td>0.840</td>\n",
              "    </tr>\n",
              "    <tr>\n",
              "      <th>15</th>\n",
              "      <td>0.000167</td>\n",
              "      <td>1.0000</td>\n",
              "      <td>0.766977</td>\n",
              "      <td>0.842</td>\n",
              "    </tr>\n",
              "    <tr>\n",
              "      <th>16</th>\n",
              "      <td>0.000143</td>\n",
              "      <td>1.0000</td>\n",
              "      <td>0.774682</td>\n",
              "      <td>0.842</td>\n",
              "    </tr>\n",
              "    <tr>\n",
              "      <th>17</th>\n",
              "      <td>0.000124</td>\n",
              "      <td>1.0000</td>\n",
              "      <td>0.783459</td>\n",
              "      <td>0.842</td>\n",
              "    </tr>\n",
              "    <tr>\n",
              "      <th>18</th>\n",
              "      <td>0.000109</td>\n",
              "      <td>1.0000</td>\n",
              "      <td>0.791717</td>\n",
              "      <td>0.842</td>\n",
              "    </tr>\n",
              "    <tr>\n",
              "      <th>19</th>\n",
              "      <td>0.000093</td>\n",
              "      <td>1.0000</td>\n",
              "      <td>0.806533</td>\n",
              "      <td>0.842</td>\n",
              "    </tr>\n",
              "    <tr>\n",
              "      <th>20</th>\n",
              "      <td>0.000088</td>\n",
              "      <td>1.0000</td>\n",
              "      <td>0.810420</td>\n",
              "      <td>0.842</td>\n",
              "    </tr>\n",
              "    <tr>\n",
              "      <th>21</th>\n",
              "      <td>0.000075</td>\n",
              "      <td>1.0000</td>\n",
              "      <td>0.820965</td>\n",
              "      <td>0.840</td>\n",
              "    </tr>\n",
              "    <tr>\n",
              "      <th>22</th>\n",
              "      <td>0.000067</td>\n",
              "      <td>1.0000</td>\n",
              "      <td>0.828712</td>\n",
              "      <td>0.840</td>\n",
              "    </tr>\n",
              "    <tr>\n",
              "      <th>23</th>\n",
              "      <td>0.000060</td>\n",
              "      <td>1.0000</td>\n",
              "      <td>0.838487</td>\n",
              "      <td>0.842</td>\n",
              "    </tr>\n",
              "    <tr>\n",
              "      <th>24</th>\n",
              "      <td>0.000052</td>\n",
              "      <td>1.0000</td>\n",
              "      <td>0.845717</td>\n",
              "      <td>0.840</td>\n",
              "    </tr>\n",
              "    <tr>\n",
              "      <th>25</th>\n",
              "      <td>0.000045</td>\n",
              "      <td>1.0000</td>\n",
              "      <td>0.857232</td>\n",
              "      <td>0.842</td>\n",
              "    </tr>\n",
              "    <tr>\n",
              "      <th>26</th>\n",
              "      <td>0.000042</td>\n",
              "      <td>1.0000</td>\n",
              "      <td>0.859110</td>\n",
              "      <td>0.840</td>\n",
              "    </tr>\n",
              "    <tr>\n",
              "      <th>27</th>\n",
              "      <td>0.000038</td>\n",
              "      <td>1.0000</td>\n",
              "      <td>0.872332</td>\n",
              "      <td>0.840</td>\n",
              "    </tr>\n",
              "    <tr>\n",
              "      <th>28</th>\n",
              "      <td>0.000033</td>\n",
              "      <td>1.0000</td>\n",
              "      <td>0.879950</td>\n",
              "      <td>0.842</td>\n",
              "    </tr>\n",
              "    <tr>\n",
              "      <th>29</th>\n",
              "      <td>0.000031</td>\n",
              "      <td>1.0000</td>\n",
              "      <td>0.885962</td>\n",
              "      <td>0.838</td>\n",
              "    </tr>\n",
              "    <tr>\n",
              "      <th>30</th>\n",
              "      <td>0.000027</td>\n",
              "      <td>1.0000</td>\n",
              "      <td>0.903373</td>\n",
              "      <td>0.838</td>\n",
              "    </tr>\n",
              "    <tr>\n",
              "      <th>31</th>\n",
              "      <td>0.000024</td>\n",
              "      <td>1.0000</td>\n",
              "      <td>0.898310</td>\n",
              "      <td>0.840</td>\n",
              "    </tr>\n",
              "    <tr>\n",
              "      <th>32</th>\n",
              "      <td>0.000022</td>\n",
              "      <td>1.0000</td>\n",
              "      <td>0.911362</td>\n",
              "      <td>0.838</td>\n",
              "    </tr>\n",
              "    <tr>\n",
              "      <th>33</th>\n",
              "      <td>0.000019</td>\n",
              "      <td>1.0000</td>\n",
              "      <td>0.913673</td>\n",
              "      <td>0.838</td>\n",
              "    </tr>\n",
              "    <tr>\n",
              "      <th>34</th>\n",
              "      <td>0.000018</td>\n",
              "      <td>1.0000</td>\n",
              "      <td>0.926475</td>\n",
              "      <td>0.838</td>\n",
              "    </tr>\n",
              "    <tr>\n",
              "      <th>35</th>\n",
              "      <td>0.000016</td>\n",
              "      <td>1.0000</td>\n",
              "      <td>0.927089</td>\n",
              "      <td>0.838</td>\n",
              "    </tr>\n",
              "    <tr>\n",
              "      <th>36</th>\n",
              "      <td>0.000015</td>\n",
              "      <td>1.0000</td>\n",
              "      <td>0.943337</td>\n",
              "      <td>0.840</td>\n",
              "    </tr>\n",
              "    <tr>\n",
              "      <th>37</th>\n",
              "      <td>0.000013</td>\n",
              "      <td>1.0000</td>\n",
              "      <td>0.942922</td>\n",
              "      <td>0.838</td>\n",
              "    </tr>\n",
              "    <tr>\n",
              "      <th>38</th>\n",
              "      <td>0.000012</td>\n",
              "      <td>1.0000</td>\n",
              "      <td>0.951818</td>\n",
              "      <td>0.838</td>\n",
              "    </tr>\n",
              "    <tr>\n",
              "      <th>39</th>\n",
              "      <td>0.000011</td>\n",
              "      <td>1.0000</td>\n",
              "      <td>0.956543</td>\n",
              "      <td>0.838</td>\n",
              "    </tr>\n",
              "    <tr>\n",
              "      <th>40</th>\n",
              "      <td>0.000010</td>\n",
              "      <td>1.0000</td>\n",
              "      <td>0.970549</td>\n",
              "      <td>0.840</td>\n",
              "    </tr>\n",
              "    <tr>\n",
              "      <th>41</th>\n",
              "      <td>0.000009</td>\n",
              "      <td>1.0000</td>\n",
              "      <td>0.972109</td>\n",
              "      <td>0.838</td>\n",
              "    </tr>\n",
              "    <tr>\n",
              "      <th>42</th>\n",
              "      <td>0.000008</td>\n",
              "      <td>1.0000</td>\n",
              "      <td>0.975975</td>\n",
              "      <td>0.838</td>\n",
              "    </tr>\n",
              "    <tr>\n",
              "      <th>43</th>\n",
              "      <td>0.000007</td>\n",
              "      <td>1.0000</td>\n",
              "      <td>0.984918</td>\n",
              "      <td>0.838</td>\n",
              "    </tr>\n",
              "    <tr>\n",
              "      <th>44</th>\n",
              "      <td>0.000007</td>\n",
              "      <td>1.0000</td>\n",
              "      <td>1.007258</td>\n",
              "      <td>0.832</td>\n",
              "    </tr>\n",
              "    <tr>\n",
              "      <th>45</th>\n",
              "      <td>0.000006</td>\n",
              "      <td>1.0000</td>\n",
              "      <td>0.998533</td>\n",
              "      <td>0.838</td>\n",
              "    </tr>\n",
              "    <tr>\n",
              "      <th>46</th>\n",
              "      <td>0.000006</td>\n",
              "      <td>1.0000</td>\n",
              "      <td>1.006751</td>\n",
              "      <td>0.838</td>\n",
              "    </tr>\n",
              "    <tr>\n",
              "      <th>47</th>\n",
              "      <td>0.000005</td>\n",
              "      <td>1.0000</td>\n",
              "      <td>1.013540</td>\n",
              "      <td>0.838</td>\n",
              "    </tr>\n",
              "    <tr>\n",
              "      <th>48</th>\n",
              "      <td>0.000005</td>\n",
              "      <td>1.0000</td>\n",
              "      <td>1.018308</td>\n",
              "      <td>0.838</td>\n",
              "    </tr>\n",
              "    <tr>\n",
              "      <th>49</th>\n",
              "      <td>0.000004</td>\n",
              "      <td>1.0000</td>\n",
              "      <td>1.033135</td>\n",
              "      <td>0.836</td>\n",
              "    </tr>\n",
              "  </tbody>\n",
              "</table>\n",
              "</div>\n",
              "    <div class=\"colab-df-buttons\">\n",
              "\n",
              "  <div class=\"colab-df-container\">\n",
              "    <button class=\"colab-df-convert\" onclick=\"convertToInteractive('df-211b3771-866b-4933-a95f-ac8d5b94cef8')\"\n",
              "            title=\"Convert this dataframe to an interactive table.\"\n",
              "            style=\"display:none;\">\n",
              "\n",
              "  <svg xmlns=\"http://www.w3.org/2000/svg\" height=\"24px\" viewBox=\"0 -960 960 960\">\n",
              "    <path d=\"M120-120v-720h720v720H120Zm60-500h600v-160H180v160Zm220 220h160v-160H400v160Zm0 220h160v-160H400v160ZM180-400h160v-160H180v160Zm440 0h160v-160H620v160ZM180-180h160v-160H180v160Zm440 0h160v-160H620v160Z\"/>\n",
              "  </svg>\n",
              "    </button>\n",
              "\n",
              "  <style>\n",
              "    .colab-df-container {\n",
              "      display:flex;\n",
              "      gap: 12px;\n",
              "    }\n",
              "\n",
              "    .colab-df-convert {\n",
              "      background-color: #E8F0FE;\n",
              "      border: none;\n",
              "      border-radius: 50%;\n",
              "      cursor: pointer;\n",
              "      display: none;\n",
              "      fill: #1967D2;\n",
              "      height: 32px;\n",
              "      padding: 0 0 0 0;\n",
              "      width: 32px;\n",
              "    }\n",
              "\n",
              "    .colab-df-convert:hover {\n",
              "      background-color: #E2EBFA;\n",
              "      box-shadow: 0px 1px 2px rgba(60, 64, 67, 0.3), 0px 1px 3px 1px rgba(60, 64, 67, 0.15);\n",
              "      fill: #174EA6;\n",
              "    }\n",
              "\n",
              "    .colab-df-buttons div {\n",
              "      margin-bottom: 4px;\n",
              "    }\n",
              "\n",
              "    [theme=dark] .colab-df-convert {\n",
              "      background-color: #3B4455;\n",
              "      fill: #D2E3FC;\n",
              "    }\n",
              "\n",
              "    [theme=dark] .colab-df-convert:hover {\n",
              "      background-color: #434B5C;\n",
              "      box-shadow: 0px 1px 3px 1px rgba(0, 0, 0, 0.15);\n",
              "      filter: drop-shadow(0px 1px 2px rgba(0, 0, 0, 0.3));\n",
              "      fill: #FFFFFF;\n",
              "    }\n",
              "  </style>\n",
              "\n",
              "    <script>\n",
              "      const buttonEl =\n",
              "        document.querySelector('#df-211b3771-866b-4933-a95f-ac8d5b94cef8 button.colab-df-convert');\n",
              "      buttonEl.style.display =\n",
              "        google.colab.kernel.accessAllowed ? 'block' : 'none';\n",
              "\n",
              "      async function convertToInteractive(key) {\n",
              "        const element = document.querySelector('#df-211b3771-866b-4933-a95f-ac8d5b94cef8');\n",
              "        const dataTable =\n",
              "          await google.colab.kernel.invokeFunction('convertToInteractive',\n",
              "                                                    [key], {});\n",
              "        if (!dataTable) return;\n",
              "\n",
              "        const docLinkHtml = 'Like what you see? Visit the ' +\n",
              "          '<a target=\"_blank\" href=https://colab.research.google.com/notebooks/data_table.ipynb>data table notebook</a>'\n",
              "          + ' to learn more about interactive tables.';\n",
              "        element.innerHTML = '';\n",
              "        dataTable['output_type'] = 'display_data';\n",
              "        await google.colab.output.renderOutput(dataTable, element);\n",
              "        const docLink = document.createElement('div');\n",
              "        docLink.innerHTML = docLinkHtml;\n",
              "        element.appendChild(docLink);\n",
              "      }\n",
              "    </script>\n",
              "  </div>\n",
              "\n",
              "\n",
              "<div id=\"df-535c5bda-ce4e-4c43-9d4a-d07e683e127d\">\n",
              "  <button class=\"colab-df-quickchart\" onclick=\"quickchart('df-535c5bda-ce4e-4c43-9d4a-d07e683e127d')\"\n",
              "            title=\"Suggest charts\"\n",
              "            style=\"display:none;\">\n",
              "\n",
              "<svg xmlns=\"http://www.w3.org/2000/svg\" height=\"24px\"viewBox=\"0 0 24 24\"\n",
              "     width=\"24px\">\n",
              "    <g>\n",
              "        <path d=\"M19 3H5c-1.1 0-2 .9-2 2v14c0 1.1.9 2 2 2h14c1.1 0 2-.9 2-2V5c0-1.1-.9-2-2-2zM9 17H7v-7h2v7zm4 0h-2V7h2v10zm4 0h-2v-4h2v4z\"/>\n",
              "    </g>\n",
              "</svg>\n",
              "  </button>\n",
              "\n",
              "<style>\n",
              "  .colab-df-quickchart {\n",
              "      --bg-color: #E8F0FE;\n",
              "      --fill-color: #1967D2;\n",
              "      --hover-bg-color: #E2EBFA;\n",
              "      --hover-fill-color: #174EA6;\n",
              "      --disabled-fill-color: #AAA;\n",
              "      --disabled-bg-color: #DDD;\n",
              "  }\n",
              "\n",
              "  [theme=dark] .colab-df-quickchart {\n",
              "      --bg-color: #3B4455;\n",
              "      --fill-color: #D2E3FC;\n",
              "      --hover-bg-color: #434B5C;\n",
              "      --hover-fill-color: #FFFFFF;\n",
              "      --disabled-bg-color: #3B4455;\n",
              "      --disabled-fill-color: #666;\n",
              "  }\n",
              "\n",
              "  .colab-df-quickchart {\n",
              "    background-color: var(--bg-color);\n",
              "    border: none;\n",
              "    border-radius: 50%;\n",
              "    cursor: pointer;\n",
              "    display: none;\n",
              "    fill: var(--fill-color);\n",
              "    height: 32px;\n",
              "    padding: 0;\n",
              "    width: 32px;\n",
              "  }\n",
              "\n",
              "  .colab-df-quickchart:hover {\n",
              "    background-color: var(--hover-bg-color);\n",
              "    box-shadow: 0 1px 2px rgba(60, 64, 67, 0.3), 0 1px 3px 1px rgba(60, 64, 67, 0.15);\n",
              "    fill: var(--button-hover-fill-color);\n",
              "  }\n",
              "\n",
              "  .colab-df-quickchart-complete:disabled,\n",
              "  .colab-df-quickchart-complete:disabled:hover {\n",
              "    background-color: var(--disabled-bg-color);\n",
              "    fill: var(--disabled-fill-color);\n",
              "    box-shadow: none;\n",
              "  }\n",
              "\n",
              "  .colab-df-spinner {\n",
              "    border: 2px solid var(--fill-color);\n",
              "    border-color: transparent;\n",
              "    border-bottom-color: var(--fill-color);\n",
              "    animation:\n",
              "      spin 1s steps(1) infinite;\n",
              "  }\n",
              "\n",
              "  @keyframes spin {\n",
              "    0% {\n",
              "      border-color: transparent;\n",
              "      border-bottom-color: var(--fill-color);\n",
              "      border-left-color: var(--fill-color);\n",
              "    }\n",
              "    20% {\n",
              "      border-color: transparent;\n",
              "      border-left-color: var(--fill-color);\n",
              "      border-top-color: var(--fill-color);\n",
              "    }\n",
              "    30% {\n",
              "      border-color: transparent;\n",
              "      border-left-color: var(--fill-color);\n",
              "      border-top-color: var(--fill-color);\n",
              "      border-right-color: var(--fill-color);\n",
              "    }\n",
              "    40% {\n",
              "      border-color: transparent;\n",
              "      border-right-color: var(--fill-color);\n",
              "      border-top-color: var(--fill-color);\n",
              "    }\n",
              "    60% {\n",
              "      border-color: transparent;\n",
              "      border-right-color: var(--fill-color);\n",
              "    }\n",
              "    80% {\n",
              "      border-color: transparent;\n",
              "      border-right-color: var(--fill-color);\n",
              "      border-bottom-color: var(--fill-color);\n",
              "    }\n",
              "    90% {\n",
              "      border-color: transparent;\n",
              "      border-bottom-color: var(--fill-color);\n",
              "    }\n",
              "  }\n",
              "</style>\n",
              "\n",
              "  <script>\n",
              "    async function quickchart(key) {\n",
              "      const quickchartButtonEl =\n",
              "        document.querySelector('#' + key + ' button');\n",
              "      quickchartButtonEl.disabled = true;  // To prevent multiple clicks.\n",
              "      quickchartButtonEl.classList.add('colab-df-spinner');\n",
              "      try {\n",
              "        const charts = await google.colab.kernel.invokeFunction(\n",
              "            'suggestCharts', [key], {});\n",
              "      } catch (error) {\n",
              "        console.error('Error during call to suggestCharts:', error);\n",
              "      }\n",
              "      quickchartButtonEl.classList.remove('colab-df-spinner');\n",
              "      quickchartButtonEl.classList.add('colab-df-quickchart-complete');\n",
              "    }\n",
              "    (() => {\n",
              "      let quickchartButtonEl =\n",
              "        document.querySelector('#df-535c5bda-ce4e-4c43-9d4a-d07e683e127d button');\n",
              "      quickchartButtonEl.style.display =\n",
              "        google.colab.kernel.accessAllowed ? 'block' : 'none';\n",
              "    })();\n",
              "  </script>\n",
              "</div>\n",
              "\n",
              "    </div>\n",
              "  </div>\n"
            ],
            "application/vnd.google.colaboratory.intrinsic+json": {
              "type": "dataframe",
              "summary": "{\n  \"name\": \"pd\",\n  \"rows\": 50,\n  \"fields\": [\n    {\n      \"column\": \"loss\",\n      \"properties\": {\n        \"dtype\": \"number\",\n        \"std\": 0.001615469761181727,\n        \"min\": 4.239342160872184e-06,\n        \"max\": 0.009747511707246304,\n        \"num_unique_values\": 50,\n        \"samples\": [\n          0.00022154205362312496,\n          1.0882985407079104e-05,\n          2.7032376237912104e-05\n        ],\n        \"semantic_type\": \"\",\n        \"description\": \"\"\n      }\n    },\n    {\n      \"column\": \"accuracy\",\n      \"properties\": {\n        \"dtype\": \"number\",\n        \"std\": 0.00012623518111318916,\n        \"min\": 0.9991999864578247,\n        \"max\": 1.0,\n        \"num_unique_values\": 4,\n        \"samples\": [\n          0.9995999932289124,\n          1.0,\n          0.9991999864578247\n        ],\n        \"semantic_type\": \"\",\n        \"description\": \"\"\n      }\n    },\n    {\n      \"column\": \"val_loss\",\n      \"properties\": {\n        \"dtype\": \"number\",\n        \"std\": 0.13688972071442232,\n        \"min\": 0.5209762454032898,\n        \"max\": 1.033135175704956,\n        \"num_unique_values\": 50,\n        \"samples\": [\n          0.7426937818527222,\n          0.9565432071685791,\n          0.9033730030059814\n        ],\n        \"semantic_type\": \"\",\n        \"description\": \"\"\n      }\n    },\n    {\n      \"column\": \"val_accuracy\",\n      \"properties\": {\n        \"dtype\": \"number\",\n        \"std\": 0.004427923935897499,\n        \"min\": 0.8320000171661377,\n        \"max\": 0.8560000061988831,\n        \"num_unique_values\": 10,\n        \"samples\": [\n          0.8320000171661377,\n          0.8519999980926514,\n          0.8420000076293945\n        ],\n        \"semantic_type\": \"\",\n        \"description\": \"\"\n      }\n    }\n  ]\n}"
            }
          },
          "metadata": {},
          "execution_count": 16
        }
      ]
    },
    {
      "cell_type": "code",
      "source": [
        "from plotnine import *"
      ],
      "metadata": {
        "id": "FgFSY4NRazjZ"
      },
      "execution_count": null,
      "outputs": []
    },
    {
      "cell_type": "code",
      "source": [
        "( pd.DataFrame(history_ffn_embed.history) >>\n",
        " ggplot(aes(x=pd.DataFrame(history_ffn_embed.history).index, y='accuracy')) +\n",
        " geom_line(color = \"blue\") +\n",
        " geom_line(aes(y='val_accuracy'), color = \"red\") +\n",
        " theme_minimal() +\n",
        "  labs(x=\"Epochs\", y=\"Accuracy\",\n",
        "       title= \"Accuracy Measures on Simple FFN\",\n",
        "       subtitle = \"With Embeddings\") +\n",
        "  annotate(\n",
        "      \"text\",\n",
        "      x = 30,\n",
        "      y = 0.99,\n",
        "      label = \"Training Acccuracy\",\n",
        "      color = \"blue\",\n",
        "      size = 10\n",
        "  ) +\n",
        "  annotate(\n",
        "      \"text\",\n",
        "      x = 40,\n",
        "      y = 0.81,\n",
        "      label = \"Validation Acccuracy\",\n",
        "      color = \"red\",\n",
        "      size = 10\n",
        "  )\n",
        " )"
      ],
      "metadata": {
        "colab": {
          "base_uri": "https://localhost:8080/",
          "height": 514
        },
        "id": "_ia-4j_yahBZ",
        "outputId": "8ac2d47a-3a7c-4c10-b73d-87560a893939"
      },
      "execution_count": null,
      "outputs": [
        {
          "output_type": "display_data",
          "data": {
            "text/plain": [
              "<Figure size 640x480 with 1 Axes>"
            ],
            "image/png": "[encoded data removed]"
          },
          "metadata": {
            "image/png": {
              "width": 640,
              "height": 480
            },
            "needs_background": "light"
          }
        },
        {
          "output_type": "execute_result",
          "data": {
            "text/plain": [
              "<Figure Size: (640 x 480)>"
            ]
          },
          "metadata": {},
          "execution_count": 18
        }
      ]
    },
    {
      "cell_type": "code",
      "source": [
        "pd.DataFrame(history_ffn_embed.history).to_csv('history_ffn_embed.csv')"
      ],
      "metadata": {
        "id": "c38u5wcEe5L-"
      },
      "execution_count": null,
      "outputs": []
    }
  ]
}