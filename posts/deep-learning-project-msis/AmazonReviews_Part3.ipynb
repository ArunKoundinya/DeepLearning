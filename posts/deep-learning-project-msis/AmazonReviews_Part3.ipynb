{
  "nbformat": 4,
  "nbformat_minor": 0,
  "metadata": {
    "colab": {
      "provenance": [],
      "gpuType": "T4",
      "machine_shape": "hm",
      "authorship_tag": "ABX9TyM4Xg9Cddds+C+kwlaeKf6f",
      "include_colab_link": true
    },
    "kernelspec": {
      "name": "python3",
      "display_name": "Python 3"
    },
    "language_info": {
      "name": "python"
    },
    "accelerator": "GPU"
  },
  "cells": [
    {
      "cell_type": "markdown",
      "metadata": {
        "id": "view-in-github",
        "colab_type": "text"
      },
      "source": [
        "<a href=\"https://colab.research.google.com/github/ArunKoundinya/DeepLearning/blob/main/posts/deep-learning-project-msis/AmazonReviews_Part3.ipynb\" target=\"_parent\"><img src=\"https://colab.research.google.com/assets/colab-badge.svg\" alt=\"Open In Colab\"/></a>"
      ]
    },
    {
      "cell_type": "markdown",
      "source": [
        "# Amazon Reviews Sentiment Analysis - Part 3\n"
      ],
      "metadata": {
        "id": "-IW-stldq9rN"
      }
    },
    {
      "cell_type": "markdown",
      "source": [
        "In this file we will perform the following steps\n",
        "\n",
        "-  Loading the Data\n",
        "-  Feedforward NN  on 10K Dataset\n",
        "-  Feedforward NN  on 20K Dataset\n",
        "-  Feedforward NN  on 1Lac Dataset\n",
        "-  Feedforward NN  on Whole Dataset { Ambitious }"
      ],
      "metadata": {
        "id": "ZCdtqnGHrApP"
      }
    },
    {
      "cell_type": "markdown",
      "source": [
        "## Table of Contents\n",
        "- [1 - Packages](#1)\n",
        "- [2 - Loading the Dataset](#2)\n",
        "- [3 - Feed Forward NN](#3)\n",
        "    - [With 10K](#base-model-1)\n",
        "    - [With 10K](#base-model-2)\n",
        "    - [With 1 Lac](#base-model-3)\n",
        "    - [Whole Dataset](#base-model-4)"
      ],
      "metadata": {
        "id": "V-AmWCe1r71C"
      }
    },
    {
      "cell_type": "markdown",
      "source": [
        "<a name='1'></a>\n",
        "## 1 - Loading the Packages"
      ],
      "metadata": {
        "id": "bX-XjpAVEnAx"
      }
    },
    {
      "cell_type": "code",
      "source": [
        "!pip install pandarallel"
      ],
      "metadata": {
        "colab": {
          "base_uri": "https://localhost:8080/"
        },
        "id": "D4PTdVCUq_-l",
        "outputId": "9f0582c8-7e0f-45c9-c6e0-b5abc97d6cde"
      },
      "execution_count": null,
      "outputs": [
        {
          "output_type": "stream",
          "name": "stdout",
          "text": [
            "Collecting pandarallel\n",
            "  Downloading pandarallel-1.6.5.tar.gz (14 kB)\n",
            "  Preparing metadata (setup.py) ... \u001b[?25l\u001b[?25hdone\n",
            "Collecting dill>=0.3.1 (from pandarallel)\n",
            "  Downloading dill-0.3.8-py3-none-any.whl (116 kB)\n",
            "\u001b[2K     \u001b[90m━━━━━━━━━━━━━━━━━━━━━━━━━━━━━━━━━━━━━━━━\u001b[0m \u001b[32m116.3/116.3 kB\u001b[0m \u001b[31m2.7 MB/s\u001b[0m eta \u001b[36m0:00:00\u001b[0m\n",
            "\u001b[?25hRequirement already satisfied: pandas>=1 in /usr/local/lib/python3.10/dist-packages (from pandarallel) (2.0.3)\n",
            "Requirement already satisfied: psutil in /usr/local/lib/python3.10/dist-packages (from pandarallel) (5.9.5)\n",
            "Requirement already satisfied: python-dateutil>=2.8.2 in /usr/local/lib/python3.10/dist-packages (from pandas>=1->pandarallel) (2.8.2)\n",
            "Requirement already satisfied: pytz>=2020.1 in /usr/local/lib/python3.10/dist-packages (from pandas>=1->pandarallel) (2023.4)\n",
            "Requirement already satisfied: tzdata>=2022.1 in /usr/local/lib/python3.10/dist-packages (from pandas>=1->pandarallel) (2024.1)\n",
            "Requirement already satisfied: numpy>=1.21.0 in /usr/local/lib/python3.10/dist-packages (from pandas>=1->pandarallel) (1.25.2)\n",
            "Requirement already satisfied: six>=1.5 in /usr/local/lib/python3.10/dist-packages (from python-dateutil>=2.8.2->pandas>=1->pandarallel) (1.16.0)\n",
            "Building wheels for collected packages: pandarallel\n",
            "  Building wheel for pandarallel (setup.py) ... \u001b[?25l\u001b[?25hdone\n",
            "  Created wheel for pandarallel: filename=pandarallel-1.6.5-py3-none-any.whl size=16673 sha256=45e8a6b503fab437c15fdd400f7a1351e7c6db074d4338bc86f19a82e1dfe898\n",
            "  Stored in directory: /root/.cache/pip/wheels/50/4f/1e/34e057bb868842209f1623f195b74fd7eda229308a7352d47f\n",
            "Successfully built pandarallel\n",
            "Installing collected packages: dill, pandarallel\n",
            "Successfully installed dill-0.3.8 pandarallel-1.6.5\n"
          ]
        }
      ]
    },
    {
      "cell_type": "code",
      "source": [
        "from google.colab import drive\n",
        "import os\n",
        "import pandas as pd\n",
        "import numpy as np\n",
        "import tensorflow as tf\n",
        "\n",
        "from sklearn.model_selection import train_test_split\n",
        "\n",
        "from sklearn.feature_extraction.text import CountVectorizer\n",
        "from sklearn.feature_extraction.text import TfidfVectorizer\n",
        "\n",
        "from tensorflow.keras.preprocessing.text import Tokenizer\n",
        "from tensorflow.keras.preprocessing.sequence import pad_sequences\n",
        "from tensorflow.keras.models import Sequential\n",
        "\n",
        "from tensorflow.keras.optimizers import Adam\n",
        "from tensorflow.keras.initializers import GlorotUniform\n",
        "\n",
        "\n",
        "from sklearn.metrics import accuracy_score, classification_report\n",
        "\n",
        "from pandarallel import pandarallel"
      ],
      "metadata": {
        "id": "4iV0QddysVTQ"
      },
      "execution_count": null,
      "outputs": []
    },
    {
      "cell_type": "markdown",
      "source": [
        "<a name='2'></a>\n",
        "## 2 - Loading the Dataset"
      ],
      "metadata": {
        "id": "N4XJ2siktgXx"
      }
    },
    {
      "cell_type": "code",
      "source": [
        "drive.mount('/content/drive')\n",
        "os.chdir('/content/drive/My Drive/MSIS/IntroductiontoDeepLearning/Project/')\n",
        "\n",
        "testdata = pd.read_csv('test_data_sample_complete.csv')\n",
        "traindata = pd.read_csv('train_data_sample_complete.csv')\n"
      ],
      "metadata": {
        "colab": {
          "base_uri": "https://localhost:8080/"
        },
        "id": "cX-GCuzGtjTa",
        "outputId": "a1cd4175-6a61-4fab-a1b9-24df9b335d57"
      },
      "execution_count": null,
      "outputs": [
        {
          "output_type": "stream",
          "name": "stdout",
          "text": [
            "Mounted at /content/drive\n"
          ]
        }
      ]
    },
    {
      "cell_type": "markdown",
      "source": [
        "<a name='3'></a>\n",
        "## 3 - Feed Foward NN"
      ],
      "metadata": {
        "id": "aQvwZQ8fttsS"
      }
    },
    {
      "cell_type": "markdown",
      "source": [
        "<a name='base-model-1'></a>\n",
        "### 3.1 - Feed Foward NN with 10K"
      ],
      "metadata": {
        "id": "8TadFSTVuJkJ"
      }
    },
    {
      "cell_type": "code",
      "source": [
        "# Initialize pandarallel\n",
        "pandarallel.initialize(progress_bar=True)"
      ],
      "metadata": {
        "colab": {
          "base_uri": "https://localhost:8080/"
        },
        "id": "c2kZJJzU0ST0",
        "outputId": "b413d544-07e8-4f3b-cada-57a7d3eef2fd"
      },
      "execution_count": null,
      "outputs": [
        {
          "output_type": "stream",
          "name": "stdout",
          "text": [
            "INFO: Pandarallel will run on 4 workers.\n",
            "INFO: Pandarallel will use Memory file system to transfer data between the main process and workers.\n"
          ]
        }
      ]
    },
    {
      "cell_type": "code",
      "source": [
        "traindata.head()"
      ],
      "metadata": {
        "colab": {
          "base_uri": "https://localhost:8080/",
          "height": 206
        },
        "id": "KxfvtABMwgGM",
        "outputId": "3733bc89-12e2-4174-ad05-446fe3d8a404"
      },
      "execution_count": null,
      "outputs": [
        {
          "output_type": "execute_result",
          "data": {
            "text/plain": [
              "   class_index                              review_combined_lemma\n",
              "0            2  stuning even nongamer sound track beautiful pa...\n",
              "1            2  best soundtrack ever anything im reading lot r...\n",
              "2            2  amazing soundtrack favorite music time hand in...\n",
              "3            2  excellent soundtrack truly like soundtrack enj...\n",
              "4            2  remember pull jaw floor hearing youve played g..."
            ],
            "text/html": [
              "\n",
              "  <div id=\"df-8e9c4047-d258-4202-8129-15bf04b8c682\" class=\"colab-df-container\">\n",
              "    <div>\n",
              "<style scoped>\n",
              "    .dataframe tbody tr th:only-of-type {\n",
              "        vertical-align: middle;\n",
              "    }\n",
              "\n",
              "    .dataframe tbody tr th {\n",
              "        vertical-align: top;\n",
              "    }\n",
              "\n",
              "    .dataframe thead th {\n",
              "        text-align: right;\n",
              "    }\n",
              "</style>\n",
              "<table border=\"1\" class=\"dataframe\">\n",
              "  <thead>\n",
              "    <tr style=\"text-align: right;\">\n",
              "      <th></th>\n",
              "      <th>class_index</th>\n",
              "      <th>review_combined_lemma</th>\n",
              "    </tr>\n",
              "  </thead>\n",
              "  <tbody>\n",
              "    <tr>\n",
              "      <th>0</th>\n",
              "      <td>2</td>\n",
              "      <td>stuning even nongamer sound track beautiful pa...</td>\n",
              "    </tr>\n",
              "    <tr>\n",
              "      <th>1</th>\n",
              "      <td>2</td>\n",
              "      <td>best soundtrack ever anything im reading lot r...</td>\n",
              "    </tr>\n",
              "    <tr>\n",
              "      <th>2</th>\n",
              "      <td>2</td>\n",
              "      <td>amazing soundtrack favorite music time hand in...</td>\n",
              "    </tr>\n",
              "    <tr>\n",
              "      <th>3</th>\n",
              "      <td>2</td>\n",
              "      <td>excellent soundtrack truly like soundtrack enj...</td>\n",
              "    </tr>\n",
              "    <tr>\n",
              "      <th>4</th>\n",
              "      <td>2</td>\n",
              "      <td>remember pull jaw floor hearing youve played g...</td>\n",
              "    </tr>\n",
              "  </tbody>\n",
              "</table>\n",
              "</div>\n",
              "    <div class=\"colab-df-buttons\">\n",
              "\n",
              "  <div class=\"colab-df-container\">\n",
              "    <button class=\"colab-df-convert\" onclick=\"convertToInteractive('df-8e9c4047-d258-4202-8129-15bf04b8c682')\"\n",
              "            title=\"Convert this dataframe to an interactive table.\"\n",
              "            style=\"display:none;\">\n",
              "\n",
              "  <svg xmlns=\"http://www.w3.org/2000/svg\" height=\"24px\" viewBox=\"0 -960 960 960\">\n",
              "    <path d=\"M120-120v-720h720v720H120Zm60-500h600v-160H180v160Zm220 220h160v-160H400v160Zm0 220h160v-160H400v160ZM180-400h160v-160H180v160Zm440 0h160v-160H620v160ZM180-180h160v-160H180v160Zm440 0h160v-160H620v160Z\"/>\n",
              "  </svg>\n",
              "    </button>\n",
              "\n",
              "  <style>\n",
              "    .colab-df-container {\n",
              "      display:flex;\n",
              "      gap: 12px;\n",
              "    }\n",
              "\n",
              "    .colab-df-convert {\n",
              "      background-color: #E8F0FE;\n",
              "      border: none;\n",
              "      border-radius: 50%;\n",
              "      cursor: pointer;\n",
              "      display: none;\n",
              "      fill: #1967D2;\n",
              "      height: 32px;\n",
              "      padding: 0 0 0 0;\n",
              "      width: 32px;\n",
              "    }\n",
              "\n",
              "    .colab-df-convert:hover {\n",
              "      background-color: #E2EBFA;\n",
              "      box-shadow: 0px 1px 2px rgba(60, 64, 67, 0.3), 0px 1px 3px 1px rgba(60, 64, 67, 0.15);\n",
              "      fill: #174EA6;\n",
              "    }\n",
              "\n",
              "    .colab-df-buttons div {\n",
              "      margin-bottom: 4px;\n",
              "    }\n",
              "\n",
              "    [theme=dark] .colab-df-convert {\n",
              "      background-color: #3B4455;\n",
              "      fill: #D2E3FC;\n",
              "    }\n",
              "\n",
              "    [theme=dark] .colab-df-convert:hover {\n",
              "      background-color: #434B5C;\n",
              "      box-shadow: 0px 1px 3px 1px rgba(0, 0, 0, 0.15);\n",
              "      filter: drop-shadow(0px 1px 2px rgba(0, 0, 0, 0.3));\n",
              "      fill: #FFFFFF;\n",
              "    }\n",
              "  </style>\n",
              "\n",
              "    <script>\n",
              "      const buttonEl =\n",
              "        document.querySelector('#df-8e9c4047-d258-4202-8129-15bf04b8c682 button.colab-df-convert');\n",
              "      buttonEl.style.display =\n",
              "        google.colab.kernel.accessAllowed ? 'block' : 'none';\n",
              "\n",
              "      async function convertToInteractive(key) {\n",
              "        const element = document.querySelector('#df-8e9c4047-d258-4202-8129-15bf04b8c682');\n",
              "        const dataTable =\n",
              "          await google.colab.kernel.invokeFunction('convertToInteractive',\n",
              "                                                    [key], {});\n",
              "        if (!dataTable) return;\n",
              "\n",
              "        const docLinkHtml = 'Like what you see? Visit the ' +\n",
              "          '<a target=\"_blank\" href=https://colab.research.google.com/notebooks/data_table.ipynb>data table notebook</a>'\n",
              "          + ' to learn more about interactive tables.';\n",
              "        element.innerHTML = '';\n",
              "        dataTable['output_type'] = 'display_data';\n",
              "        await google.colab.output.renderOutput(dataTable, element);\n",
              "        const docLink = document.createElement('div');\n",
              "        docLink.innerHTML = docLinkHtml;\n",
              "        element.appendChild(docLink);\n",
              "      }\n",
              "    </script>\n",
              "  </div>\n",
              "\n",
              "\n",
              "<div id=\"df-453a128c-ac4f-430a-9793-def1a4f87492\">\n",
              "  <button class=\"colab-df-quickchart\" onclick=\"quickchart('df-453a128c-ac4f-430a-9793-def1a4f87492')\"\n",
              "            title=\"Suggest charts\"\n",
              "            style=\"display:none;\">\n",
              "\n",
              "<svg xmlns=\"http://www.w3.org/2000/svg\" height=\"24px\"viewBox=\"0 0 24 24\"\n",
              "     width=\"24px\">\n",
              "    <g>\n",
              "        <path d=\"M19 3H5c-1.1 0-2 .9-2 2v14c0 1.1.9 2 2 2h14c1.1 0 2-.9 2-2V5c0-1.1-.9-2-2-2zM9 17H7v-7h2v7zm4 0h-2V7h2v10zm4 0h-2v-4h2v4z\"/>\n",
              "    </g>\n",
              "</svg>\n",
              "  </button>\n",
              "\n",
              "<style>\n",
              "  .colab-df-quickchart {\n",
              "      --bg-color: #E8F0FE;\n",
              "      --fill-color: #1967D2;\n",
              "      --hover-bg-color: #E2EBFA;\n",
              "      --hover-fill-color: #174EA6;\n",
              "      --disabled-fill-color: #AAA;\n",
              "      --disabled-bg-color: #DDD;\n",
              "  }\n",
              "\n",
              "  [theme=dark] .colab-df-quickchart {\n",
              "      --bg-color: #3B4455;\n",
              "      --fill-color: #D2E3FC;\n",
              "      --hover-bg-color: #434B5C;\n",
              "      --hover-fill-color: #FFFFFF;\n",
              "      --disabled-bg-color: #3B4455;\n",
              "      --disabled-fill-color: #666;\n",
              "  }\n",
              "\n",
              "  .colab-df-quickchart {\n",
              "    background-color: var(--bg-color);\n",
              "    border: none;\n",
              "    border-radius: 50%;\n",
              "    cursor: pointer;\n",
              "    display: none;\n",
              "    fill: var(--fill-color);\n",
              "    height: 32px;\n",
              "    padding: 0;\n",
              "    width: 32px;\n",
              "  }\n",
              "\n",
              "  .colab-df-quickchart:hover {\n",
              "    background-color: var(--hover-bg-color);\n",
              "    box-shadow: 0 1px 2px rgba(60, 64, 67, 0.3), 0 1px 3px 1px rgba(60, 64, 67, 0.15);\n",
              "    fill: var(--button-hover-fill-color);\n",
              "  }\n",
              "\n",
              "  .colab-df-quickchart-complete:disabled,\n",
              "  .colab-df-quickchart-complete:disabled:hover {\n",
              "    background-color: var(--disabled-bg-color);\n",
              "    fill: var(--disabled-fill-color);\n",
              "    box-shadow: none;\n",
              "  }\n",
              "\n",
              "  .colab-df-spinner {\n",
              "    border: 2px solid var(--fill-color);\n",
              "    border-color: transparent;\n",
              "    border-bottom-color: var(--fill-color);\n",
              "    animation:\n",
              "      spin 1s steps(1) infinite;\n",
              "  }\n",
              "\n",
              "  @keyframes spin {\n",
              "    0% {\n",
              "      border-color: transparent;\n",
              "      border-bottom-color: var(--fill-color);\n",
              "      border-left-color: var(--fill-color);\n",
              "    }\n",
              "    20% {\n",
              "      border-color: transparent;\n",
              "      border-left-color: var(--fill-color);\n",
              "      border-top-color: var(--fill-color);\n",
              "    }\n",
              "    30% {\n",
              "      border-color: transparent;\n",
              "      border-left-color: var(--fill-color);\n",
              "      border-top-color: var(--fill-color);\n",
              "      border-right-color: var(--fill-color);\n",
              "    }\n",
              "    40% {\n",
              "      border-color: transparent;\n",
              "      border-right-color: var(--fill-color);\n",
              "      border-top-color: var(--fill-color);\n",
              "    }\n",
              "    60% {\n",
              "      border-color: transparent;\n",
              "      border-right-color: var(--fill-color);\n",
              "    }\n",
              "    80% {\n",
              "      border-color: transparent;\n",
              "      border-right-color: var(--fill-color);\n",
              "      border-bottom-color: var(--fill-color);\n",
              "    }\n",
              "    90% {\n",
              "      border-color: transparent;\n",
              "      border-bottom-color: var(--fill-color);\n",
              "    }\n",
              "  }\n",
              "</style>\n",
              "\n",
              "  <script>\n",
              "    async function quickchart(key) {\n",
              "      const quickchartButtonEl =\n",
              "        document.querySelector('#' + key + ' button');\n",
              "      quickchartButtonEl.disabled = true;  // To prevent multiple clicks.\n",
              "      quickchartButtonEl.classList.add('colab-df-spinner');\n",
              "      try {\n",
              "        const charts = await google.colab.kernel.invokeFunction(\n",
              "            'suggestCharts', [key], {});\n",
              "      } catch (error) {\n",
              "        console.error('Error during call to suggestCharts:', error);\n",
              "      }\n",
              "      quickchartButtonEl.classList.remove('colab-df-spinner');\n",
              "      quickchartButtonEl.classList.add('colab-df-quickchart-complete');\n",
              "    }\n",
              "    (() => {\n",
              "      let quickchartButtonEl =\n",
              "        document.querySelector('#df-453a128c-ac4f-430a-9793-def1a4f87492 button');\n",
              "      quickchartButtonEl.style.display =\n",
              "        google.colab.kernel.accessAllowed ? 'block' : 'none';\n",
              "    })();\n",
              "  </script>\n",
              "</div>\n",
              "\n",
              "    </div>\n",
              "  </div>\n"
            ],
            "application/vnd.google.colaboratory.intrinsic+json": {
              "type": "dataframe",
              "variable_name": "traindata"
            }
          },
          "metadata": {},
          "execution_count": 5
        }
      ]
    },
    {
      "cell_type": "code",
      "source": [
        "train_data = traindata.sample(n=10000, random_state=42)\n",
        "test_data = testdata.sample(n=1000, random_state=42)\n",
        "\n",
        "train_data['class_index'] = train_data['class_index'].map({1:0, 2:1})\n",
        "test_data['class_index'] = test_data['class_index'].map({1:0, 2:1})\n",
        "\n",
        "train_data['review_combined_lemma'] = train_data['review_combined_lemma'].fillna('')\n",
        "test_data['review_combined_lemma'] = test_data['review_combined_lemma'].fillna('')\n",
        "\n",
        "X_train = train_data.review_combined_lemma\n",
        "y_train = np.array(train_data.class_index)\n",
        "\n",
        "X = test_data.review_combined_lemma\n",
        "y = np.array(test_data.class_index)\n",
        "\n",
        "tokenizer = Tokenizer(oov_token=\"<UNK>\",)\n",
        "tokenizer.fit_on_texts(X_train)"
      ],
      "metadata": {
        "id": "Xcb7oWv3tnLE"
      },
      "execution_count": null,
      "outputs": []
    },
    {
      "cell_type": "code",
      "source": [
        "tokenizer.word_index['<PAD>'] = 0"
      ],
      "metadata": {
        "id": "XUNTOhiz0bW9"
      },
      "execution_count": null,
      "outputs": []
    },
    {
      "cell_type": "code",
      "source": [
        "X_sequences_train = tokenizer.texts_to_sequences(X_train)\n",
        "\n",
        "X_sequences = tokenizer.texts_to_sequences(X)\n",
        "\n",
        "X_train = pad_sequences(X_sequences_train, maxlen=100)\n",
        "X = pad_sequences(X_sequences, maxlen=100)\n",
        "\n",
        "X_dev, X_test, y_dev, y_test = train_test_split(X, y, test_size=0.2, random_state=42)"
      ],
      "metadata": {
        "id": "Vv99EAjW0Zk8"
      },
      "execution_count": null,
      "outputs": []
    },
    {
      "cell_type": "code",
      "source": [
        "print(X_train.shape)\n",
        "print(X_dev.shape)\n",
        "print(X_test.shape)"
      ],
      "metadata": {
        "colab": {
          "base_uri": "https://localhost:8080/"
        },
        "id": "rwtfo0Pf1JtU",
        "outputId": "df8acb2c-c563-4457-fe0b-a0fd537522d6"
      },
      "execution_count": null,
      "outputs": [
        {
          "output_type": "stream",
          "name": "stdout",
          "text": [
            "(10000, 100)\n",
            "(800, 100)\n",
            "(200, 100)\n"
          ]
        }
      ]
    },
    {
      "cell_type": "code",
      "source": [
        "train_data['class_index'].value_counts()"
      ],
      "metadata": {
        "colab": {
          "base_uri": "https://localhost:8080/"
        },
        "id": "jrBbQb7ZapfP",
        "outputId": "2fbb057c-ae8a-4d84-cee2-b136c8d27cb6"
      },
      "execution_count": null,
      "outputs": [
        {
          "output_type": "execute_result",
          "data": {
            "text/plain": [
              "class_index\n",
              "1    5046\n",
              "0    4954\n",
              "Name: count, dtype: int64"
            ]
          },
          "metadata": {},
          "execution_count": 11
        }
      ]
    },
    {
      "cell_type": "code",
      "source": [
        "X_train[0]"
      ],
      "metadata": {
        "colab": {
          "base_uri": "https://localhost:8080/"
        },
        "id": "cgo9prGwgjn8",
        "outputId": "918cfca7-edc6-4536-ea12-96803067e740"
      },
      "execution_count": null,
      "outputs": [
        {
          "output_type": "execute_result",
          "data": {
            "text/plain": [
              "array([    0,     0,     0,     0,     0,     0,     0,     0,     0,\n",
              "           0,     0,     0,     0,     0,     0,     0,     0,     0,\n",
              "           0,     0,     0,     0,     0,     0,     0,     0,     0,\n",
              "           0,     0,     0,     0,     0,     0,     0,     0,     0,\n",
              "           0,     0,     0,     0,     0,     0,     0,     0,   644,\n",
              "         485,    22,  3738,   150,   871,  4544, 16034,   408,  6603,\n",
              "        5926,  2882,   458,  3739, 16035,   481,   255,   169,    39,\n",
              "       16036,  2882, 16037,   231,  2755,  6603,   163,  8994,  2882,\n",
              "         150,   159,  2560, 16038,   458,  3739,   562,   319,   256,\n",
              "        2756,   749,   179,   193, 16039,    95, 16040,  1520,   769,\n",
              "          30,  1292,  2000,  1498, 16041,   754,   128,    19,   577,\n",
              "         485], dtype=int32)"
            ]
          },
          "metadata": {},
          "execution_count": 12
        }
      ]
    },
    {
      "cell_type": "code",
      "source": [
        "len(tokenizer.word_index)"
      ],
      "metadata": {
        "colab": {
          "base_uri": "https://localhost:8080/"
        },
        "id": "YCgUeyH-2uTG",
        "outputId": "65c6f496-767b-49c4-c6e3-3f8557160b04"
      },
      "execution_count": null,
      "outputs": [
        {
          "output_type": "execute_result",
          "data": {
            "text/plain": [
              "39128"
            ]
          },
          "metadata": {},
          "execution_count": 13
        }
      ]
    },
    {
      "cell_type": "code",
      "source": [
        "model_ffnn = Sequential()\n",
        "model_ffnn.add(tf.keras.layers.Dense(units=48, activation='relu',  kernel_initializer=GlorotUniform(), input_shape=(100,)))\n",
        "model_ffnn.add(tf.keras.layers.Dropout(0.5))\n",
        "model_ffnn.add(tf.keras.layers.BatchNormalization())\n",
        "model_ffnn.add(tf.keras.layers.Dense(units=24, kernel_initializer=GlorotUniform(), activation='sigmoid'))\n",
        "model_ffnn.add(tf.keras.layers.Dropout(0.5))\n",
        "model_ffnn.add(tf.keras.layers.BatchNormalization())\n",
        "model_ffnn.add(tf.keras.layers.Dense(units=12, kernel_initializer=GlorotUniform(), activation='relu'))\n",
        "model_ffnn.add(tf.keras.layers.Dropout(0.5))\n",
        "model_ffnn.add(tf.keras.layers.BatchNormalization())\n",
        "model_ffnn.add(tf.keras.layers.Dense(units=8,  kernel_initializer=GlorotUniform(),activation='sigmoid'))\n",
        "model_ffnn.add(tf.keras.layers.Dropout(0.5))\n",
        "model_ffnn.add(tf.keras.layers.BatchNormalization())\n",
        "model_ffnn.add(tf.keras.layers.Dense(units=4, kernel_initializer=GlorotUniform() ,activation='relu'))\n",
        "model_ffnn.add(tf.keras.layers.Dense(units=1,  kernel_initializer=GlorotUniform(),activation='softmax'))"
      ],
      "metadata": {
        "id": "F-BQdOZCuO0J"
      },
      "execution_count": null,
      "outputs": []
    },
    {
      "cell_type": "code",
      "source": [
        "\n",
        "model_ffnn.summary()"
      ],
      "metadata": {
        "colab": {
          "base_uri": "https://localhost:8080/"
        },
        "id": "c288V3h925Jj",
        "outputId": "009c14ca-9dee-4706-82ca-0a6061a28cd0"
      },
      "execution_count": null,
      "outputs": [
        {
          "output_type": "stream",
          "name": "stdout",
          "text": [
            "Model: \"sequential\"\n",
            "_________________________________________________________________\n",
            " Layer (type)                Output Shape              Param #   \n",
            "=================================================================\n",
            " dense (Dense)               (None, 48)                4848      \n",
            "                                                                 \n",
            " dropout (Dropout)           (None, 48)                0         \n",
            "                                                                 \n",
            " batch_normalization (Batch  (None, 48)                192       \n",
            " Normalization)                                                  \n",
            "                                                                 \n",
            " dense_1 (Dense)             (None, 24)                1176      \n",
            "                                                                 \n",
            " dropout_1 (Dropout)         (None, 24)                0         \n",
            "                                                                 \n",
            " batch_normalization_1 (Bat  (None, 24)                96        \n",
            " chNormalization)                                                \n",
            "                                                                 \n",
            " dense_2 (Dense)             (None, 12)                300       \n",
            "                                                                 \n",
            " dropout_2 (Dropout)         (None, 12)                0         \n",
            "                                                                 \n",
            " batch_normalization_2 (Bat  (None, 12)                48        \n",
            " chNormalization)                                                \n",
            "                                                                 \n",
            " dense_3 (Dense)             (None, 8)                 104       \n",
            "                                                                 \n",
            " dropout_3 (Dropout)         (None, 8)                 0         \n",
            "                                                                 \n",
            " batch_normalization_3 (Bat  (None, 8)                 32        \n",
            " chNormalization)                                                \n",
            "                                                                 \n",
            " dense_4 (Dense)             (None, 4)                 36        \n",
            "                                                                 \n",
            " dense_5 (Dense)             (None, 1)                 5         \n",
            "                                                                 \n",
            "=================================================================\n",
            "Total params: 6837 (26.71 KB)\n",
            "Trainable params: 6653 (25.99 KB)\n",
            "Non-trainable params: 184 (736.00 Byte)\n",
            "_________________________________________________________________\n"
          ]
        }
      ]
    },
    {
      "cell_type": "code",
      "source": [
        "initial_learning_rate = 0.001\n",
        "\n",
        "optimizer = Adam(learning_rate=initial_learning_rate)\n",
        "\n",
        "model_ffnn.compile(optimizer=optimizer, loss='binary_crossentropy', metrics=['accuracy'])\n",
        "\n",
        "model_ffnn.fit(X_train, y_train, epochs=5, batch_size=64, validation_data=(X_dev, y_dev))\n",
        "\n",
        "loss, accuracy = model_ffnn.evaluate(X_test, y_test)\n",
        "print(f'Test Loss: {loss}, Test Accuracy: {accuracy}')"
      ],
      "metadata": {
        "colab": {
          "base_uri": "https://localhost:8080/"
        },
        "id": "0ag50fvzwb95",
        "outputId": "5b7e1902-acef-4370-9388-8d921a7ad1af"
      },
      "execution_count": null,
      "outputs": [
        {
          "output_type": "stream",
          "name": "stdout",
          "text": [
            "Epoch 1/5\n",
            "157/157 [==============================] - 8s 9ms/step - loss: 0.7257 - accuracy: 0.5046 - val_loss: 0.6929 - val_accuracy: 0.5100\n",
            "Epoch 2/5\n",
            "157/157 [==============================] - 1s 7ms/step - loss: 0.7013 - accuracy: 0.5046 - val_loss: 0.6933 - val_accuracy: 0.5100\n",
            "Epoch 3/5\n",
            "157/157 [==============================] - 1s 7ms/step - loss: 0.6998 - accuracy: 0.5046 - val_loss: 0.6932 - val_accuracy: 0.5100\n",
            "Epoch 4/5\n",
            "157/157 [==============================] - 1s 7ms/step - loss: 0.6959 - accuracy: 0.5046 - val_loss: 0.6932 - val_accuracy: 0.5100\n",
            "Epoch 5/5\n",
            "157/157 [==============================] - 1s 6ms/step - loss: 0.6960 - accuracy: 0.5046 - val_loss: 0.6931 - val_accuracy: 0.5100\n",
            "7/7 [==============================] - 0s 3ms/step - loss: 0.6933 - accuracy: 0.4800\n",
            "Test Loss: 0.6932985782623291, Test Accuracy: 0.47999998927116394\n"
          ]
        }
      ]
    },
    {
      "cell_type": "code",
      "source": [
        "model_ffn_history = model_ffnn.fit(X_train, y_train, epochs=10, batch_size=64, validation_data=(X_dev, y_dev),verbose=0)\n",
        "\n",
        "loss, accuracy = model_ffnn.evaluate(X_test, y_test)\n",
        "print(f'Test Loss: {loss}, Test Accuracy: {accuracy}')"
      ],
      "metadata": {
        "colab": {
          "base_uri": "https://localhost:8080/"
        },
        "id": "pU62_yfdgvax",
        "outputId": "fa49ad52-232b-4dfc-c0f2-6d0f5469d93b"
      },
      "execution_count": null,
      "outputs": [
        {
          "output_type": "stream",
          "name": "stdout",
          "text": [
            "7/7 [==============================] - 0s 3ms/step - loss: 0.6937 - accuracy: 0.4800\n",
            "Test Loss: 0.6937255859375, Test Accuracy: 0.47999998927116394\n"
          ]
        }
      ]
    },
    {
      "cell_type": "code",
      "source": [
        "from plotnine import *"
      ],
      "metadata": {
        "id": "6p-eoMZog390"
      },
      "execution_count": null,
      "outputs": []
    },
    {
      "cell_type": "code",
      "source": [
        "( pd.DataFrame(model_ffn_history.history) >>\n",
        " ggplot(aes(x=pd.DataFrame(model_ffn_history.history).index, y='accuracy')) +\n",
        " geom_line(color = \"blue\") +\n",
        " geom_line(aes(y='val_accuracy'), color = \"red\") +\n",
        " theme_minimal() +\n",
        "  labs(x=\"Epochs\", y=\"Accuracy\",\n",
        "       title= \"Accuracy Measures on Simple FFN\",\n",
        "       subtitle = \"On 10 K Dataset\") +\n",
        "  annotate(\n",
        "      \"text\",\n",
        "      x = 7,\n",
        "      y = 0.49,\n",
        "      label = \"Training Acccuracy\",\n",
        "      color = \"blue\",\n",
        "      size = 10\n",
        "  ) +\n",
        "  annotate(\n",
        "      \"text\",\n",
        "      x = 7,\n",
        "      y = 0.52,\n",
        "      label = \"Validation Acccuracy\",\n",
        "      color = \"red\",\n",
        "      size = 10\n",
        "  ) +\n",
        "  coord_cartesian(ylim = [0.4,0.6])\n",
        " )"
      ],
      "metadata": {
        "colab": {
          "base_uri": "https://localhost:8080/",
          "height": 514
        },
        "id": "o54DEta2g8co",
        "outputId": "e84e0cb1-df20-491c-d689-5c5440c30cec"
      },
      "execution_count": null,
      "outputs": [
        {
          "output_type": "display_data",
          "data": {
            "text/plain": [
              "<Figure size 640x480 with 1 Axes>"
            ],
            "image/png": "[encoded data removed]"
          },
          "metadata": {
            "image/png": {
              "width": 640,
              "height": 480
            },
            "needs_background": "light"
          }
        },
        {
          "output_type": "execute_result",
          "data": {
            "text/plain": [
              "<Figure Size: (640 x 480)>"
            ]
          },
          "metadata": {},
          "execution_count": 19
        }
      ]
    },
    {
      "cell_type": "markdown",
      "source": [
        "<a name='base-model-2'></a>\n",
        "### 3.2 - Feed Foward NN with 20K"
      ],
      "metadata": {
        "id": "thX3rGm3_Rqt"
      }
    },
    {
      "cell_type": "code",
      "source": [
        "train_data = traindata.sample(n=20000, random_state=42)\n",
        "test_data = testdata.sample(n=1000, random_state=42)\n",
        "\n",
        "train_data['class_index'] = train_data['class_index'].map({1:0, 2:1})\n",
        "test_data['class_index'] = test_data['class_index'].map({1:0, 2:1})\n",
        "\n",
        "train_data['review_combined_lemma'] = train_data['review_combined_lemma'].fillna('')\n",
        "test_data['review_combined_lemma'] = test_data['review_combined_lemma'].fillna('')\n",
        "\n",
        "X_train = train_data.review_combined_lemma\n",
        "y_train = np.array(train_data.class_index)\n",
        "\n",
        "X = test_data.review_combined_lemma\n",
        "y = np.array(test_data.class_index)\n",
        "\n",
        "tokenizer = Tokenizer(oov_token=\"<UNK>\",)\n",
        "tokenizer.fit_on_texts(X_train)"
      ],
      "metadata": {
        "id": "tOKuw5l8-VsD"
      },
      "execution_count": null,
      "outputs": []
    },
    {
      "cell_type": "code",
      "source": [
        "tokenizer.word_index['<PAD>'] = 0"
      ],
      "metadata": {
        "id": "8SM5lmwt_YTJ"
      },
      "execution_count": null,
      "outputs": []
    },
    {
      "cell_type": "code",
      "source": [
        "X_sequences_train = tokenizer.texts_to_sequences(X_train)\n",
        "\n",
        "X_sequences = tokenizer.texts_to_sequences(X)\n",
        "\n",
        "X_train = pad_sequences(X_sequences_train, maxlen=100)\n",
        "X = pad_sequences(X_sequences, maxlen=100)\n",
        "\n",
        "X_dev, X_test, y_dev, y_test = train_test_split(X, y, test_size=0.5, random_state=42)"
      ],
      "metadata": {
        "id": "NiDBU8L1_a9s"
      },
      "execution_count": null,
      "outputs": []
    },
    {
      "cell_type": "code",
      "source": [
        "print(X_train.shape)\n",
        "print(X_dev.shape)\n",
        "print(X_test.shape)"
      ],
      "metadata": {
        "colab": {
          "base_uri": "https://localhost:8080/"
        },
        "id": "IvgtYOJM_cwS",
        "outputId": "340454ab-ee0c-44ab-8990-f179793a4b75"
      },
      "execution_count": null,
      "outputs": [
        {
          "output_type": "stream",
          "name": "stdout",
          "text": [
            "(20000, 100)\n",
            "(500, 100)\n",
            "(500, 100)\n"
          ]
        }
      ]
    },
    {
      "cell_type": "code",
      "source": [
        "train_data['class_index'].value_counts()"
      ],
      "metadata": {
        "colab": {
          "base_uri": "https://localhost:8080/"
        },
        "id": "ZzTvHPeCa_OW",
        "outputId": "f2f57fb8-f8c1-47d0-9f70-feac849e2393"
      },
      "execution_count": null,
      "outputs": [
        {
          "output_type": "execute_result",
          "data": {
            "text/plain": [
              "class_index\n",
              "1    10027\n",
              "0     9973\n",
              "Name: count, dtype: int64"
            ]
          },
          "metadata": {},
          "execution_count": 24
        }
      ]
    },
    {
      "cell_type": "code",
      "source": [
        "model_ffnn_1 = Sequential()\n",
        "model_ffnn_1.add(tf.keras.layers.Dense(units=48, activation='relu',  kernel_initializer=GlorotUniform(), input_shape=(100,)))\n",
        "model_ffnn_1.add(tf.keras.layers.Dropout(0.5))\n",
        "model_ffnn_1.add(tf.keras.layers.BatchNormalization())\n",
        "model_ffnn_1.add(tf.keras.layers.Dense(units=24, kernel_initializer=GlorotUniform(), activation='sigmoid'))\n",
        "model_ffnn_1.add(tf.keras.layers.Dropout(0.5))\n",
        "model_ffnn_1.add(tf.keras.layers.BatchNormalization())\n",
        "model_ffnn_1.add(tf.keras.layers.Dense(units=12, kernel_initializer=GlorotUniform(), activation='relu'))\n",
        "model_ffnn_1.add(tf.keras.layers.Dropout(0.5))\n",
        "model_ffnn_1.add(tf.keras.layers.BatchNormalization())\n",
        "model_ffnn_1.add(tf.keras.layers.Dense(units=8,  kernel_initializer=GlorotUniform(),activation='sigmoid'))\n",
        "model_ffnn_1.add(tf.keras.layers.Dropout(0.5))\n",
        "model_ffnn_1.add(tf.keras.layers.BatchNormalization())\n",
        "model_ffnn_1.add(tf.keras.layers.Dense(units=4, kernel_initializer=GlorotUniform() ,activation='relu'))\n",
        "model_ffnn_1.add(tf.keras.layers.Dense(units=1,  kernel_initializer=GlorotUniform(),activation='softmax'))"
      ],
      "metadata": {
        "id": "jFP0YGA2_fQx"
      },
      "execution_count": null,
      "outputs": []
    },
    {
      "cell_type": "code",
      "source": [
        "model_ffnn_1.summary()"
      ],
      "metadata": {
        "colab": {
          "base_uri": "https://localhost:8080/"
        },
        "id": "mfnEN94l_pTn",
        "outputId": "5bd20c8b-a7dd-4a74-c07d-aea41064c14b"
      },
      "execution_count": null,
      "outputs": [
        {
          "output_type": "stream",
          "name": "stdout",
          "text": [
            "Model: \"sequential_1\"\n",
            "_________________________________________________________________\n",
            " Layer (type)                Output Shape              Param #   \n",
            "=================================================================\n",
            " dense_6 (Dense)             (None, 48)                4848      \n",
            "                                                                 \n",
            " dropout_4 (Dropout)         (None, 48)                0         \n",
            "                                                                 \n",
            " batch_normalization_4 (Bat  (None, 48)                192       \n",
            " chNormalization)                                                \n",
            "                                                                 \n",
            " dense_7 (Dense)             (None, 24)                1176      \n",
            "                                                                 \n",
            " dropout_5 (Dropout)         (None, 24)                0         \n",
            "                                                                 \n",
            " batch_normalization_5 (Bat  (None, 24)                96        \n",
            " chNormalization)                                                \n",
            "                                                                 \n",
            " dense_8 (Dense)             (None, 12)                300       \n",
            "                                                                 \n",
            " dropout_6 (Dropout)         (None, 12)                0         \n",
            "                                                                 \n",
            " batch_normalization_6 (Bat  (None, 12)                48        \n",
            " chNormalization)                                                \n",
            "                                                                 \n",
            " dense_9 (Dense)             (None, 8)                 104       \n",
            "                                                                 \n",
            " dropout_7 (Dropout)         (None, 8)                 0         \n",
            "                                                                 \n",
            " batch_normalization_7 (Bat  (None, 8)                 32        \n",
            " chNormalization)                                                \n",
            "                                                                 \n",
            " dense_10 (Dense)            (None, 4)                 36        \n",
            "                                                                 \n",
            " dense_11 (Dense)            (None, 1)                 5         \n",
            "                                                                 \n",
            "=================================================================\n",
            "Total params: 6837 (26.71 KB)\n",
            "Trainable params: 6653 (25.99 KB)\n",
            "Non-trainable params: 184 (736.00 Byte)\n",
            "_________________________________________________________________\n"
          ]
        }
      ]
    },
    {
      "cell_type": "code",
      "source": [
        "initial_learning_rate = 0.001\n",
        "\n",
        "optimizer = Adam(learning_rate=initial_learning_rate)\n",
        "\n",
        "\n",
        "model_ffnn_1.compile(optimizer=optimizer, loss='binary_crossentropy', metrics=['accuracy'])\n",
        "\n",
        "model_ffn_1_history = model_ffnn_1.fit(X_train, y_train, epochs=10, batch_size=64, validation_data=(X_dev, y_dev))\n",
        "\n",
        "loss, accuracy = model_ffnn_1.evaluate(X_test, y_test)\n",
        "print(f'Test Loss: {loss}, Test Accuracy: {accuracy}')"
      ],
      "metadata": {
        "colab": {
          "base_uri": "https://localhost:8080/"
        },
        "id": "LNoVQv-q_qb2",
        "outputId": "b5817e12-93de-4e10-8b69-70c8952bbc03"
      },
      "execution_count": null,
      "outputs": [
        {
          "output_type": "stream",
          "name": "stdout",
          "text": [
            "Epoch 1/10\n",
            "313/313 [==============================] - 5s 6ms/step - loss: 0.7381 - accuracy: 0.5013 - val_loss: 0.6934 - val_accuracy: 0.5160\n",
            "Epoch 2/10\n",
            "313/313 [==============================] - 2s 6ms/step - loss: 0.7008 - accuracy: 0.5013 - val_loss: 0.6930 - val_accuracy: 0.5160\n",
            "Epoch 3/10\n",
            "313/313 [==============================] - 2s 6ms/step - loss: 0.6955 - accuracy: 0.5013 - val_loss: 0.6928 - val_accuracy: 0.5160\n",
            "Epoch 4/10\n",
            "313/313 [==============================] - 2s 6ms/step - loss: 0.6941 - accuracy: 0.5013 - val_loss: 0.6927 - val_accuracy: 0.5160\n",
            "Epoch 5/10\n",
            "313/313 [==============================] - 2s 6ms/step - loss: 0.6938 - accuracy: 0.5013 - val_loss: 0.6927 - val_accuracy: 0.5160\n",
            "Epoch 6/10\n",
            "313/313 [==============================] - 2s 6ms/step - loss: 0.6939 - accuracy: 0.5013 - val_loss: 0.6927 - val_accuracy: 0.5160\n",
            "Epoch 7/10\n",
            "313/313 [==============================] - 2s 6ms/step - loss: 0.6937 - accuracy: 0.5013 - val_loss: 0.6927 - val_accuracy: 0.5160\n",
            "Epoch 8/10\n",
            "313/313 [==============================] - 2s 6ms/step - loss: 0.6936 - accuracy: 0.5013 - val_loss: 0.6927 - val_accuracy: 0.5160\n",
            "Epoch 9/10\n",
            "313/313 [==============================] - 2s 6ms/step - loss: 0.6933 - accuracy: 0.5013 - val_loss: 0.6928 - val_accuracy: 0.5160\n",
            "Epoch 10/10\n",
            "313/313 [==============================] - 2s 6ms/step - loss: 0.6933 - accuracy: 0.5013 - val_loss: 0.6929 - val_accuracy: 0.5160\n",
            "16/16 [==============================] - 0s 2ms/step - loss: 0.6933 - accuracy: 0.4920\n",
            "Test Loss: 0.693301260471344, Test Accuracy: 0.492000013589859\n"
          ]
        }
      ]
    },
    {
      "cell_type": "code",
      "source": [
        "( pd.DataFrame(model_ffn_1_history.history) >>\n",
        " ggplot(aes(x=pd.DataFrame(model_ffn_1_history.history).index, y='accuracy')) +\n",
        " geom_line(color = \"blue\") +\n",
        " geom_line(aes(y='val_accuracy'), color = \"red\") +\n",
        " theme_minimal() +\n",
        "  labs(x=\"Epochs\", y=\"Accuracy\",\n",
        "       title= \"Accuracy Measures on Simple FFN\",\n",
        "       subtitle = \"On 20 K Dataset\") +\n",
        "  annotate(\n",
        "      \"text\",\n",
        "      x = 7,\n",
        "      y = 0.49,\n",
        "      label = \"Training Acccuracy\",\n",
        "      color = \"blue\",\n",
        "      size = 10\n",
        "  ) +\n",
        "  annotate(\n",
        "      \"text\",\n",
        "      x = 7,\n",
        "      y = 0.52,\n",
        "      label = \"Validation Acccuracy\",\n",
        "      color = \"red\",\n",
        "      size = 10\n",
        "  ) +\n",
        "  coord_cartesian(ylim = [0.4,0.6])\n",
        " )"
      ],
      "metadata": {
        "colab": {
          "base_uri": "https://localhost:8080/",
          "height": 514
        },
        "id": "aCCHk06Gh-p4",
        "outputId": "1adeb6fa-a076-49e5-a084-d998e539e32c"
      },
      "execution_count": null,
      "outputs": [
        {
          "output_type": "display_data",
          "data": {
            "text/plain": [
              "<Figure size 640x480 with 1 Axes>"
            ],
            "image/png": "[encoded data removed]"
          },
          "metadata": {
            "image/png": {
              "width": 640,
              "height": 480
            },
            "needs_background": "light"
          }
        },
        {
          "output_type": "execute_result",
          "data": {
            "text/plain": [
              "<Figure Size: (640 x 480)>"
            ]
          },
          "metadata": {},
          "execution_count": 28
        }
      ]
    },
    {
      "cell_type": "markdown",
      "source": [
        "<a name='base-model-3'></a>\n",
        "### 3.3 - Feed Foward NN with 1Lac\n",
        "\n"
      ],
      "metadata": {
        "id": "1LH8CWEU_7Zz"
      }
    },
    {
      "cell_type": "code",
      "source": [
        "train_data = traindata.sample(n=100000, random_state=42)\n",
        "test_data = testdata.sample(n=10000, random_state=42)\n",
        "\n",
        "train_data['class_index'] = train_data['class_index'].map({1:0, 2:1})\n",
        "test_data['class_index'] = test_data['class_index'].map({1:0, 2:1})\n",
        "\n",
        "train_data['review_combined_lemma'] = train_data['review_combined_lemma'].fillna('')\n",
        "test_data['review_combined_lemma'] = test_data['review_combined_lemma'].fillna('')\n",
        "\n",
        "X_train = train_data.review_combined_lemma\n",
        "y_train = np.array(train_data.class_index)\n",
        "\n",
        "X = test_data.review_combined_lemma\n",
        "y = np.array(test_data.class_index)\n",
        "\n",
        "tokenizer = Tokenizer(oov_token=\"<UNK>\",)\n",
        "tokenizer.fit_on_texts(X_train)"
      ],
      "metadata": {
        "id": "oVDTdrdT_v1F"
      },
      "execution_count": null,
      "outputs": []
    },
    {
      "cell_type": "code",
      "source": [
        "train_data['class_index'].value_counts()"
      ],
      "metadata": {
        "colab": {
          "base_uri": "https://localhost:8080/"
        },
        "id": "gyujcvQ_ZlwA",
        "outputId": "4b4c8f46-9706-43c8-db4f-57d5e23bf6ee"
      },
      "execution_count": null,
      "outputs": [
        {
          "output_type": "execute_result",
          "data": {
            "text/plain": [
              "class_index\n",
              "0    50013\n",
              "1    49987\n",
              "Name: count, dtype: int64"
            ]
          },
          "metadata": {},
          "execution_count": 30
        }
      ]
    },
    {
      "cell_type": "code",
      "source": [
        "tokenizer.word_index['<PAD>'] = 0"
      ],
      "metadata": {
        "id": "A9vtj3CgAA7I"
      },
      "execution_count": null,
      "outputs": []
    },
    {
      "cell_type": "code",
      "source": [
        "X_sequences_train = tokenizer.texts_to_sequences(X_train)\n",
        "\n",
        "X_sequences = tokenizer.texts_to_sequences(X)\n",
        "\n",
        "X_train = pad_sequences(X_sequences_train, maxlen=100)\n",
        "X = pad_sequences(X_sequences, maxlen=100)\n",
        "\n",
        "X_dev, X_test, y_dev, y_test = train_test_split(X, y, test_size=0.5, random_state=42)"
      ],
      "metadata": {
        "id": "iGFPb9a9AEbQ"
      },
      "execution_count": null,
      "outputs": []
    },
    {
      "cell_type": "code",
      "source": [
        "print(X_train.shape)\n",
        "print(X_dev.shape)\n",
        "print(X_test.shape)"
      ],
      "metadata": {
        "colab": {
          "base_uri": "https://localhost:8080/"
        },
        "id": "57HZZdjTAGOv",
        "outputId": "f4457cdb-0ee3-4662-abb0-cd3288012fd2"
      },
      "execution_count": null,
      "outputs": [
        {
          "output_type": "stream",
          "name": "stdout",
          "text": [
            "(100000, 100)\n",
            "(5000, 100)\n",
            "(5000, 100)\n"
          ]
        }
      ]
    },
    {
      "cell_type": "code",
      "source": [
        "model_ffnn_2 = Sequential()\n",
        "model_ffnn_2.add(tf.keras.layers.Dense(units=128, activation='relu',  kernel_initializer=GlorotUniform(), input_shape=(100,)))\n",
        "model_ffnn_2.add(tf.keras.layers.Dropout(0.5))\n",
        "model_ffnn_2.add(tf.keras.layers.BatchNormalization())\n",
        "model_ffnn_2.add(tf.keras.layers.Dense(units=64, kernel_initializer=GlorotUniform(), activation='sigmoid'))\n",
        "model_ffnn_2.add(tf.keras.layers.Dropout(0.5))\n",
        "model_ffnn_2.add(tf.keras.layers.BatchNormalization())\n",
        "model_ffnn_2.add(tf.keras.layers.Dense(units=48, kernel_initializer=GlorotUniform(), activation='relu'))\n",
        "model_ffnn_2.add(tf.keras.layers.Dropout(0.5))\n",
        "model_ffnn_2.add(tf.keras.layers.BatchNormalization())\n",
        "model_ffnn_2.add(tf.keras.layers.Dense(units=16,  kernel_initializer=GlorotUniform(),activation='sigmoid'))\n",
        "model_ffnn_2.add(tf.keras.layers.Dropout(0.5))\n",
        "model_ffnn_2.add(tf.keras.layers.BatchNormalization())\n",
        "model_ffnn_2.add(tf.keras.layers.Dense(units=8, kernel_initializer=GlorotUniform() ,activation='relu'))\n",
        "model_ffnn_2.add(tf.keras.layers.Dense(units=1,  kernel_initializer=GlorotUniform(),activation='softmax'))"
      ],
      "metadata": {
        "id": "tvmE8XUwAJoW"
      },
      "execution_count": null,
      "outputs": []
    },
    {
      "cell_type": "code",
      "source": [
        "model_ffnn_2.summary()"
      ],
      "metadata": {
        "colab": {
          "base_uri": "https://localhost:8080/"
        },
        "id": "z8v8t15tAQ_G",
        "outputId": "5009362d-6db6-4746-c894-ff6f4ba0d254"
      },
      "execution_count": null,
      "outputs": [
        {
          "output_type": "stream",
          "name": "stdout",
          "text": [
            "Model: \"sequential_2\"\n",
            "_________________________________________________________________\n",
            " Layer (type)                Output Shape              Param #   \n",
            "=================================================================\n",
            " dense_12 (Dense)            (None, 128)               12928     \n",
            "                                                                 \n",
            " dropout_8 (Dropout)         (None, 128)               0         \n",
            "                                                                 \n",
            " batch_normalization_8 (Bat  (None, 128)               512       \n",
            " chNormalization)                                                \n",
            "                                                                 \n",
            " dense_13 (Dense)            (None, 64)                8256      \n",
            "                                                                 \n",
            " dropout_9 (Dropout)         (None, 64)                0         \n",
            "                                                                 \n",
            " batch_normalization_9 (Bat  (None, 64)                256       \n",
            " chNormalization)                                                \n",
            "                                                                 \n",
            " dense_14 (Dense)            (None, 48)                3120      \n",
            "                                                                 \n",
            " dropout_10 (Dropout)        (None, 48)                0         \n",
            "                                                                 \n",
            " batch_normalization_10 (Ba  (None, 48)                192       \n",
            " tchNormalization)                                               \n",
            "                                                                 \n",
            " dense_15 (Dense)            (None, 16)                784       \n",
            "                                                                 \n",
            " dropout_11 (Dropout)        (None, 16)                0         \n",
            "                                                                 \n",
            " batch_normalization_11 (Ba  (None, 16)                64        \n",
            " tchNormalization)                                               \n",
            "                                                                 \n",
            " dense_16 (Dense)            (None, 8)                 136       \n",
            "                                                                 \n",
            " dense_17 (Dense)            (None, 1)                 9         \n",
            "                                                                 \n",
            "=================================================================\n",
            "Total params: 26257 (102.57 KB)\n",
            "Trainable params: 25745 (100.57 KB)\n",
            "Non-trainable params: 512 (2.00 KB)\n",
            "_________________________________________________________________\n"
          ]
        }
      ]
    },
    {
      "cell_type": "code",
      "source": [
        "initial_learning_rate = 0.001\n",
        "\n",
        "optimizer = Adam(learning_rate=initial_learning_rate)\n",
        "\n",
        "model_ffnn_2.compile(optimizer=optimizer, loss='binary_crossentropy', metrics=['accuracy'])\n",
        "\n",
        "model_ffn_2_history = model_ffnn_2.fit(X_train, y_train, epochs=10, batch_size=64, validation_data=(X_dev, y_dev))\n",
        "\n",
        "loss, accuracy = model_ffnn_2.evaluate(X_test, y_test)\n",
        "print(f'Test Loss: {loss}, Test Accuracy: {accuracy}')"
      ],
      "metadata": {
        "colab": {
          "base_uri": "https://localhost:8080/"
        },
        "id": "ahK9WreIATIB",
        "outputId": "c5221843-ef75-4b61-e3a0-6e9028a47afa"
      },
      "execution_count": null,
      "outputs": [
        {
          "output_type": "stream",
          "name": "stdout",
          "text": [
            "Epoch 1/10\n",
            "1563/1563 [==============================] - 13s 6ms/step - loss: 0.7151 - accuracy: 0.4999 - val_loss: 0.6990 - val_accuracy: 0.5054\n",
            "Epoch 2/10\n",
            "1563/1563 [==============================] - 9s 6ms/step - loss: 0.6943 - accuracy: 0.4999 - val_loss: 0.6961 - val_accuracy: 0.5054\n",
            "Epoch 3/10\n",
            "1563/1563 [==============================] - 9s 6ms/step - loss: 0.6935 - accuracy: 0.4999 - val_loss: 0.6940 - val_accuracy: 0.5054\n",
            "Epoch 4/10\n",
            "1563/1563 [==============================] - 9s 6ms/step - loss: 0.6934 - accuracy: 0.4999 - val_loss: 0.6939 - val_accuracy: 0.5054\n",
            "Epoch 5/10\n",
            "1563/1563 [==============================] - 9s 6ms/step - loss: 0.6933 - accuracy: 0.4999 - val_loss: 0.6935 - val_accuracy: 0.5054\n",
            "Epoch 6/10\n",
            "1563/1563 [==============================] - 9s 6ms/step - loss: 0.6932 - accuracy: 0.4999 - val_loss: 0.6933 - val_accuracy: 0.5054\n",
            "Epoch 7/10\n",
            "1563/1563 [==============================] - 9s 6ms/step - loss: 0.6931 - accuracy: 0.4999 - val_loss: 0.6932 - val_accuracy: 0.5054\n",
            "Epoch 8/10\n",
            "1563/1563 [==============================] - 9s 6ms/step - loss: 0.6929 - accuracy: 0.4999 - val_loss: 0.6932 - val_accuracy: 0.5054\n",
            "Epoch 9/10\n",
            "1563/1563 [==============================] - 9s 6ms/step - loss: 0.6924 - accuracy: 0.4999 - val_loss: 0.6926 - val_accuracy: 0.5054\n",
            "Epoch 10/10\n",
            "1563/1563 [==============================] - 9s 6ms/step - loss: 0.6922 - accuracy: 0.4999 - val_loss: 0.6923 - val_accuracy: 0.5054\n",
            "157/157 [==============================] - 0s 2ms/step - loss: 0.6923 - accuracy: 0.5002\n",
            "Test Loss: 0.6922567486763, Test Accuracy: 0.5001999735832214\n"
          ]
        }
      ]
    },
    {
      "cell_type": "code",
      "source": [
        "( pd.DataFrame(model_ffn_2_history.history) >>\n",
        " ggplot(aes(x=pd.DataFrame(model_ffn_2_history.history).index, y='accuracy')) +\n",
        " geom_line(color = \"blue\") +\n",
        " geom_line(aes(y='val_accuracy'), color = \"red\") +\n",
        " theme_minimal() +\n",
        "  labs(x=\"Epochs\", y=\"Accuracy\",\n",
        "       title= \"Accuracy Measures on Simple FFN\",\n",
        "       subtitle = \"On 1 Lac Dataset\") +\n",
        "  annotate(\n",
        "      \"text\",\n",
        "      x = 7,\n",
        "      y = 0.49,\n",
        "      label = \"Training Acccuracy\",\n",
        "      color = \"blue\",\n",
        "      size = 10\n",
        "  ) +\n",
        "  annotate(\n",
        "      \"text\",\n",
        "      x = 7,\n",
        "      y = 0.52,\n",
        "      label = \"Validation Acccuracy\",\n",
        "      color = \"red\",\n",
        "      size = 10\n",
        "  ) +\n",
        "  coord_cartesian(ylim = [0.4,0.6])\n",
        " )"
      ],
      "metadata": {
        "colab": {
          "base_uri": "https://localhost:8080/",
          "height": 514
        },
        "id": "s_6Llue2iXtn",
        "outputId": "c153d4ed-c653-4df0-ea71-0ef2403baf36"
      },
      "execution_count": null,
      "outputs": [
        {
          "output_type": "display_data",
          "data": {
            "text/plain": [
              "<Figure size 640x480 with 1 Axes>"
            ],
            "image/png": "[encoded data removed]"
          },
          "metadata": {
            "image/png": {
              "width": 640,
              "height": 480
            },
            "needs_background": "light"
          }
        },
        {
          "output_type": "execute_result",
          "data": {
            "text/plain": [
              "<Figure Size: (640 x 480)>"
            ]
          },
          "metadata": {},
          "execution_count": 37
        }
      ]
    },
    {
      "cell_type": "markdown",
      "source": [
        "<a name='base-model-4'></a>\n",
        "### 3.4 - Feed Foward NN on whole Dataset"
      ],
      "metadata": {
        "id": "A5aoo8K2A8fp"
      }
    },
    {
      "cell_type": "code",
      "source": [
        "train_data = traindata\n",
        "test_data = testdata\n",
        "\n",
        "train_data['class_index'] = train_data['class_index'].map({1:0, 2:1})\n",
        "test_data['class_index'] = test_data['class_index'].map({1:0, 2:1})\n",
        "\n",
        "train_data['review_combined_lemma'] = train_data['review_combined_lemma'].fillna('')\n",
        "test_data['review_combined_lemma'] = test_data['review_combined_lemma'].fillna('')\n",
        "\n",
        "X_train = train_data.review_combined_lemma\n",
        "y_train = np.array(train_data.class_index)\n",
        "\n",
        "X = test_data.review_combined_lemma\n",
        "y = np.array(test_data.class_index)\n",
        "\n",
        "tokenizer = Tokenizer(oov_token=\"<UNK>\",)\n",
        "tokenizer.fit_on_texts(X_train)"
      ],
      "metadata": {
        "id": "L4hdTbFiAY1_"
      },
      "execution_count": null,
      "outputs": []
    },
    {
      "cell_type": "code",
      "source": [
        "tokenizer.word_index['<PAD>'] = 0"
      ],
      "metadata": {
        "id": "6F3X7lonBET3"
      },
      "execution_count": null,
      "outputs": []
    },
    {
      "cell_type": "code",
      "source": [
        "X_sequences_train = tokenizer.texts_to_sequences(X_train)\n",
        "\n",
        "X_sequences = tokenizer.texts_to_sequences(X)\n",
        "\n",
        "X_train = pad_sequences(X_sequences_train, maxlen=100)\n",
        "X = pad_sequences(X_sequences, maxlen=100)\n",
        "\n"
      ],
      "metadata": {
        "id": "A6XXE78HEeVy"
      },
      "execution_count": null,
      "outputs": []
    },
    {
      "cell_type": "code",
      "source": [
        "X_dev, X_test, y_dev, y_test = train_test_split(X, y, test_size=0.5, random_state=42)"
      ],
      "metadata": {
        "id": "IMBvGYCLFl2d"
      },
      "execution_count": null,
      "outputs": []
    },
    {
      "cell_type": "code",
      "source": [
        "print(X_train.shape)\n",
        "print(X_dev.shape)\n",
        "print(X_test.shape)"
      ],
      "metadata": {
        "colab": {
          "base_uri": "https://localhost:8080/"
        },
        "id": "weMw0nGpEheW",
        "outputId": "c24309b2-f0f5-46b1-8e0c-5f4053e1a05f"
      },
      "execution_count": null,
      "outputs": [
        {
          "output_type": "stream",
          "name": "stdout",
          "text": [
            "(3600000, 100)\n",
            "(200000, 100)\n",
            "(200000, 100)\n"
          ]
        }
      ]
    },
    {
      "cell_type": "code",
      "source": [
        "train_data['class_index'].value_counts()"
      ],
      "metadata": {
        "colab": {
          "base_uri": "https://localhost:8080/"
        },
        "id": "q2Lb_yEidw2W",
        "outputId": "3c8d728c-69ce-451f-ad61-c6003d7a0926"
      },
      "execution_count": null,
      "outputs": [
        {
          "output_type": "execute_result",
          "data": {
            "text/plain": [
              "class_index\n",
              "1    1800000\n",
              "0    1800000\n",
              "Name: count, dtype: int64"
            ]
          },
          "metadata": {},
          "execution_count": 43
        }
      ]
    },
    {
      "cell_type": "code",
      "source": [
        "model_ffnn_4 = Sequential()\n",
        "model_ffnn_4.add(tf.keras.layers.Dense(units=256, activation='tanh',  kernel_initializer=GlorotUniform(), input_shape=(100,)))\n",
        "model_ffnn_4.add(tf.keras.layers.Dense(units=128, kernel_initializer=GlorotUniform(), activation='relu'))\n",
        "model_ffnn_4.add(tf.keras.layers.Dense(units=64, kernel_initializer=GlorotUniform(), activation='relu'))\n",
        "model_ffnn_4.add(tf.keras.layers.Dense(units=32,  kernel_initializer=GlorotUniform(),activation='relu'))\n",
        "model_ffnn_4.add(tf.keras.layers.Dense(units=16, kernel_initializer=GlorotUniform() ,activation='relu'))\n",
        "model_ffnn_4.add(tf.keras.layers.Dense(units=1,  kernel_initializer=GlorotUniform(),activation='softmax'))"
      ],
      "metadata": {
        "id": "oIjUO0UwBpQc"
      },
      "execution_count": null,
      "outputs": []
    },
    {
      "cell_type": "code",
      "source": [
        "model_ffnn_4.summary()"
      ],
      "metadata": {
        "colab": {
          "base_uri": "https://localhost:8080/"
        },
        "id": "NVcwgRTjB028",
        "outputId": "ebceaff5-3837-4483-848e-56bd64063653"
      },
      "execution_count": null,
      "outputs": [
        {
          "output_type": "stream",
          "name": "stdout",
          "text": [
            "Model: \"sequential_3\"\n",
            "_________________________________________________________________\n",
            " Layer (type)                Output Shape              Param #   \n",
            "=================================================================\n",
            " dense_18 (Dense)            (None, 256)               25856     \n",
            "                                                                 \n",
            " dense_19 (Dense)            (None, 128)               32896     \n",
            "                                                                 \n",
            " dense_20 (Dense)            (None, 64)                8256      \n",
            "                                                                 \n",
            " dense_21 (Dense)            (None, 32)                2080      \n",
            "                                                                 \n",
            " dense_22 (Dense)            (None, 16)                528       \n",
            "                                                                 \n",
            " dense_23 (Dense)            (None, 1)                 17        \n",
            "                                                                 \n",
            "=================================================================\n",
            "Total params: 69633 (272.00 KB)\n",
            "Trainable params: 69633 (272.00 KB)\n",
            "Non-trainable params: 0 (0.00 Byte)\n",
            "_________________________________________________________________\n"
          ]
        }
      ]
    },
    {
      "cell_type": "code",
      "source": [
        "initial_learning_rate = 0.001\n",
        "\n",
        "optimizer = Adam(learning_rate=initial_learning_rate)\n",
        "\n",
        "model_ffnn_4.compile(optimizer=optimizer, loss='binary_crossentropy', metrics=['accuracy'])\n",
        "\n",
        "model_ffnn_4_history = model_ffnn_4.fit(X_train, y_train, epochs=10, batch_size=64, validation_data=(X_dev, y_dev))\n",
        "\n",
        "loss, accuracy = model_ffnn_4.evaluate(X_test, y_test)\n",
        "print(f'Test Loss: {loss}, Test Accuracy: {accuracy}')"
      ],
      "metadata": {
        "colab": {
          "base_uri": "https://localhost:8080/"
        },
        "id": "NmB6EZp8B2JZ",
        "outputId": "03625a61-32c8-437f-d329-f31d29028373"
      },
      "execution_count": null,
      "outputs": [
        {
          "output_type": "stream",
          "name": "stdout",
          "text": [
            "Epoch 1/10\n",
            "56250/56250 [==============================] - 175s 3ms/step - loss: 0.6910 - accuracy: 0.5000 - val_loss: 0.6902 - val_accuracy: 0.5009\n",
            "Epoch 2/10\n",
            "56250/56250 [==============================] - 174s 3ms/step - loss: 0.6903 - accuracy: 0.5000 - val_loss: 0.6900 - val_accuracy: 0.5009\n",
            "Epoch 3/10\n",
            "56250/56250 [==============================] - 173s 3ms/step - loss: 0.6901 - accuracy: 0.5000 - val_loss: 0.6902 - val_accuracy: 0.5009\n",
            "Epoch 4/10\n",
            "56250/56250 [==============================] - 172s 3ms/step - loss: 0.6900 - accuracy: 0.5000 - val_loss: 0.6897 - val_accuracy: 0.5009\n",
            "Epoch 5/10\n",
            "56250/56250 [==============================] - 171s 3ms/step - loss: 0.6900 - accuracy: 0.5000 - val_loss: 0.6897 - val_accuracy: 0.5009\n",
            "Epoch 6/10\n",
            "56250/56250 [==============================] - 172s 3ms/step - loss: 0.6899 - accuracy: 0.5000 - val_loss: 0.6896 - val_accuracy: 0.5009\n",
            "Epoch 7/10\n",
            "56250/56250 [==============================] - 171s 3ms/step - loss: 0.6899 - accuracy: 0.5000 - val_loss: 0.6898 - val_accuracy: 0.5009\n",
            "Epoch 8/10\n",
            "56250/56250 [==============================] - 174s 3ms/step - loss: 0.6901 - accuracy: 0.5000 - val_loss: 0.6898 - val_accuracy: 0.5009\n",
            "Epoch 9/10\n",
            "56250/56250 [==============================] - 171s 3ms/step - loss: 0.6901 - accuracy: 0.5000 - val_loss: 0.6900 - val_accuracy: 0.5009\n",
            "Epoch 10/10\n",
            "56250/56250 [==============================] - 171s 3ms/step - loss: 0.6901 - accuracy: 0.5000 - val_loss: 0.6898 - val_accuracy: 0.5009\n",
            "6250/6250 [==============================] - 12s 2ms/step - loss: 0.6896 - accuracy: 0.4991\n",
            "Test Loss: 0.6896133422851562, Test Accuracy: 0.499114990234375\n"
          ]
        }
      ]
    },
    {
      "cell_type": "code",
      "source": [
        "( pd.DataFrame(model_ffnn_4_history.history) >>\n",
        " ggplot(aes(x=pd.DataFrame(model_ffnn_4_history.history).index, y='accuracy')) +\n",
        " geom_line(color = \"blue\") +\n",
        " geom_line(aes(y='val_accuracy'), color = \"red\") +\n",
        " theme_minimal() +\n",
        "  labs(x=\"Epochs\", y=\"Accuracy\",\n",
        "       title= \"Accuracy Measures on Simple FFN\",\n",
        "       subtitle = \"On Whole 36 Lac Dataset\") +\n",
        "  annotate(\n",
        "      \"text\",\n",
        "      x = 7,\n",
        "      y = 0.49,\n",
        "      label = \"Training Acccuracy\",\n",
        "      color = \"blue\",\n",
        "      size = 10\n",
        "  ) +\n",
        "  annotate(\n",
        "      \"text\",\n",
        "      x = 7,\n",
        "      y = 0.52,\n",
        "      label = \"Validation Acccuracy\",\n",
        "      color = \"red\",\n",
        "      size = 10\n",
        "  ) +\n",
        "  coord_cartesian(ylim = [0.4,0.6])\n",
        " )"
      ],
      "metadata": {
        "id": "HReuzEw1fB7t",
        "colab": {
          "base_uri": "https://localhost:8080/"
        },
        "outputId": "b8e35dfa-312c-4fb8-ad9c-6c73e7bdd535"
      },
      "execution_count": null,
      "outputs": [
        {
          "output_type": "display_data",
          "data": {
            "text/plain": [
              "<Figure size 640x480 with 1 Axes>"
            ],
            "image/png": "[encoded data removed]"
          },
          "metadata": {
            "image/png": {
              "width": 640,
              "height": 480
            },
            "needs_background": "light"
          }
        },
        {
          "output_type": "execute_result",
          "data": {
            "text/plain": [
              "<Figure Size: (640 x 480)>"
            ]
          },
          "metadata": {},
          "execution_count": 47
        }
      ]
    },
    {
      "cell_type": "code",
      "source": [
        "pd.DataFrame(model_ffnn_4_history.history).to_csv(\"model_ffnn_4_history.csv\", index=False)"
      ],
      "metadata": {
        "id": "L-ewouzcjR1G"
      },
      "execution_count": null,
      "outputs": []
    }
  ]
}