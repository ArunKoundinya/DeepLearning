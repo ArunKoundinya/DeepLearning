{
  "nbformat": 4,
  "nbformat_minor": 0,
  "metadata": {
    "colab": {
      "provenance": [],
      "authorship_tag": "ABX9TyO8+Amxu0FA0c5OUmNrmjjg",
      "include_colab_link": true
    },
    "kernelspec": {
      "name": "python3",
      "display_name": "Python 3"
    },
    "language_info": {
      "name": "python"
    }
  },
  "cells": [
    {
      "cell_type": "markdown",
      "metadata": {
        "id": "view-in-github",
        "colab_type": "text"
      },
      "source": [
        "<a href=\"https://colab.research.google.com/github/ArunKoundinya/DeepLearning/blob/main/posts/gradient_tape_learning/index.ipynb\" target=\"_parent\"><img src=\"https://colab.research.google.com/assets/colab-badge.svg\" alt=\"Open In Colab\"/></a>"
      ]
    },
    {
      "cell_type": "code",
      "source": [
        "import tensorflow as tf\n",
        "import numpy as np"
      ],
      "metadata": {
        "id": "e9Ev5HSjMg2Z"
      },
      "execution_count": 1,
      "outputs": []
    },
    {
      "cell_type": "code",
      "source": [
        "x = tf.constant(100.0)\n",
        "b = tf.constant(10.0)"
      ],
      "metadata": {
        "id": "k0980HUGMrlF"
      },
      "execution_count": 2,
      "outputs": []
    },
    {
      "cell_type": "code",
      "source": [
        "with tf.GradientTape() as tape:\n",
        "  tape.watch(x)\n",
        "  y = x ** 2 + b\n",
        "  dy_dx = tape.gradient(y, x)\n",
        "\n",
        "del tape"
      ],
      "metadata": {
        "id": "0Pjq_zmSNGsb"
      },
      "execution_count": 3,
      "outputs": []
    },
    {
      "cell_type": "code",
      "source": [
        "print(dy_dx)"
      ],
      "metadata": {
        "colab": {
          "base_uri": "https://localhost:8080/"
        },
        "id": "-oOSmccROBEX",
        "outputId": "12517744-2695-4d5d-cb67-09749d1d078c"
      },
      "execution_count": 4,
      "outputs": [
        {
          "output_type": "stream",
          "name": "stdout",
          "text": [
            "tf.Tensor(200.0, shape=(), dtype=float32)\n"
          ]
        }
      ]
    },
    {
      "cell_type": "code",
      "source": [
        "x = tf.constant(20.0)\n",
        "b = tf.constant(10.0)\n",
        "\n",
        "with tf.GradientTape(persistent=True) as tape:\n",
        "  tape.watch(x)\n",
        "  tape.watch(b)\n",
        "  y = x ** 2 + b ** 2\n",
        "  dy_dx = tape.gradient(y, x)\n",
        "  dy_db = tape.gradient(y, b)\n",
        "\n",
        "del tape"
      ],
      "metadata": {
        "colab": {
          "base_uri": "https://localhost:8080/"
        },
        "id": "khKy0PeFEnbb",
        "outputId": "44e0a462-8036-492a-c498-b237eaf0e3ad"
      },
      "execution_count": 5,
      "outputs": [
        {
          "output_type": "stream",
          "name": "stderr",
          "text": [
            "WARNING:tensorflow:Calling GradientTape.gradient on a persistent tape inside its context is significantly less efficient than calling it outside the context (it causes the gradient ops to be recorded on the tape, leading to increased CPU and memory usage). Only call GradientTape.gradient inside the context if you actually want to trace the gradient in order to compute higher order derivatives.\n",
            "WARNING:tensorflow:Calling GradientTape.gradient on a persistent tape inside its context is significantly less efficient than calling it outside the context (it causes the gradient ops to be recorded on the tape, leading to increased CPU and memory usage). Only call GradientTape.gradient inside the context if you actually want to trace the gradient in order to compute higher order derivatives.\n"
          ]
        }
      ]
    },
    {
      "cell_type": "code",
      "source": [
        "print(dy_dx)\n",
        "print(dy_db)"
      ],
      "metadata": {
        "colab": {
          "base_uri": "https://localhost:8080/"
        },
        "id": "LqR403pmNTE3",
        "outputId": "508be824-b9e5-4273-9342-9c4e0db971ad"
      },
      "execution_count": 6,
      "outputs": [
        {
          "output_type": "stream",
          "name": "stdout",
          "text": [
            "tf.Tensor(40.0, shape=(), dtype=float32)\n",
            "tf.Tensor(20.0, shape=(), dtype=float32)\n"
          ]
        }
      ]
    },
    {
      "cell_type": "code",
      "source": [
        "x = tf.constant(20.0)\n",
        "b = tf.constant(10.0)\n",
        "\n",
        "with tf.GradientTape(persistent=True) as tape:\n",
        "    y = x ** 2 + b ** 2\n",
        "dy_dx, dy_db = tape.gradient(y, [x, b])"
      ],
      "metadata": {
        "id": "DsZBBCrNNzQR"
      },
      "execution_count": 7,
      "outputs": []
    },
    {
      "cell_type": "code",
      "source": [
        "print(dy_dx)\n",
        "print(dy_db)"
      ],
      "metadata": {
        "colab": {
          "base_uri": "https://localhost:8080/"
        },
        "id": "-IbwV3SHQNT2",
        "outputId": "e1b4a652-912e-4222-945d-b7de72cd8ab8"
      },
      "execution_count": 8,
      "outputs": [
        {
          "output_type": "stream",
          "name": "stdout",
          "text": [
            "None\n",
            "None\n"
          ]
        }
      ]
    },
    {
      "cell_type": "code",
      "source": [
        "x = tf.Variable(20.0)\n",
        "b = tf.Variable(10.0)\n",
        "\n",
        "with tf.GradientTape(persistent=True) as tape:\n",
        "    y = x ** 2 + b ** 2\n",
        "dy_dx, dy_db = tape.gradient(y, [x, b])"
      ],
      "metadata": {
        "id": "CB_acEWCDmJp"
      },
      "execution_count": 9,
      "outputs": []
    },
    {
      "cell_type": "code",
      "source": [
        "print(dy_dx)\n",
        "print(dy_db)"
      ],
      "metadata": {
        "colab": {
          "base_uri": "https://localhost:8080/"
        },
        "id": "L1ChrU4IHNKW",
        "outputId": "127ce159-9fb9-4475-a3f7-be8dfdbf4fe1"
      },
      "execution_count": 10,
      "outputs": [
        {
          "output_type": "stream",
          "name": "stdout",
          "text": [
            "tf.Tensor(40.0, shape=(), dtype=float32)\n",
            "tf.Tensor(20.0, shape=(), dtype=float32)\n"
          ]
        }
      ]
    },
    {
      "cell_type": "code",
      "source": [
        "x = tf.Variable(20.0)\n",
        "b = tf.Variable(10.0)\n",
        "\n",
        "with tf.GradientTape(persistent=True) as tape2:\n",
        "  with tf.GradientTape(persistent=True) as tape1:\n",
        "    y = x ** 2 + b ** 2\n",
        "dy_dx = tape1.gradient(y, x)\n",
        "dy_dx_1 = tape2.gradient(dy_dx, x)"
      ],
      "metadata": {
        "id": "4zlvWHfHIl_h"
      },
      "execution_count": 11,
      "outputs": []
    },
    {
      "cell_type": "code",
      "source": [
        "print(dy_dx)\n",
        "print(dy_dx_1)"
      ],
      "metadata": {
        "colab": {
          "base_uri": "https://localhost:8080/"
        },
        "id": "JmOCaG5rI5_i",
        "outputId": "a5d7cd5b-05b4-4050-fb88-bb0e622789ab"
      },
      "execution_count": 12,
      "outputs": [
        {
          "output_type": "stream",
          "name": "stdout",
          "text": [
            "tf.Tensor(40.0, shape=(), dtype=float32)\n",
            "None\n"
          ]
        }
      ]
    },
    {
      "cell_type": "code",
      "source": [
        "x = tf.Variable(20.0)\n",
        "b = tf.Variable(10.0)\n",
        "\n",
        "with tf.GradientTape(persistent=True) as tape2:\n",
        "  with tf.GradientTape(persistent=True) as tape1:\n",
        "    y = x ** 2 + b ** 2\n",
        "  dy_dx = tape1.gradient(y, x)\n",
        "dy_dx_1 = tape2.gradient(dy_dx, x)"
      ],
      "metadata": {
        "id": "loUsqUA6I7sd"
      },
      "execution_count": 13,
      "outputs": []
    },
    {
      "cell_type": "code",
      "source": [
        "print(dy_dx)\n",
        "print(dy_dx_1)"
      ],
      "metadata": {
        "colab": {
          "base_uri": "https://localhost:8080/"
        },
        "id": "_VEn8mM3Jc5T",
        "outputId": "6fe7d1f9-b82d-4ba7-ad86-42fb3ebf3e6a"
      },
      "execution_count": 14,
      "outputs": [
        {
          "output_type": "stream",
          "name": "stdout",
          "text": [
            "tf.Tensor(40.0, shape=(), dtype=float32)\n",
            "tf.Tensor(2.0, shape=(), dtype=float32)\n"
          ]
        }
      ]
    },
    {
      "cell_type": "code",
      "source": [
        "x = tf.Variable([-3,-2,-1,0,1,2,3])\n",
        "\n"
      ],
      "metadata": {
        "colab": {
          "base_uri": "https://localhost:8080/"
        },
        "id": "NBuUb6Mrwn3O",
        "outputId": "d63db09b-69f1-46de-ab3b-9dc26982beee"
      },
      "execution_count": 17,
      "outputs": [
        {
          "output_type": "execute_result",
          "data": {
            "text/plain": [
              "<tf.Variable 'Variable:0' shape=(7,) dtype=int32, numpy=array([-3, -2, -1,  0,  1,  2,  3], dtype=int32)>"
            ]
          },
          "metadata": {},
          "execution_count": 17
        }
      ]
    },
    {
      "cell_type": "code",
      "source": [
        "tf.math.square(x)"
      ],
      "metadata": {
        "colab": {
          "base_uri": "https://localhost:8080/"
        },
        "id": "7m_YOJ9sxhJX",
        "outputId": "af0790ec-3dac-4847-bbec-a24e6f5b8b15"
      },
      "execution_count": 19,
      "outputs": [
        {
          "output_type": "execute_result",
          "data": {
            "text/plain": [
              "<tf.Tensor: shape=(7,), dtype=int32, numpy=array([9, 4, 1, 0, 1, 4, 9], dtype=int32)>"
            ]
          },
          "metadata": {},
          "execution_count": 19
        }
      ]
    },
    {
      "cell_type": "code",
      "source": [
        "x = tf.Variable([-3,-2,-1,0,1,2,3],dtype=tf.float32)\n",
        "\n",
        "with tf.GradientTape(persistent=True) as tape2:\n",
        "  with tf.GradientTape(persistent=True) as tape1:\n",
        "    y = tf.math.square(x)\n",
        "  dy_dx = tape1.gradient(y, x)\n",
        "dy_dx_1 = tape2.gradient(dy_dx, x)"
      ],
      "metadata": {
        "id": "JBH7WUkgx40n"
      },
      "execution_count": 34,
      "outputs": []
    },
    {
      "cell_type": "code",
      "source": [
        "print(dy_dx)\n",
        "print(dy_dx_1)"
      ],
      "metadata": {
        "colab": {
          "base_uri": "https://localhost:8080/"
        },
        "id": "Ziubpfm2yl-d",
        "outputId": "675f7d56-9b2e-4c32-a6af-534dde764c10"
      },
      "execution_count": 35,
      "outputs": [
        {
          "output_type": "stream",
          "name": "stdout",
          "text": [
            "tf.Tensor([-6. -4. -2.  0.  2.  4.  6.], shape=(7,), dtype=float32)\n",
            "tf.Tensor([2. 2. 2. 2. 2. 2. 2.], shape=(7,), dtype=float32)\n"
          ]
        }
      ]
    },
    {
      "cell_type": "code",
      "source": [
        "def gradientdescent(learning_rate, w0):\n",
        "  with tf.GradientTape() as tape:\n",
        "    y = tf.math.square(w0)\n",
        "\n",
        "  dy_dw0 = tape.gradient(y, w0)\n",
        "  w0 = w0 - learning_rate * dy_dw0\n",
        "  return w0"
      ],
      "metadata": {
        "id": "7P3flHPF0mgt"
      },
      "execution_count": 84,
      "outputs": []
    },
    {
      "cell_type": "code",
      "source": [
        "w0 = tf.Variable(1.0,dtype=tf.float32)"
      ],
      "metadata": {
        "id": "lAR8a8GM30Oc"
      },
      "execution_count": 85,
      "outputs": []
    },
    {
      "cell_type": "code",
      "source": [
        "w0"
      ],
      "metadata": {
        "colab": {
          "base_uri": "https://localhost:8080/"
        },
        "id": "2AlFgs3u53u2",
        "outputId": "9f9832c6-9370-4809-8e9a-d6ac7e4dc7a1"
      },
      "execution_count": 72,
      "outputs": [
        {
          "output_type": "execute_result",
          "data": {
            "text/plain": [
              "<tf.Variable 'Variable:0' shape=() dtype=float32, numpy=1.0>"
            ]
          },
          "metadata": {},
          "execution_count": 72
        }
      ]
    },
    {
      "cell_type": "code",
      "source": [
        "tf.Variable(gradientdescent(0.01,w0).numpy(),dtype=tf.float32)"
      ],
      "metadata": {
        "colab": {
          "base_uri": "https://localhost:8080/"
        },
        "id": "r4BuLbjA4MQe",
        "outputId": "1c99a6c3-cc90-45f2-eaad-2bc7f7e762a3"
      },
      "execution_count": 71,
      "outputs": [
        {
          "output_type": "execute_result",
          "data": {
            "text/plain": [
              "<tf.Variable 'Variable:0' shape=() dtype=float32, numpy=0.72>"
            ]
          },
          "metadata": {},
          "execution_count": 71
        }
      ]
    },
    {
      "cell_type": "code",
      "source": [
        "for i in range(10000):\n",
        "  w0 = tf.Variable(gradientdescent(0.01,w0).numpy(),dtype=tf.float32)"
      ],
      "metadata": {
        "id": "DRbVu9-A4fEp"
      },
      "execution_count": 90,
      "outputs": []
    },
    {
      "cell_type": "code",
      "source": [
        "w0.numpy()"
      ],
      "metadata": {
        "colab": {
          "base_uri": "https://localhost:8080/"
        },
        "id": "V4-8H_lR5Ini",
        "outputId": "582cb5db-6301-414b-f4af-5407edb169a2"
      },
      "execution_count": 91,
      "outputs": [
        {
          "output_type": "execute_result",
          "data": {
            "text/plain": [
              "5.803526e-37"
            ]
          },
          "metadata": {},
          "execution_count": 91
        }
      ]
    }
  ]
}