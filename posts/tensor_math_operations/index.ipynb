{
  "cells": [
    {
      "cell_type": "markdown",
      "metadata": {},
      "source": [
        "---\n",
        "title: Basic Tensor Math Operations \n",
        "categories:\n",
        "- Tensor Basics\n",
        "- Tensor Math\n",
        "date: '2024-04-11'\n",
        "draft: false\n",
        "---"
      ]
    },
    {
      "cell_type": "markdown",
      "metadata": {},
      "source": [
        "This blog, I just a basic commparison of math operations between numpy and tensor variables.\n",
        "\n",
        "This is a good learning for me as almost all commands are similar to that of numpy."
      ]
    },
    {
      "cell_type": "markdown",
      "metadata": {},
      "source": [
        "![](image.png)"
      ]
    },
    {
      "cell_type": "markdown",
      "metadata": {},
      "source": [
        "<a href=\"https://colab.research.google.com/github/ArunKoundinya/DeepLearning/blob/main/posts/tensor_math_operations/index.ipynb\" target=\"_parent\"><img src=\"https://colab.research.google.com/assets/colab-badge.svg\" alt=\"Open In Colab\"/></a>"
      ]
    },
    {
      "cell_type": "markdown",
      "metadata": {},
      "source": [
        "## 0. Loading Libraries"
      ]
    },
    {
      "cell_type": "code",
      "execution_count": 2,
      "metadata": {
        "id": "bjCK4OoKxKGd"
      },
      "outputs": [],
      "source": [
        "import tensorflow as tf\n",
        "import numpy as np"
      ]
    },
    {
      "cell_type": "code",
      "execution_count": 3,
      "metadata": {
        "colab": {
          "base_uri": "https://localhost:8080/",
          "height": 35
        },
        "id": "FWjqbX6jxOn6",
        "outputId": "f8a5c30a-785e-472b-b8ed-24d6ebd57fdb"
      },
      "outputs": [
        {
          "data": {
            "application/vnd.google.colaboratory.intrinsic+json": {
              "type": "string"
            },
            "text/plain": [
              "'2.15.0'"
            ]
          },
          "execution_count": 3,
          "metadata": {},
          "output_type": "execute_result"
        }
      ],
      "source": [
        "tf.__version__"
      ]
    },
    {
      "cell_type": "code",
      "execution_count": 4,
      "metadata": {
        "colab": {
          "base_uri": "https://localhost:8080/"
        },
        "id": "OAl-ymShxRqb",
        "outputId": "9fbfd7fe-e48e-4822-ba68-289d0f187046"
      },
      "outputs": [
        {
          "data": {
            "text/plain": [
              "[PhysicalDevice(name='/physical_device:GPU:0', device_type='GPU')]"
            ]
          },
          "execution_count": 4,
          "metadata": {},
          "output_type": "execute_result"
        }
      ],
      "source": [
        "tf.config.list_physical_devices('GPU')"
      ]
    },
    {
      "cell_type": "markdown",
      "metadata": {},
      "source": [
        "## 1. Defining variables"
      ]
    },
    {
      "cell_type": "code",
      "execution_count": 19,
      "metadata": {
        "colab": {
          "base_uri": "https://localhost:8080/"
        },
        "id": "eYTJNQSOxVQi",
        "outputId": "89e6ebe8-f6df-4050-cd30-9bfadbb9df8e"
      },
      "outputs": [
        {
          "name": "stdout",
          "output_type": "stream",
          "text": [
            "tf.Tensor(\n",
            "[[30 40 50]\n",
            " [45 65 70]], shape=(2, 3), dtype=int32)\n",
            " \n",
            "[[30 40 50]\n",
            " [45 65 70]]\n"
          ]
        }
      ],
      "source": [
        "var = tf.constant([[30,40,50],[45,65,70]])\n",
        "\n",
        "var1 = np.array([[30,40,50],[45,65,70]])\n",
        "\n",
        "print(var)\n",
        "print(\" \")\n",
        "print(var1)"
      ]
    },
    {
      "cell_type": "markdown",
      "metadata": {},
      "source": [
        "## 2. Math Operations"
      ]
    },
    {
      "cell_type": "markdown",
      "metadata": {},
      "source": [
        "### 2.1. Absolute"
      ]
    },
    {
      "cell_type": "code",
      "execution_count": 21,
      "metadata": {
        "colab": {
          "base_uri": "https://localhost:8080/"
        },
        "id": "nuN3Np9ZxliY",
        "outputId": "3bef92e2-ffa4-427d-ef8c-f629f5a2e63a"
      },
      "outputs": [
        {
          "name": "stdout",
          "output_type": "stream",
          "text": [
            "tf.Tensor(\n",
            "[[-30 -40 -50]\n",
            " [-45 -65 -70]], shape=(2, 3), dtype=int32)\n",
            " \n",
            "[[-30 -40 -50]\n",
            " [-45 -65 -70]]\n"
          ]
        }
      ],
      "source": [
        "print(var * -1 )\n",
        "print(\" \")\n",
        "print(var1 * -1 )"
      ]
    },
    {
      "cell_type": "code",
      "execution_count": 23,
      "metadata": {
        "colab": {
          "base_uri": "https://localhost:8080/"
        },
        "id": "qD29U2ItynPc",
        "outputId": "b99063bf-3f7f-4817-944c-eef9d888d85b"
      },
      "outputs": [
        {
          "name": "stdout",
          "output_type": "stream",
          "text": [
            "tf.Tensor(\n",
            "[[30 40 50]\n",
            " [45 65 70]], shape=(2, 3), dtype=int32)\n",
            "\n",
            "[[30 40 50]\n",
            " [45 65 70]]\n"
          ]
        }
      ],
      "source": [
        "print(tf.math.abs(var * -1))\n",
        "print(\"\")\n",
        "print(np.abs(var1 * -1))"
      ]
    },
    {
      "cell_type": "markdown",
      "metadata": {},
      "source": [
        "\n",
        "Here we can see both the outputs and commands are very similar to that of numpy\n"
      ]
    },
    {
      "cell_type": "markdown",
      "metadata": {},
      "source": [
        "### 2.2. Argmax/Argmin"
      ]
    },
    {
      "cell_type": "code",
      "execution_count": 25,
      "metadata": {
        "colab": {
          "base_uri": "https://localhost:8080/"
        },
        "id": "Uylx5pXY0DWB",
        "outputId": "ef0fa609-3254-4e5f-ae1b-f6d504c47f85"
      },
      "outputs": [
        {
          "name": "stdout",
          "output_type": "stream",
          "text": [
            "tf.Tensor([1 1 1], shape=(3,), dtype=int64)\n",
            "\n",
            "5\n"
          ]
        }
      ],
      "source": [
        "print(tf.math.argmax(var))\n",
        "print(\"\")\n",
        "print(np.argmax(var1))"
      ]
    },
    {
      "cell_type": "markdown",
      "metadata": {},
      "source": [
        "\n",
        "This is the only difference we can see where `tensorflow` by default considers as `axis=0` while `numpy` takes all numbers\n"
      ]
    },
    {
      "cell_type": "code",
      "execution_count": 26,
      "metadata": {
        "colab": {
          "base_uri": "https://localhost:8080/"
        },
        "id": "ZYYJuaKcyvjK",
        "outputId": "240bd445-4ce3-46f4-aa21-132b66825821"
      },
      "outputs": [
        {
          "name": "stdout",
          "output_type": "stream",
          "text": [
            "tf.Tensor([1 1 1], shape=(3,), dtype=int64)\n",
            "\n",
            "[1 1 1]\n"
          ]
        }
      ],
      "source": [
        "print(tf.math.argmax(var,axis=0))\n",
        "print(\"\")\n",
        "print(np.argmax(var1,axis=0))"
      ]
    },
    {
      "cell_type": "code",
      "execution_count": 27,
      "metadata": {
        "colab": {
          "base_uri": "https://localhost:8080/"
        },
        "id": "5gLhWZ07y5DZ",
        "outputId": "d2f7fea6-7145-48ef-b39c-963cc06d0702"
      },
      "outputs": [
        {
          "name": "stdout",
          "output_type": "stream",
          "text": [
            "tf.Tensor([2 2], shape=(2,), dtype=int64)\n",
            "\n",
            "[2 2]\n"
          ]
        }
      ],
      "source": [
        "print(tf.math.argmax(var,axis=1))\n",
        "print(\"\")\n",
        "print(np.argmax(var1,axis=1))"
      ]
    },
    {
      "cell_type": "markdown",
      "metadata": {},
      "source": [
        "### 2.3. Maximum or Minumum"
      ]
    },
    {
      "cell_type": "code",
      "execution_count": 29,
      "metadata": {
        "colab": {
          "base_uri": "https://localhost:8080/"
        },
        "id": "oECWY4HJzI4u",
        "outputId": "fa90a2a2-2220-43b6-da7a-bd0162a4b141"
      },
      "outputs": [
        {
          "name": "stdout",
          "output_type": "stream",
          "text": [
            "tf.Tensor(70, shape=(), dtype=int32)\n",
            "\n",
            "70\n"
          ]
        }
      ],
      "source": [
        "print(tf.math.reduce_max(var))\n",
        "print(\"\")\n",
        "print(np.max(var1))"
      ]
    },
    {
      "cell_type": "code",
      "execution_count": 30,
      "metadata": {
        "colab": {
          "base_uri": "https://localhost:8080/"
        },
        "id": "7LTOKdUcz3vw",
        "outputId": "84cebf7b-dbba-49bd-9c83-1d0d51a97ff1"
      },
      "outputs": [
        {
          "name": "stdout",
          "output_type": "stream",
          "text": [
            "tf.Tensor([45 65 70], shape=(3,), dtype=int32)\n",
            "\n",
            "[45 65 70]\n"
          ]
        }
      ],
      "source": [
        "print(tf.math.reduce_max(var,axis = 0))\n",
        "print(\"\")\n",
        "print(np.max(var1,axis = 0))"
      ]
    },
    {
      "cell_type": "code",
      "execution_count": 31,
      "metadata": {
        "colab": {
          "base_uri": "https://localhost:8080/"
        },
        "id": "li5WhsWhz_7N",
        "outputId": "42f8f842-2ed5-4ba8-8518-f44e3815c6a0"
      },
      "outputs": [
        {
          "name": "stdout",
          "output_type": "stream",
          "text": [
            "tf.Tensor([50 70], shape=(2,), dtype=int32)\n",
            "\n",
            "[50 70]\n"
          ]
        }
      ],
      "source": [
        "print(tf.math.reduce_max(var,axis = 1))\n",
        "print(\"\")\n",
        "print(np.max(var1,axis = 1))"
      ]
    },
    {
      "cell_type": "markdown",
      "metadata": {},
      "source": [
        "### 2.4. Sum"
      ]
    },
    {
      "cell_type": "code",
      "execution_count": 38,
      "metadata": {
        "colab": {
          "base_uri": "https://localhost:8080/"
        },
        "id": "tT3A6ISD2o7v",
        "outputId": "f0746a57-b898-45b0-85c7-c1886ba19dcf"
      },
      "outputs": [
        {
          "name": "stdout",
          "output_type": "stream",
          "text": [
            "tf.Tensor(300, shape=(), dtype=int32)\n",
            "\n",
            "300\n"
          ]
        }
      ],
      "source": [
        "print(tf.math.reduce_sum(var))\n",
        "print(\"\")\n",
        "print(np.sum(var1))"
      ]
    },
    {
      "cell_type": "code",
      "execution_count": 37,
      "metadata": {
        "colab": {
          "base_uri": "https://localhost:8080/"
        },
        "id": "MMhkW2Ui17oy",
        "outputId": "0873f5ef-798d-4574-e75f-8e849673952d"
      },
      "outputs": [
        {
          "name": "stdout",
          "output_type": "stream",
          "text": [
            "tf.Tensor([ 75 105 120], shape=(3,), dtype=int32)\n",
            "\n",
            "[ 75 105 120]\n"
          ]
        }
      ],
      "source": [
        "print(tf.math.reduce_sum(var,axis=0))\n",
        "print(\"\")\n",
        "print(np.sum(var1,axis=0))"
      ]
    },
    {
      "cell_type": "markdown",
      "metadata": {},
      "source": [
        "### 2.5. Power"
      ]
    },
    {
      "cell_type": "code",
      "execution_count": 48,
      "metadata": {
        "colab": {
          "base_uri": "https://localhost:8080/"
        },
        "id": "lCWEgia02OFq",
        "outputId": "48d42f2d-d2e4-47ab-948f-e623058e5743"
      },
      "outputs": [
        {
          "name": "stdout",
          "output_type": "stream",
          "text": [
            "tf.Tensor(\n",
            "[[ 900 1600 2500]\n",
            " [2025 4225 4900]], shape=(2, 3), dtype=int32)\n",
            "\n",
            "[[ 900 1600 2500]\n",
            " [2025 4225 4900]]\n",
            "\n",
            "tf.Tensor(\n",
            "[[ 900 1600 2500]\n",
            " [2025 4225 4900]], shape=(2, 3), dtype=int32)\n",
            "\n",
            "[[ 900 1600 2500]\n",
            " [2025 4225 4900]]\n"
          ]
        }
      ],
      "source": [
        "print(tf.math.pow(var,2))\n",
        "print(\"\")\n",
        "print(np.power(var1,2))\n",
        "print(\"\")\n",
        "print(var ** 2)\n",
        "print(\"\")\n",
        "print(var1 ** 2)"
      ]
    },
    {
      "cell_type": "markdown",
      "metadata": {},
      "source": [
        "### 2.6. Log"
      ]
    },
    {
      "cell_type": "code",
      "execution_count": 53,
      "metadata": {
        "colab": {
          "base_uri": "https://localhost:8080/"
        },
        "id": "YprubS__275K",
        "outputId": "34eb0e34-ffc2-47c3-fc36-30bf0e7a0cab"
      },
      "outputs": [
        {
          "name": "stdout",
          "output_type": "stream",
          "text": [
            "tf.Tensor(\n",
            "[[3.4011974 3.6888795 3.912023 ]\n",
            " [3.8066626 4.1743875 4.248495 ]], shape=(2, 3), dtype=float32)\n",
            "\n",
            "[[3.40119738 3.68887945 3.91202301]\n",
            " [3.80666249 4.17438727 4.24849524]]\n"
          ]
        }
      ],
      "source": [
        "var = tf.cast(var, tf.float32)\n",
        "\n",
        "print(tf.math.log(var))\n",
        "print(\"\")\n",
        "print(np.log(var1))"
      ]
    },
    {
      "cell_type": "markdown",
      "metadata": {},
      "source": [
        "### 2.7. Exponential"
      ]
    },
    {
      "cell_type": "code",
      "execution_count": 58,
      "metadata": {
        "colab": {
          "base_uri": "https://localhost:8080/"
        },
        "id": "LVR5iIxK35la",
        "outputId": "b67ac679-e595-460f-8b1d-595101d72238"
      },
      "outputs": [
        {
          "name": "stdout",
          "output_type": "stream",
          "text": [
            "tf.Tensor(\n",
            "[[1.0686474e+13 2.3538525e+17 5.1847055e+21]\n",
            " [3.4934271e+19 1.6948892e+28 2.5154387e+30]], shape=(2, 3), dtype=float32)\n",
            "\n",
            "[[1.06864746e+13 2.35385267e+17 5.18470553e+21]\n",
            " [3.49342711e+19 1.69488924e+28 2.51543867e+30]]\n"
          ]
        }
      ],
      "source": [
        "var = tf.cast(var, tf.float32)\n",
        "\n",
        "print(tf.math.exp(var))\n",
        "print(\"\")\n",
        "print(np.exp(var1))"
      ]
    },
    {
      "cell_type": "markdown",
      "metadata": {},
      "source": [
        "### 2.8. Squareroot"
      ]
    },
    {
      "cell_type": "code",
      "execution_count": 59,
      "metadata": {
        "colab": {
          "base_uri": "https://localhost:8080/"
        },
        "id": "vfq0DoI64AVS",
        "outputId": "9889b1fa-1081-4431-9195-c6191b9b59e1"
      },
      "outputs": [
        {
          "name": "stdout",
          "output_type": "stream",
          "text": [
            "tf.Tensor(\n",
            "[[5.4772253 6.3245554 7.071068 ]\n",
            " [6.708204  8.062258  8.3666   ]], shape=(2, 3), dtype=float32)\n",
            "\n",
            "[[5.47722558 6.32455532 7.07106781]\n",
            " [6.70820393 8.06225775 8.36660027]]\n"
          ]
        }
      ],
      "source": [
        "print(tf.math.sqrt(var))\n",
        "print(\"\")\n",
        "print(np.sqrt(var1))"
      ]
    },
    {
      "cell_type": "markdown",
      "metadata": {},
      "source": [
        "```{=html}\n",
        "<script src=\"https://giscus.app/client.js\"\n",
        "        data-repo=\"ArunKoundinya/DeepLearning\"\n",
        "        data-repo-id=\"R_kgDOLhOfMA\"\n",
        "        data-category=\"General\"\n",
        "        data-category-id=\"DIC_kwDOLhOfMM4CeHeZ\"\n",
        "        data-mapping=\"pathname\"\n",
        "        data-strict=\"0\"\n",
        "        data-reactions-enabled=\"1\"\n",
        "        data-emit-metadata=\"0\"\n",
        "        data-input-position=\"bottom\"\n",
        "        data-theme=\"dark_high_contrast\"\n",
        "        data-lang=\"en\"\n",
        "        crossorigin=\"anonymous\"\n",
        "        async>\n",
        "</script>\n",
        "```"
      ]
    }
  ],
  "metadata": {
    "accelerator": "GPU",
    "colab": {
      "authorship_tag": "ABX9TyNYuyy39oyNeqZtvEmYZNEh",
      "gpuType": "T4",
      "include_colab_link": true,
      "provenance": []
    },
    "kernelspec": {
      "display_name": "Python 3",
      "name": "python3"
    },
    "language_info": {
      "name": "python"
    }
  },
  "nbformat": 4,
  "nbformat_minor": 0
}
