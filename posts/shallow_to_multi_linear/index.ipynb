{
  "cells": [
    {
      "cell_type": "markdown",
      "metadata": {},
      "source": [
        "---\n",
        "title: Shallow to Multi-Layer Neural Network - Linear Regression \n",
        "categories:\n",
        "- Linear Regression\n",
        "- Shallow Neural Network\n",
        "- Multi-Layer Neural Network\n",
        "date: '2024-04-02'\n",
        "description: Second Neural network model\n",
        "draft: false\n",
        "---"
      ]
    },
    {
      "cell_type": "markdown",
      "metadata": {},
      "source": [
        "In this blog, I will share my insights gained from analyzing a simulated dataset comprising 10,000 rows. Specifically, I'll delve into a comparative analysis between simple models and complex models.\n",
        "\n",
        "As a foundational understanding, it is widely acknowledged in the field that for simple handcrafted datasets of smaller to modest sizes simpler models outperform neural network models. \n",
        "\n",
        "Let us validate the same through practical experimentation and exploration."
      ]
    },
    {
      "cell_type": "markdown",
      "metadata": {},
      "source": [
        "![](image.png)"
      ]
    },
    {
      "cell_type": "markdown",
      "metadata": {
        "colab_type": "text",
        "id": "view-in-github"
      },
      "source": [
        "<a href=\"https://colab.research.google.com/github/ArunKoundinya/DeepLearning/blob/main/posts/shallow_to_multi_linear/index.ipynb\" target=\"_parent\"><img src=\"https://colab.research.google.com/assets/colab-badge.svg\" alt=\"Open In Colab\"/></a>"
      ]
    },
    {
      "cell_type": "markdown",
      "metadata": {},
      "source": [
        "## 0. Loading Libraries"
      ]
    },
    {
      "cell_type": "code",
      "execution_count": 1,
      "metadata": {
        "id": "QOEwYUIBoh1B"
      },
      "outputs": [],
      "source": [
        "import pandas as pd\n",
        "import numpy as np\n",
        "\n",
        "import tensorflow as tf\n",
        "import tensorflow.keras.layers as tfl\n",
        "\n",
        "from sklearn.linear_model import LinearRegression\n",
        "from sklearn.metrics import mean_squared_error"
      ]
    },
    {
      "cell_type": "markdown",
      "metadata": {},
      "source": [
        "## 1. Generating Simulated dataset"
      ]
    },
    {
      "cell_type": "code",
      "execution_count": 2,
      "metadata": {
        "colab": {
          "base_uri": "https://localhost:8080/"
        },
        "id": "u6-9y97LpZvP",
        "outputId": "6dae7faf-3e11-4026-aa9d-346f09303e17"
      },
      "outputs": [
        {
          "name": "stdout",
          "output_type": "stream",
          "text": [
            "         X1        X2        X3         Y\n",
            "0  1.524132 -0.934670  2.322977  2.912439\n",
            "1 -0.813685  3.410324  0.662084  3.258723\n",
            "2  0.183997 -3.398534  0.033855 -3.180682\n",
            "3  0.161710 -4.845459  0.026150 -4.657599\n",
            "4 -0.567619  3.020272  0.322191  2.774844\n",
            "         X1        X2        X3          Y\n",
            "0  1.524132 -0.934670  2.322977   3.685127\n",
            "1 -0.813685  3.410324  0.662084  21.872114\n",
            "2  0.183997 -3.398534  0.033855  -3.784055\n",
            "3  0.161710 -4.845459  0.026150  -5.420728\n",
            "4 -0.567619  3.020272  0.322191   8.136591\n"
          ]
        }
      ],
      "source": [
        "x1 = np.random.normal(size=10000)\n",
        "x2 = np.random.normal(size=10000) * 2\n",
        "x3 = np.power(x1,2)\n",
        "\n",
        "y = x1 + x2 + x3\n",
        "\n",
        "y1 = (x1 * np.exp(x2) + np.exp(-x3) * x2 ) * x1 + y\n",
        "\n",
        "finaldf = pd.DataFrame({\n",
        "    \"X1\" : x1,\n",
        "    \"X2\" : x2,\n",
        "    \"X3\" : x3,\n",
        "    \"Y\"  : y\n",
        "})\n",
        "\n",
        "finaldf1 = pd.DataFrame({\n",
        "    \"X1\" : x1,\n",
        "    \"X2\" : x2,\n",
        "    \"X3\" : x3,\n",
        "    \"Y\"  : y1\n",
        "})\n",
        "\n",
        "print(finaldf.head())\n",
        "\n",
        "print(finaldf1.head())"
      ]
    },
    {
      "cell_type": "markdown",
      "metadata": {},
      "source": [
        "Here we have created two dataframes;\n",
        "\n",
        "-  One with simple linear relationship\n",
        "-  Other with complex relationship with exponential functions"
      ]
    },
    {
      "cell_type": "markdown",
      "metadata": {},
      "source": [
        "## 2. Linear Regression Sci-Kit Learn"
      ]
    },
    {
      "cell_type": "markdown",
      "metadata": {},
      "source": [
        "### 2.1 Linear Relationship Model"
      ]
    },
    {
      "cell_type": "code",
      "execution_count": 3,
      "metadata": {
        "id": "9YtdCsf5qI0K"
      },
      "outputs": [],
      "source": [
        "X = finaldf[[\"X1\",\"X2\",\"X3\"]]\n",
        "Y = finaldf[[\"Y\"]]"
      ]
    },
    {
      "cell_type": "code",
      "execution_count": 4,
      "metadata": {
        "colab": {
          "base_uri": "https://localhost:8080/",
          "height": 75
        },
        "id": "o5ql_rh2q2ey",
        "outputId": "3f58f78a-24fc-4edc-a8f1-9f95d5f71f61"
      },
      "outputs": [
        {
          "data": {
            "text/html": [
              "<style>#sk-container-id-1 {color: black;background-color: white;}#sk-container-id-1 pre{padding: 0;}#sk-container-id-1 div.sk-toggleable {background-color: white;}#sk-container-id-1 label.sk-toggleable__label {cursor: pointer;display: block;width: 100%;margin-bottom: 0;padding: 0.3em;box-sizing: border-box;text-align: center;}#sk-container-id-1 label.sk-toggleable__label-arrow:before {content: \"▸\";float: left;margin-right: 0.25em;color: #696969;}#sk-container-id-1 label.sk-toggleable__label-arrow:hover:before {color: black;}#sk-container-id-1 div.sk-estimator:hover label.sk-toggleable__label-arrow:before {color: black;}#sk-container-id-1 div.sk-toggleable__content {max-height: 0;max-width: 0;overflow: hidden;text-align: left;background-color: #f0f8ff;}#sk-container-id-1 div.sk-toggleable__content pre {margin: 0.2em;color: black;border-radius: 0.25em;background-color: #f0f8ff;}#sk-container-id-1 input.sk-toggleable__control:checked~div.sk-toggleable__content {max-height: 200px;max-width: 100%;overflow: auto;}#sk-container-id-1 input.sk-toggleable__control:checked~label.sk-toggleable__label-arrow:before {content: \"▾\";}#sk-container-id-1 div.sk-estimator input.sk-toggleable__control:checked~label.sk-toggleable__label {background-color: #d4ebff;}#sk-container-id-1 div.sk-label input.sk-toggleable__control:checked~label.sk-toggleable__label {background-color: #d4ebff;}#sk-container-id-1 input.sk-hidden--visually {border: 0;clip: rect(1px 1px 1px 1px);clip: rect(1px, 1px, 1px, 1px);height: 1px;margin: -1px;overflow: hidden;padding: 0;position: absolute;width: 1px;}#sk-container-id-1 div.sk-estimator {font-family: monospace;background-color: #f0f8ff;border: 1px dotted black;border-radius: 0.25em;box-sizing: border-box;margin-bottom: 0.5em;}#sk-container-id-1 div.sk-estimator:hover {background-color: #d4ebff;}#sk-container-id-1 div.sk-parallel-item::after {content: \"\";width: 100%;border-bottom: 1px solid gray;flex-grow: 1;}#sk-container-id-1 div.sk-label:hover label.sk-toggleable__label {background-color: #d4ebff;}#sk-container-id-1 div.sk-serial::before {content: \"\";position: absolute;border-left: 1px solid gray;box-sizing: border-box;top: 0;bottom: 0;left: 50%;z-index: 0;}#sk-container-id-1 div.sk-serial {display: flex;flex-direction: column;align-items: center;background-color: white;padding-right: 0.2em;padding-left: 0.2em;position: relative;}#sk-container-id-1 div.sk-item {position: relative;z-index: 1;}#sk-container-id-1 div.sk-parallel {display: flex;align-items: stretch;justify-content: center;background-color: white;position: relative;}#sk-container-id-1 div.sk-item::before, #sk-container-id-1 div.sk-parallel-item::before {content: \"\";position: absolute;border-left: 1px solid gray;box-sizing: border-box;top: 0;bottom: 0;left: 50%;z-index: -1;}#sk-container-id-1 div.sk-parallel-item {display: flex;flex-direction: column;z-index: 1;position: relative;background-color: white;}#sk-container-id-1 div.sk-parallel-item:first-child::after {align-self: flex-end;width: 50%;}#sk-container-id-1 div.sk-parallel-item:last-child::after {align-self: flex-start;width: 50%;}#sk-container-id-1 div.sk-parallel-item:only-child::after {width: 0;}#sk-container-id-1 div.sk-dashed-wrapped {border: 1px dashed gray;margin: 0 0.4em 0.5em 0.4em;box-sizing: border-box;padding-bottom: 0.4em;background-color: white;}#sk-container-id-1 div.sk-label label {font-family: monospace;font-weight: bold;display: inline-block;line-height: 1.2em;}#sk-container-id-1 div.sk-label-container {text-align: center;}#sk-container-id-1 div.sk-container {/* jupyter's `normalize.less` sets `[hidden] { display: none; }` but bootstrap.min.css set `[hidden] { display: none !important; }` so we also need the `!important` here to be able to override the default hidden behavior on the sphinx rendered scikit-learn.org. See: https://github.com/scikit-learn/scikit-learn/issues/21755 */display: inline-block !important;position: relative;}#sk-container-id-1 div.sk-text-repr-fallback {display: none;}</style><div id=\"sk-container-id-1\" class=\"sk-top-container\"><div class=\"sk-text-repr-fallback\"><pre>LinearRegression()</pre><b>In a Jupyter environment, please rerun this cell to show the HTML representation or trust the notebook. <br />On GitHub, the HTML representation is unable to render, please try loading this page with nbviewer.org.</b></div><div class=\"sk-container\" hidden><div class=\"sk-item\"><div class=\"sk-estimator sk-toggleable\"><input class=\"sk-toggleable__control sk-hidden--visually\" id=\"sk-estimator-id-1\" type=\"checkbox\" checked><label for=\"sk-estimator-id-1\" class=\"sk-toggleable__label sk-toggleable__label-arrow\">LinearRegression</label><div class=\"sk-toggleable__content\"><pre>LinearRegression()</pre></div></div></div></div></div>"
            ],
            "text/plain": [
              "LinearRegression()"
            ]
          },
          "execution_count": 4,
          "metadata": {},
          "output_type": "execute_result"
        }
      ],
      "source": [
        "lmmodel = LinearRegression()\n",
        "\n",
        "lmmodel.fit(X,Y)"
      ]
    },
    {
      "cell_type": "code",
      "execution_count": 5,
      "metadata": {
        "colab": {
          "base_uri": "https://localhost:8080/"
        },
        "id": "aysdX33Kq-YO",
        "outputId": "f137aa80-4416-4cc8-bd58-cdf5477350d6"
      },
      "outputs": [
        {
          "data": {
            "text/plain": [
              "array([[1., 1., 1.]])"
            ]
          },
          "execution_count": 5,
          "metadata": {},
          "output_type": "execute_result"
        }
      ],
      "source": [
        "lmmodel.coef_"
      ]
    },
    {
      "cell_type": "code",
      "execution_count": 6,
      "metadata": {
        "colab": {
          "base_uri": "https://localhost:8080/"
        },
        "id": "TN8knX-9ukId",
        "outputId": "8dca809b-ba86-44d0-9707-82a214a42a73"
      },
      "outputs": [
        {
          "data": {
            "text/plain": [
              "2.3287394852055727e-30"
            ]
          },
          "execution_count": 6,
          "metadata": {},
          "output_type": "execute_result"
        }
      ],
      "source": [
        "y_pred = lmmodel.predict(X)\n",
        "\n",
        "mean_squared_error(Y, y_pred)"
      ]
    },
    {
      "cell_type": "markdown",
      "metadata": {},
      "source": [
        "\n",
        "Because of the linear relationship between the dependent and indepdent variables; the `mse` is very low.\n",
        " "
      ]
    },
    {
      "cell_type": "markdown",
      "metadata": {},
      "source": [
        "### 2.2 Complex Relationship Linear Model"
      ]
    },
    {
      "cell_type": "code",
      "execution_count": 7,
      "metadata": {
        "id": "gKC-GrRaMpcZ"
      },
      "outputs": [],
      "source": [
        "X1 = finaldf1[[\"X1\",\"X2\",\"X3\"]]\n",
        "Y1 = finaldf1[[\"Y\"]]"
      ]
    },
    {
      "cell_type": "code",
      "execution_count": 8,
      "metadata": {
        "colab": {
          "base_uri": "https://localhost:8080/",
          "height": 75
        },
        "id": "OiLFeG4YMpnL",
        "outputId": "e0c19d55-485f-465f-a140-03db2ef5ef6f"
      },
      "outputs": [
        {
          "data": {
            "text/html": [
              "<style>#sk-container-id-2 {color: black;background-color: white;}#sk-container-id-2 pre{padding: 0;}#sk-container-id-2 div.sk-toggleable {background-color: white;}#sk-container-id-2 label.sk-toggleable__label {cursor: pointer;display: block;width: 100%;margin-bottom: 0;padding: 0.3em;box-sizing: border-box;text-align: center;}#sk-container-id-2 label.sk-toggleable__label-arrow:before {content: \"▸\";float: left;margin-right: 0.25em;color: #696969;}#sk-container-id-2 label.sk-toggleable__label-arrow:hover:before {color: black;}#sk-container-id-2 div.sk-estimator:hover label.sk-toggleable__label-arrow:before {color: black;}#sk-container-id-2 div.sk-toggleable__content {max-height: 0;max-width: 0;overflow: hidden;text-align: left;background-color: #f0f8ff;}#sk-container-id-2 div.sk-toggleable__content pre {margin: 0.2em;color: black;border-radius: 0.25em;background-color: #f0f8ff;}#sk-container-id-2 input.sk-toggleable__control:checked~div.sk-toggleable__content {max-height: 200px;max-width: 100%;overflow: auto;}#sk-container-id-2 input.sk-toggleable__control:checked~label.sk-toggleable__label-arrow:before {content: \"▾\";}#sk-container-id-2 div.sk-estimator input.sk-toggleable__control:checked~label.sk-toggleable__label {background-color: #d4ebff;}#sk-container-id-2 div.sk-label input.sk-toggleable__control:checked~label.sk-toggleable__label {background-color: #d4ebff;}#sk-container-id-2 input.sk-hidden--visually {border: 0;clip: rect(1px 1px 1px 1px);clip: rect(1px, 1px, 1px, 1px);height: 1px;margin: -1px;overflow: hidden;padding: 0;position: absolute;width: 1px;}#sk-container-id-2 div.sk-estimator {font-family: monospace;background-color: #f0f8ff;border: 1px dotted black;border-radius: 0.25em;box-sizing: border-box;margin-bottom: 0.5em;}#sk-container-id-2 div.sk-estimator:hover {background-color: #d4ebff;}#sk-container-id-2 div.sk-parallel-item::after {content: \"\";width: 100%;border-bottom: 1px solid gray;flex-grow: 1;}#sk-container-id-2 div.sk-label:hover label.sk-toggleable__label {background-color: #d4ebff;}#sk-container-id-2 div.sk-serial::before {content: \"\";position: absolute;border-left: 1px solid gray;box-sizing: border-box;top: 0;bottom: 0;left: 50%;z-index: 0;}#sk-container-id-2 div.sk-serial {display: flex;flex-direction: column;align-items: center;background-color: white;padding-right: 0.2em;padding-left: 0.2em;position: relative;}#sk-container-id-2 div.sk-item {position: relative;z-index: 1;}#sk-container-id-2 div.sk-parallel {display: flex;align-items: stretch;justify-content: center;background-color: white;position: relative;}#sk-container-id-2 div.sk-item::before, #sk-container-id-2 div.sk-parallel-item::before {content: \"\";position: absolute;border-left: 1px solid gray;box-sizing: border-box;top: 0;bottom: 0;left: 50%;z-index: -1;}#sk-container-id-2 div.sk-parallel-item {display: flex;flex-direction: column;z-index: 1;position: relative;background-color: white;}#sk-container-id-2 div.sk-parallel-item:first-child::after {align-self: flex-end;width: 50%;}#sk-container-id-2 div.sk-parallel-item:last-child::after {align-self: flex-start;width: 50%;}#sk-container-id-2 div.sk-parallel-item:only-child::after {width: 0;}#sk-container-id-2 div.sk-dashed-wrapped {border: 1px dashed gray;margin: 0 0.4em 0.5em 0.4em;box-sizing: border-box;padding-bottom: 0.4em;background-color: white;}#sk-container-id-2 div.sk-label label {font-family: monospace;font-weight: bold;display: inline-block;line-height: 1.2em;}#sk-container-id-2 div.sk-label-container {text-align: center;}#sk-container-id-2 div.sk-container {/* jupyter's `normalize.less` sets `[hidden] { display: none; }` but bootstrap.min.css set `[hidden] { display: none !important; }` so we also need the `!important` here to be able to override the default hidden behavior on the sphinx rendered scikit-learn.org. See: https://github.com/scikit-learn/scikit-learn/issues/21755 */display: inline-block !important;position: relative;}#sk-container-id-2 div.sk-text-repr-fallback {display: none;}</style><div id=\"sk-container-id-2\" class=\"sk-top-container\"><div class=\"sk-text-repr-fallback\"><pre>LinearRegression()</pre><b>In a Jupyter environment, please rerun this cell to show the HTML representation or trust the notebook. <br />On GitHub, the HTML representation is unable to render, please try loading this page with nbviewer.org.</b></div><div class=\"sk-container\" hidden><div class=\"sk-item\"><div class=\"sk-estimator sk-toggleable\"><input class=\"sk-toggleable__control sk-hidden--visually\" id=\"sk-estimator-id-2\" type=\"checkbox\" checked><label for=\"sk-estimator-id-2\" class=\"sk-toggleable__label sk-toggleable__label-arrow\">LinearRegression</label><div class=\"sk-toggleable__content\"><pre>LinearRegression()</pre></div></div></div></div></div>"
            ],
            "text/plain": [
              "LinearRegression()"
            ]
          },
          "execution_count": 8,
          "metadata": {},
          "output_type": "execute_result"
        }
      ],
      "source": [
        "lmmodel1 = LinearRegression()\n",
        "\n",
        "lmmodel1.fit(X1,Y1)"
      ]
    },
    {
      "cell_type": "code",
      "execution_count": 9,
      "metadata": {
        "colab": {
          "base_uri": "https://localhost:8080/"
        },
        "id": "pMQIWCYcM0ht",
        "outputId": "087a7034-809e-44e9-b0e2-866e44ee08ab"
      },
      "outputs": [
        {
          "data": {
            "text/plain": [
              "array([[2.69112711, 8.39388391, 9.43535975]])"
            ]
          },
          "execution_count": 9,
          "metadata": {},
          "output_type": "execute_result"
        }
      ],
      "source": [
        "lmmodel1.coef_"
      ]
    },
    {
      "cell_type": "code",
      "execution_count": 10,
      "metadata": {
        "colab": {
          "base_uri": "https://localhost:8080/"
        },
        "id": "uqfWeHm0M2-c",
        "outputId": "1cf5e36f-61ec-458b-99f3-89d1e7a1576e"
      },
      "outputs": [
        {
          "data": {
            "text/plain": [
              "4385.825525517447"
            ]
          },
          "execution_count": 10,
          "metadata": {},
          "output_type": "execute_result"
        }
      ],
      "source": [
        "y_pred = lmmodel.predict(X1)\n",
        "\n",
        "mean_squared_error(Y1, y_pred)"
      ]
    },
    {
      "cell_type": "markdown",
      "metadata": {},
      "source": [
        "\n",
        "Because of the complex relationship between the dependent and independent variables; the `mse` is very high compared to earlier model.\n",
        "\n",
        " Model Type|Datset | MSE\n",
        "----|----|---\n",
        "Sci-Kit LM|Linear Relationship| 2.3287394852055727e-30.\n",
        "Sci-Kit LM |Complex Relationship| 4385.825525517447.\n",
        "\n",
        "\n",
        "Now let us explore Neural Network Models."
      ]
    },
    {
      "cell_type": "markdown",
      "metadata": {},
      "source": [
        "## 3. Tensor Flow NN Linear Models."
      ]
    },
    {
      "cell_type": "markdown",
      "metadata": {},
      "source": [
        "### 3.1 Shallow NN - Linear Relationship"
      ]
    },
    {
      "cell_type": "code",
      "execution_count": 11,
      "metadata": {
        "id": "J8tb2xxlrJeC"
      },
      "outputs": [],
      "source": [
        "modetf = tf.keras.Sequential([\n",
        "    tfl.Dense(1,\n",
        "              input_shape = (3,),\n",
        "              activation = \"linear\"\n",
        "              )\n",
        "])"
      ]
    },
    {
      "cell_type": "code",
      "execution_count": 12,
      "metadata": {
        "colab": {
          "base_uri": "https://localhost:8080/"
        },
        "id": "k9Rv3BrIsMRa",
        "outputId": "5dde87c9-a0ab-40cc-f049-cb0f4ff64617"
      },
      "outputs": [
        {
          "name": "stdout",
          "output_type": "stream",
          "text": [
            "Model: \"sequential\"\n",
            "_________________________________________________________________\n",
            " Layer (type)                Output Shape              Param #   \n",
            "=================================================================\n",
            " dense (Dense)               (None, 1)                 4         \n",
            "                                                                 \n",
            "=================================================================\n",
            "Total params: 4 (16.00 Byte)\n",
            "Trainable params: 4 (16.00 Byte)\n",
            "Non-trainable params: 0 (0.00 Byte)\n",
            "_________________________________________________________________\n"
          ]
        }
      ],
      "source": [
        "modetf.summary()"
      ]
    },
    {
      "cell_type": "code",
      "execution_count": 13,
      "metadata": {
        "colab": {
          "base_uri": "https://localhost:8080/"
        },
        "id": "cf2tngj2sOPM",
        "outputId": "e2d57622-5a1d-452a-df59-168baef0efc2"
      },
      "outputs": [
        {
          "data": {
            "text/plain": [
              "<keras.src.callbacks.History at 0x7ec5a55b0f40>"
            ]
          },
          "execution_count": 13,
          "metadata": {},
          "output_type": "execute_result"
        }
      ],
      "source": [
        "modetf.compile(optimizer = \"sgd\",\n",
        "               loss = \"mean_squared_error\",\n",
        "               metrics = [\"mse\"])\n",
        "\n",
        "modetf.fit(X,Y,epochs=100, verbose=0)"
      ]
    },
    {
      "cell_type": "code",
      "execution_count": 14,
      "metadata": {
        "colab": {
          "base_uri": "https://localhost:8080/"
        },
        "id": "1gVLoFhKsm6y",
        "outputId": "c45960ca-eb73-4aeb-97e4-ab5aad3b1ea2"
      },
      "outputs": [
        {
          "data": {
            "text/plain": [
              "[array([[1.0000002 ],\n",
              "        [0.99999994],\n",
              "        [1.        ]], dtype=float32),\n",
              " array([1.8922645e-08], dtype=float32)]"
            ]
          },
          "execution_count": 14,
          "metadata": {},
          "output_type": "execute_result"
        }
      ],
      "source": [
        "modetf.layers[0].get_weights()"
      ]
    },
    {
      "cell_type": "markdown",
      "metadata": {},
      "source": [
        "\n",
        "As we have seen in the previous blog the weights are not same and accurate compared to the `OLS` model.\n"
      ]
    },
    {
      "cell_type": "code",
      "execution_count": 15,
      "metadata": {
        "colab": {
          "base_uri": "https://localhost:8080/"
        },
        "id": "EX_2bjBjtE8f",
        "outputId": "9f9a0d1d-82f8-44eb-8ff1-86ddd4b5dd77"
      },
      "outputs": [
        {
          "name": "stdout",
          "output_type": "stream",
          "text": [
            "313/313 [==============================] - 1s 1ms/step\n"
          ]
        },
        {
          "data": {
            "text/plain": [
              "8.450062478432384e-14"
            ]
          },
          "execution_count": 15,
          "metadata": {},
          "output_type": "execute_result"
        }
      ],
      "source": [
        "mean_squared_error(Y, modetf.predict(X).flatten())"
      ]
    },
    {
      "cell_type": "markdown",
      "metadata": {},
      "source": [
        "\n",
        "`mse` is very low.\n"
      ]
    },
    {
      "cell_type": "markdown",
      "metadata": {},
      "source": [
        "### 3.2 Shallow NN - Complex Relationship"
      ]
    },
    {
      "cell_type": "code",
      "execution_count": 16,
      "metadata": {
        "colab": {
          "base_uri": "https://localhost:8080/"
        },
        "id": "5rQ2XVXDNJ8B",
        "outputId": "81bc3e47-1dc3-4835-9314-fd3678e1fc87"
      },
      "outputs": [
        {
          "data": {
            "text/plain": [
              "<keras.src.callbacks.History at 0x7ec59cd10760>"
            ]
          },
          "execution_count": 16,
          "metadata": {},
          "output_type": "execute_result"
        }
      ],
      "source": [
        "modetf.fit(X1,Y1,epochs=100,verbose=0)"
      ]
    },
    {
      "cell_type": "code",
      "execution_count": 17,
      "metadata": {
        "colab": {
          "base_uri": "https://localhost:8080/"
        },
        "id": "r_FGipszNKGD",
        "outputId": "2db6f82d-35b4-4b1e-ead8-8cae31ffc4af"
      },
      "outputs": [
        {
          "data": {
            "text/plain": [
              "[array([[ 7.9459767],\n",
              "        [10.005791 ],\n",
              "        [19.434795 ]], dtype=float32),\n",
              " array([-2.91453], dtype=float32)]"
            ]
          },
          "execution_count": 17,
          "metadata": {},
          "output_type": "execute_result"
        }
      ],
      "source": [
        "modetf.layers[0].get_weights()"
      ]
    },
    {
      "cell_type": "code",
      "execution_count": 18,
      "metadata": {
        "colab": {
          "base_uri": "https://localhost:8080/"
        },
        "id": "MN36BxwPNKMB",
        "outputId": "7a334ea5-e60e-4297-ebaf-109e9b3079e3"
      },
      "outputs": [
        {
          "name": "stdout",
          "output_type": "stream",
          "text": [
            "313/313 [==============================] - 0s 1ms/step\n"
          ]
        },
        {
          "data": {
            "text/plain": [
              "4279.216985484737"
            ]
          },
          "execution_count": 18,
          "metadata": {},
          "output_type": "execute_result"
        }
      ],
      "source": [
        "mean_squared_error(Y1, modetf.predict(X1).flatten())"
      ]
    },
    {
      "cell_type": "markdown",
      "metadata": {},
      "source": [
        "\n",
        "`mse` is high compared to earlier one.\n",
        "\n",
        " Model Type|Dataset Type | MSE\n",
        "----|----|---\n",
        "Sci-Kit LM|Linear Relationship| 2.3287394852055727e-30.\n",
        "Sci-Kit LM |Complex Relationship| 4385.825525517447.\n",
        "Shallow NN |Linear Relationship| 8.450062478432384e-14.\n",
        "Shallow NN |Complex Relationship| 4279.216985484737.\n",
        "\n",
        "\n",
        "Now let us explore Multi-Layer Neural Network Models."
      ]
    },
    {
      "cell_type": "markdown",
      "metadata": {},
      "source": [
        "### 3.3 Multi-Layer NN - Linear Relationship"
      ]
    },
    {
      "cell_type": "code",
      "execution_count": 19,
      "metadata": {
        "id": "WWs9MR97tXJ8"
      },
      "outputs": [],
      "source": [
        "modetf1 = tf.keras.Sequential([\n",
        "    tfl.Dense(100,\n",
        "              input_shape = (3,),\n",
        "              activation = \"linear\"\n",
        "              ),\n",
        "    tfl.Dense(1,\n",
        "              activation = \"linear\"\n",
        "              )\n",
        "])"
      ]
    },
    {
      "cell_type": "code",
      "execution_count": 20,
      "metadata": {
        "colab": {
          "base_uri": "https://localhost:8080/"
        },
        "id": "yBxwb7mwtec5",
        "outputId": "e537f864-7370-45a0-b838-2ee6f000160c"
      },
      "outputs": [
        {
          "name": "stdout",
          "output_type": "stream",
          "text": [
            "Model: \"sequential_1\"\n",
            "_________________________________________________________________\n",
            " Layer (type)                Output Shape              Param #   \n",
            "=================================================================\n",
            " dense_1 (Dense)             (None, 100)               400       \n",
            "                                                                 \n",
            " dense_2 (Dense)             (None, 1)                 101       \n",
            "                                                                 \n",
            "=================================================================\n",
            "Total params: 501 (1.96 KB)\n",
            "Trainable params: 501 (1.96 KB)\n",
            "Non-trainable params: 0 (0.00 Byte)\n",
            "_________________________________________________________________\n"
          ]
        }
      ],
      "source": [
        "modetf1.summary()"
      ]
    },
    {
      "cell_type": "markdown",
      "metadata": {},
      "source": [
        "\n",
        "Theory it is still a shallow linear model. As activations used are of identity function. So, we will not see any change in `mse`\n"
      ]
    },
    {
      "cell_type": "code",
      "execution_count": 21,
      "metadata": {
        "colab": {
          "base_uri": "https://localhost:8080/"
        },
        "id": "da80bV5_tggT",
        "outputId": "7c0a01cc-8c39-4566-9791-4c856a9bb5ed"
      },
      "outputs": [
        {
          "data": {
            "text/plain": [
              "<keras.src.callbacks.History at 0x7ec5902b9360>"
            ]
          },
          "execution_count": 21,
          "metadata": {},
          "output_type": "execute_result"
        }
      ],
      "source": [
        "modetf1.compile(optimizer = \"sgd\",\n",
        "               loss = \"mean_squared_error\",\n",
        "               metrics = [\"mse\"])\n",
        "\n",
        "modetf1.fit(X,Y,epochs=100, verbose=0)"
      ]
    },
    {
      "cell_type": "code",
      "execution_count": 22,
      "metadata": {
        "colab": {
          "base_uri": "https://localhost:8080/"
        },
        "id": "a6_Z3lkjtlHu",
        "outputId": "52dcde05-cfe7-46ae-a6b4-49afcfc9917c"
      },
      "outputs": [
        {
          "name": "stdout",
          "output_type": "stream",
          "text": [
            "313/313 [==============================] - 1s 2ms/step\n"
          ]
        },
        {
          "data": {
            "text/plain": [
              "3.834542424936751e-14"
            ]
          },
          "execution_count": 22,
          "metadata": {},
          "output_type": "execute_result"
        }
      ],
      "source": [
        "mean_squared_error(Y, modetf1.predict(X).flatten())"
      ]
    },
    {
      "cell_type": "markdown",
      "metadata": {},
      "source": [
        "`mse` almost remained the same for this model as to that of shallow NN model."
      ]
    },
    {
      "cell_type": "markdown",
      "metadata": {},
      "source": [
        "### 3.4. Multi-Layer NN  - Complex Relationship"
      ]
    },
    {
      "cell_type": "code",
      "execution_count": 23,
      "metadata": {
        "colab": {
          "base_uri": "https://localhost:8080/"
        },
        "id": "aXAUligyNqf_",
        "outputId": "654106bc-88f5-4877-c00a-e91469aef8ee"
      },
      "outputs": [
        {
          "name": "stdout",
          "output_type": "stream",
          "text": [
            "313/313 [==============================] - 0s 1ms/step\n"
          ]
        },
        {
          "data": {
            "text/plain": [
              "4506.472209255081"
            ]
          },
          "execution_count": 23,
          "metadata": {},
          "output_type": "execute_result"
        }
      ],
      "source": [
        "modetf1.fit(X1,Y1,epochs=100, verbose=0)\n",
        "#modetf2_pred =\n",
        "#mean_squared_error(Y, modetf2_pred.flatten())\n",
        "mean_squared_error(Y1, np.nan_to_num(modetf1.predict(X1)).flatten())"
      ]
    },
    {
      "cell_type": "markdown",
      "metadata": {},
      "source": [
        "`mse` is also same for this model."
      ]
    },
    {
      "cell_type": "markdown",
      "metadata": {},
      "source": [
        " Model Type|Dataset Type | MSE \n",
        "----|----|---\n",
        "Sci-Kit LM|Linear Relationship| 2.3287394852055727e-30.\n",
        "Sci-Kit LM |Complex Relationship| 4385.825525517447.\n",
        "Shallow NN |Linear Relationship| 8.450062478432384e-14.\n",
        "Shallow NN |Complex Relationship| 4279.216985484737.\n",
        "Multi-Layer NN |Linear Relationship| 3.834542424936751e-14\n",
        "Multi-Layer NN |Complex Relationship| 4506.472209255081"
      ]
    },
    {
      "cell_type": "markdown",
      "metadata": {},
      "source": [
        "### 3.5 Mulit-Layer NN with Sigmoid - Simpler Relationship"
      ]
    },
    {
      "cell_type": "code",
      "execution_count": 24,
      "metadata": {
        "id": "Nk7e2ynftn22"
      },
      "outputs": [],
      "source": [
        "modetf2 = tf.keras.Sequential([\n",
        "    tfl.Dense(4,\n",
        "              input_shape = (3,),\n",
        "              activation = \"linear\"\n",
        "              ),\n",
        "    tfl.Dense(3,\n",
        "              input_shape = (3,),\n",
        "              activation = \"sigmoid\"\n",
        "              ),\n",
        "    tfl.Dense(1,\n",
        "              activation = \"linear\"\n",
        "              )\n",
        "])"
      ]
    },
    {
      "cell_type": "code",
      "execution_count": 25,
      "metadata": {
        "colab": {
          "base_uri": "https://localhost:8080/"
        },
        "id": "GUmk051euSya",
        "outputId": "270030f9-fe40-4f28-a6a6-4d9f23f0a07d"
      },
      "outputs": [
        {
          "data": {
            "text/plain": [
              "<keras.src.callbacks.History at 0x7ec5901c7b80>"
            ]
          },
          "execution_count": 25,
          "metadata": {},
          "output_type": "execute_result"
        }
      ],
      "source": [
        "modetf2.compile(optimizer = \"sgd\",\n",
        "               loss = \"mean_squared_error\",\n",
        "               metrics = [\"mse\"])\n",
        "\n",
        "modetf2.fit(X,Y,epochs=100, verbose=0)"
      ]
    },
    {
      "cell_type": "code",
      "execution_count": 26,
      "metadata": {
        "colab": {
          "base_uri": "https://localhost:8080/"
        },
        "id": "XpcZ59equVGw",
        "outputId": "377abe13-6008-4ac0-a8b9-24db5e1862ff"
      },
      "outputs": [
        {
          "name": "stdout",
          "output_type": "stream",
          "text": [
            "313/313 [==============================] - 0s 1ms/step\n"
          ]
        },
        {
          "data": {
            "text/plain": [
              "0.013774647608438807"
            ]
          },
          "execution_count": 26,
          "metadata": {},
          "output_type": "execute_result"
        }
      ],
      "source": [
        "modetf2_pred = np.nan_to_num(modetf2.predict(X))\n",
        "mean_squared_error(Y, modetf2_pred.flatten())\n"
      ]
    },
    {
      "cell_type": "markdown",
      "metadata": {},
      "source": [
        "\n",
        "Upon introducing a model with a complex activation function to a simpler dataset, the mean squared error (MSE) surged significantly. This sharp increase suggests that such a model may not be suitable for this dataset.\n"
      ]
    },
    {
      "cell_type": "markdown",
      "metadata": {},
      "source": [
        "### 3.6 Mulit-Layer NN with Sigmoid - Complex Relationship"
      ]
    },
    {
      "cell_type": "code",
      "execution_count": 27,
      "metadata": {
        "colab": {
          "base_uri": "https://localhost:8080/"
        },
        "id": "ytjGaRTYOQLx",
        "outputId": "f32355ca-9820-49b8-b45d-c18df6b9a8bd"
      },
      "outputs": [
        {
          "name": "stdout",
          "output_type": "stream",
          "text": [
            "313/313 [==============================] - 0s 1ms/step\n"
          ]
        },
        {
          "data": {
            "text/plain": [
              "4385.579539532295"
            ]
          },
          "execution_count": 27,
          "metadata": {},
          "output_type": "execute_result"
        }
      ],
      "source": [
        "modetf2.fit(X1,Y1,epochs=100, verbose=0)\n",
        "mean_squared_error(Y1, np.nan_to_num(modetf2.predict(X1)).flatten())"
      ]
    },
    {
      "cell_type": "markdown",
      "metadata": {},
      "source": [
        "\n",
        "Since the dataset has intricate complex nature, the `mse` for this model remained the same.\n"
      ]
    },
    {
      "cell_type": "markdown",
      "metadata": {},
      "source": [
        " Model Type|Dataset Type | MSE \n",
        "----|----|---\n",
        "Sci-Kit LM|Linear Relationship| 2.3287394852055727e-30.\n",
        "Sci-Kit LM |Complex Relationship| 4385.825525517447.\n",
        "Shallow NN |Linear Relationship| 8.450062478432384e-14.\n",
        "Shallow NN |Complex Relationship| 4279.216985484737.\n",
        "Multi-Layer NN |Linear Relationship| 3.834542424936751e-14\n",
        "Multi-Layer NN |Complex Relationship| 4506.472209255081\n",
        "Multi-Layer with Sigmoid NN |Linear Relationship| 0.013774647608438807.\n",
        "Multi-Layer with Sigmoid NN |Complex Relationship| 4385.579539532295"
      ]
    },
    {
      "cell_type": "markdown",
      "metadata": {},
      "source": [
        "### 3.7. Multi-Layer NN with Sigmoid & Relu - Complex Relationship"
      ]
    },
    {
      "cell_type": "code",
      "execution_count": 28,
      "metadata": {
        "colab": {
          "base_uri": "https://localhost:8080/"
        },
        "id": "rJUISNouxIU1",
        "outputId": "75616fa4-9130-4682-bdd3-3ec615347a07"
      },
      "outputs": [
        {
          "name": "stdout",
          "output_type": "stream",
          "text": [
            "313/313 [==============================] - 1s 2ms/step\n"
          ]
        },
        {
          "data": {
            "text/plain": [
              "4433.14019525845"
            ]
          },
          "execution_count": 28,
          "metadata": {},
          "output_type": "execute_result"
        }
      ],
      "source": [
        "modetf3 = tf.keras.Sequential([\n",
        "    tfl.Dense(3,\n",
        "              input_shape = (3,),\n",
        "              activation = \"relu\"\n",
        "              ),\n",
        "    tfl.Dense(6,\n",
        "              activation = \"sigmoid\"\n",
        "              ),\n",
        "    tfl.Dense(12,\n",
        "              activation = \"sigmoid\"\n",
        "              ),\n",
        "    tfl.Dense(6,\n",
        "              activation = \"sigmoid\"\n",
        "              ),\n",
        "    tfl.Dense(1,\n",
        "              activation = \"linear\"\n",
        "              )\n",
        "])\n",
        "\n",
        "modetf3.compile(optimizer = \"sgd\",\n",
        "               loss = \"mean_squared_error\",\n",
        "               metrics = [\"mse\"])\n",
        "\n",
        "modetf3.fit(X1,Y1,epochs=1000, verbose=0)\n",
        "\n",
        "mean_squared_error(Y1, modetf3.predict(X1).flatten())"
      ]
    },
    {
      "cell_type": "markdown",
      "metadata": {},
      "source": [
        "\n",
        "Since the dataset has intricate complex nature, the `mse` for this model remained the same.\n"
      ]
    },
    {
      "cell_type": "markdown",
      "metadata": {},
      "source": [
        " Model Type|Dataset Type | MSE \n",
        "----|----|---\n",
        "Sci-Kit LM|Linear Relationship| 2.3287394852055727e-30.\n",
        "Sci-Kit LM |Complex Relationship| 4385.825525517447.\n",
        "Shallow NN |Linear Relationship| 8.450062478432384e-14.\n",
        "Shallow NN |Complex Relationship| 4279.216985484737.\n",
        "Multi-Layer NN |Linear Relationship| 3.834542424936751e-14\n",
        "Multi-Layer NN |Complex Relationship| 4506.472209255081\n",
        "Multi-Layer with Sigmoid NN |Linear Relationship| 0.013774647608438807.\n",
        "Multi-Layer with Sigmoid NN |Complex Relationship| 4385.579539532295.\n",
        "Multi-Layer with Sigmoid & Relu NN |Complex Relationship| 4433.14019525845"
      ]
    },
    {
      "cell_type": "markdown",
      "metadata": {},
      "source": [
        "This blog serves as a straightforward demonstration illustrating that when a dataset lacks intricate complexities and comprises handcrafted features where each row remains relatively consistent within a random normal distribution, simpler models outperform their more complex counterparts.\n",
        "\n",
        "It's important to note that while simpler models excel in such scenarios, neural networks incur significantly longer computing times. Thus, every level of complexity comes with its associated costs. Therefore, it's crucial for us to clearly define the ultimate objective of our modeling endeavors before venturing into additional complexities.\n"
      ]
    },
    {
      "cell_type": "markdown",
      "metadata": {},
      "source": [
        "```{=html}\n",
        "<script src=\"https://giscus.app/client.js\"\n",
        "        data-repo=\"ArunKoundinya/DeepLearning\"\n",
        "        data-repo-id=\"R_kgDOLhOfMA\"\n",
        "        data-category=\"General\"\n",
        "        data-category-id=\"DIC_kwDOLhOfMM4CeHeZ\"\n",
        "        data-mapping=\"pathname\"\n",
        "        data-strict=\"0\"\n",
        "        data-reactions-enabled=\"1\"\n",
        "        data-emit-metadata=\"0\"\n",
        "        data-input-position=\"bottom\"\n",
        "        data-theme=\"dark_high_contrast\"\n",
        "        data-lang=\"en\"\n",
        "        crossorigin=\"anonymous\"\n",
        "        async>\n",
        "</script>\n",
        "```"
      ]
    }
  ],
  "metadata": {
    "accelerator": "GPU",
    "colab": {
      "authorship_tag": "ABX9TyNHCtxmj7NmDFqsAR//HxpJ",
      "gpuType": "T4",
      "include_colab_link": true,
      "provenance": []
    },
    "kernelspec": {
      "display_name": "Python 3",
      "name": "python3"
    },
    "language_info": {
      "name": "python"
    }
  },
  "nbformat": 4,
  "nbformat_minor": 0
}
