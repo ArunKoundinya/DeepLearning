{
  "cells": [
    {
      "cell_type": "markdown",
      "metadata": {
        "colab_type": "text",
        "id": "view-in-github"
      },
      "source": [
        "---\n",
        "title: Tensor Flow Basics - 2\n",
        "categories:\n",
        "- Tensor Basics\n",
        "date: '2024-03-21'\n",
        "description: My initial learnings on tensors\n",
        "draft: false\n",
        "image: image.jpeg\n",
        "image-alt: tensor\n",
        "---"
      ]
    },
    {
      "cell_type": "markdown",
      "metadata": {},
      "source": [
        "This article primarily discussed on importance of broadcasting and its easy of implementation using tensors."
      ]
    },
    {
      "cell_type": "markdown",
      "metadata": {},
      "source": [
        "![](image.jpeg)"
      ]
    },
    {
      "cell_type": "markdown",
      "metadata": {},
      "source": [
        "<a href=\"https://colab.research.google.com/github/ArunKoundinya/DeepLearning/blob/main/posts/tensor-basic-part2.ipynb\" target=\"_parent\"><img src=\"https://colab.research.google.com/assets/colab-badge.svg\" alt=\"Open In Colab\"/></a>"
      ]
    },
    {
      "cell_type": "markdown",
      "metadata": {
        "id": "Nd83lR71K7V-"
      },
      "source": [
        "# Tensor Flow Basics Part-2"
      ]
    },
    {
      "cell_type": "markdown",
      "metadata": {
        "id": "hLXADYtgLBA0"
      },
      "source": [
        "## Tensor data types\n",
        "\n",
        "Data Type|Python Type | Description\n",
        "----|----|---\n",
        "DT_FLOAT|tf.float32| 32 bits floating point.\n",
        "DT_DOUBLE |tf.float64| 64 bits floating point.\n",
        "DT_INT8 |tf.int8| 8 bits signed integer.\n",
        "DT_INT16 |tf.int16| 16 bits signed integer.\n",
        "DT_INT32 |tf.int32| 32 bits signed integer.\n",
        "DT_INT64 |tf.int64| 64 bits signed integer.\n",
        "DT_UINT8 |tf.uint8| 8 bits unsigned integer.\n",
        "DT_STRING |tf.string| Variable length byte arrays. Each element of a tensor is a byte array.\n",
        "DT_BOOL| tf.bool| Boolean."
      ]
    },
    {
      "cell_type": "code",
      "execution_count": 24,
      "metadata": {
        "colab": {
          "base_uri": "https://localhost:8080/"
        },
        "id": "eHLatj2-K_88",
        "outputId": "db6856e1-4dd2-4541-be6a-25ede38563b7"
      },
      "outputs": [
        {
          "name": "stdout",
          "output_type": "stream",
          "text": [
            "2.15.0\n"
          ]
        }
      ],
      "source": [
        "import tensorflow as tf\n",
        "print(tf.__version__)"
      ]
    },
    {
      "cell_type": "code",
      "execution_count": 2,
      "metadata": {
        "id": "rvTYINVv_d1F"
      },
      "outputs": [],
      "source": [
        "x_new = tf.constant(1,shape=(2,3),dtype=tf.int8)"
      ]
    },
    {
      "cell_type": "code",
      "execution_count": 7,
      "metadata": {
        "id": "1tBzG7sQA8MS"
      },
      "outputs": [],
      "source": [
        "y_new = tf.constant(2,shape=(2,3),dtype=tf.int8)"
      ]
    },
    {
      "cell_type": "markdown",
      "metadata": {
        "id": "wfS_0eamFfBi"
      },
      "source": [
        "## Re-cap Operations\n",
        "\n",
        "*  Element Wise Operations\n",
        "*  Matrix Multiplicaitons\n",
        "\n"
      ]
    },
    {
      "cell_type": "code",
      "execution_count": 12,
      "metadata": {
        "colab": {
          "base_uri": "https://localhost:8080/"
        },
        "id": "sjGX3mLZFvwd",
        "outputId": "57f600a9-388a-4e69-a323-19f047d6ce70"
      },
      "outputs": [
        {
          "name": "stdout",
          "output_type": "stream",
          "text": [
            "Addition:\n",
            " tf.Tensor(\n",
            "[[3 3 3]\n",
            " [3 3 3]], shape=(2, 3), dtype=int8)\n",
            " \n",
            " \n",
            "Subtraction:\n",
            " tf.Tensor(\n",
            "[[-1 -1 -1]\n",
            " [-1 -1 -1]], shape=(2, 3), dtype=int8)\n",
            " \n",
            " \n"
          ]
        }
      ],
      "source": [
        "print(\"Addition:\\n\", tf.add(x_new,y_new))\n",
        "print(\" \")\n",
        "print(\" \")\n",
        "\n",
        "print(\"Subtraction:\\n\", tf.subtract(x_new,y_new))\n",
        "print(\" \")\n",
        "print(\" \")"
      ]
    },
    {
      "cell_type": "code",
      "execution_count": 19,
      "metadata": {
        "colab": {
          "base_uri": "https://localhost:8080/"
        },
        "id": "MVHavHuaGM4b",
        "outputId": "f0dda9e8-42f7-4c3a-a0e8-c4be057a593d"
      },
      "outputs": [
        {
          "name": "stdout",
          "output_type": "stream",
          "text": [
            "Multiplication:\n",
            " tf.Tensor(\n",
            "[[-0.5718114  -0.18780218 -2.0768495 ]\n",
            " [ 0.29304612  0.08317164 -1.3320862 ]], shape=(2, 3), dtype=float32)\n"
          ]
        }
      ],
      "source": [
        "print(\"Multiplication:\\n\", tf.multiply(tf.random.normal(shape=(2,3)),tf.random.normal(shape=(2,3))))"
      ]
    },
    {
      "cell_type": "code",
      "execution_count": 25,
      "metadata": {
        "colab": {
          "base_uri": "https://localhost:8080/"
        },
        "id": "NJH6SfWKGfJ4",
        "outputId": "36672ab3-132f-46b0-ad6c-3e3f332968ee"
      },
      "outputs": [
        {
          "name": "stdout",
          "output_type": "stream",
          "text": [
            "Matrix Multiplication:\n",
            " tf.Tensor(\n",
            "[[-1.6848389  -0.44041786]\n",
            " [-0.9548799  -0.22109865]], shape=(2, 2), dtype=float32)\n",
            " \n",
            " \n",
            "Matrix Multiplication:\n",
            " tf.Tensor(\n",
            "[[ 0.37789747]\n",
            " [-0.12570143]], shape=(2, 1), dtype=float32)\n"
          ]
        }
      ],
      "source": [
        "print(\"Matrix Multiplication:\\n\", tf.matmul(tf.random.normal(shape=(2,3)),tf.random.normal(shape=(3,2))))\n",
        "print(\" \")\n",
        "print(\" \")\n",
        "\n",
        "print(\"Matrix Multiplication:\\n\", tf.matmul(tf.random.normal(shape=(2,3)),tf.random.normal(shape=(3,1))))\n"
      ]
    },
    {
      "cell_type": "markdown",
      "metadata": {
        "id": "e_fAeDoYHWT9"
      },
      "source": [
        "## Broadcasting\n",
        "\n",
        "Broadcasting is useful when the dimensions of matrices are different from each other. This is highly useful to add and subtract the matrices of different lengths.\n",
        "\n",
        "Here's a brief summary of how broadcasting works for addition and subtraction:\n",
        "\n",
        "Addition: If the shapes of the two tensors are different, TensorFlow compares their shapes element-wise, starting from the trailing dimensions. If the dimensions are compatible or one of the dimensions is 1, broadcasting can occur. For example, you can add a scalar to a matrix, and the scalar value will be added to every element of the matrix.\n",
        "\n",
        "Subtraction: Similar to addition, broadcasting allows you to subtract a scalar or a vector from a matrix, or subtract matrices of different shapes."
      ]
    },
    {
      "cell_type": "code",
      "execution_count": 28,
      "metadata": {
        "id": "UBE-c99iOqmj"
      },
      "outputs": [],
      "source": [
        "x1 = tf.random.normal(shape=(2,3))\n",
        "\n",
        "x2 = tf.random.normal(shape=(2,1))"
      ]
    },
    {
      "cell_type": "code",
      "execution_count": 31,
      "metadata": {
        "colab": {
          "base_uri": "https://localhost:8080/"
        },
        "id": "-WMyfxYlPsgT",
        "outputId": "ff7f50fd-b1a5-47dd-daae-37f5ec55925a"
      },
      "outputs": [
        {
          "name": "stdout",
          "output_type": "stream",
          "text": [
            "x1:\n",
            " tf.Tensor(\n",
            "[[ 0.39297998 -0.12811422 -0.60474324]\n",
            " [ 0.30773026  1.4076523  -0.57274765]], shape=(2, 3), dtype=float32)\n",
            " \n",
            " \n",
            "x2:\n",
            " tf.Tensor(\n",
            "[[0.10113019]\n",
            " [1.0277312 ]], shape=(2, 1), dtype=float32)\n"
          ]
        }
      ],
      "source": [
        "print(\"x1:\\n\",x1)\n",
        "print(\" \")\n",
        "print(\" \")\n",
        "print(\"x2:\\n\",x2)"
      ]
    },
    {
      "cell_type": "code",
      "execution_count": 32,
      "metadata": {
        "colab": {
          "base_uri": "https://localhost:8080/"
        },
        "id": "H0VtG0S2P3Ak",
        "outputId": "1aa2363d-e5e1-41ba-a064-be48a4204d69"
      },
      "outputs": [
        {
          "data": {
            "text/plain": [
              "<tf.Tensor: shape=(2, 3), dtype=float32, numpy=\n",
              "array([[0.10113019, 0.10113019, 0.10113019],\n",
              "       [1.0277312 , 1.0277312 , 1.0277312 ]], dtype=float32)>"
            ]
          },
          "execution_count": 32,
          "metadata": {},
          "output_type": "execute_result"
        }
      ],
      "source": [
        "tf.broadcast_to(x2, [2, 3])   ### Broadcasting internally"
      ]
    },
    {
      "cell_type": "code",
      "execution_count": 33,
      "metadata": {
        "colab": {
          "base_uri": "https://localhost:8080/"
        },
        "id": "Q-j3zpuBPUF7",
        "outputId": "e6ac1e11-e6ee-42ce-9027-f2c44c8c310d"
      },
      "outputs": [
        {
          "data": {
            "text/plain": [
              "<tf.Tensor: shape=(2, 3), dtype=float32, numpy=\n",
              "array([[ 0.49411017, -0.02698404, -0.50361305],\n",
              "       [ 1.3354614 ,  2.4353833 ,  0.45498353]], dtype=float32)>"
            ]
          },
          "execution_count": 33,
          "metadata": {},
          "output_type": "execute_result"
        }
      ],
      "source": [
        "tf.add(x1,x2)"
      ]
    },
    {
      "cell_type": "code",
      "execution_count": 36,
      "metadata": {
        "colab": {
          "base_uri": "https://localhost:8080/"
        },
        "id": "c1eE7dqQPpGO",
        "outputId": "04901c9e-f68a-400e-b598-decf708bf2cf"
      },
      "outputs": [
        {
          "data": {
            "text/plain": [
              "<tf.Tensor: shape=(2, 3), dtype=float32, numpy=\n",
              "array([[ 0.2918498 , -0.22924441, -0.7058734 ],\n",
              "       [-0.7200009 ,  0.37992108, -1.6004789 ]], dtype=float32)>"
            ]
          },
          "execution_count": 36,
          "metadata": {},
          "output_type": "execute_result"
        }
      ],
      "source": [
        "tf.subtract(x1,x2)"
      ]
    },
    {
      "cell_type": "markdown",
      "metadata": {
        "id": "PS4ntp1NTTxh"
      },
      "source": [
        "\n",
        "In the above examples we have seen that broadcasting of same tensor dimension i.e.; of two dimensional.\n",
        "\n",
        "Below, we will see the beauty of broadcasting of different dimensions."
      ]
    },
    {
      "cell_type": "code",
      "execution_count": 48,
      "metadata": {
        "id": "lFJTPha6ROUO"
      },
      "outputs": [],
      "source": [
        "x3 = tf.random.normal(shape=(2, 2, 2)) #3d tensor\n",
        "x4 = tf.random.normal(shape=(2, 1)) #2d tensor"
      ]
    },
    {
      "cell_type": "code",
      "execution_count": 49,
      "metadata": {
        "colab": {
          "base_uri": "https://localhost:8080/"
        },
        "id": "Cl2zJnZwRtRa",
        "outputId": "ed6eefae-e7c3-4f82-af84-10dffe4fe3b2"
      },
      "outputs": [
        {
          "data": {
            "text/plain": [
              "<tf.Tensor: shape=(2, 2, 2), dtype=float32, numpy=\n",
              "array([[[-1.0228443 ,  0.34588122],\n",
              "        [ 2.188323  , -0.7523911 ]],\n",
              "\n",
              "       [[-0.56017506, -1.5636952 ],\n",
              "        [ 1.572252  ,  1.6189265 ]]], dtype=float32)>"
            ]
          },
          "execution_count": 49,
          "metadata": {},
          "output_type": "execute_result"
        }
      ],
      "source": [
        "tf.add(x3,x4)"
      ]
    },
    {
      "cell_type": "code",
      "execution_count": 50,
      "metadata": {
        "colab": {
          "base_uri": "https://localhost:8080/"
        },
        "id": "y-ZMUay8RzNa",
        "outputId": "571549b7-105c-4b5d-f836-38fcec4db5d3"
      },
      "outputs": [
        {
          "data": {
            "text/plain": [
              "<tf.Tensor: shape=(2, 2, 2), dtype=float32, numpy=\n",
              "array([[[-0.66719866, -0.66719866],\n",
              "        [ 0.92839885,  0.92839885]],\n",
              "\n",
              "       [[-0.66719866, -0.66719866],\n",
              "        [ 0.92839885,  0.92839885]]], dtype=float32)>"
            ]
          },
          "execution_count": 50,
          "metadata": {},
          "output_type": "execute_result"
        }
      ],
      "source": [
        "tf.broadcast_to(x4, [2,2,2])   ### Broadcasting internally"
      ]
    },
    {
      "cell_type": "markdown",
      "metadata": {
        "id": "z9iH4wxgWwOK"
      },
      "source": [
        "```{=html}\n",
        "<script src=\"https://giscus.app/client.js\"\n",
        "        data-repo=\"ArunKoundinya/DeepLearning\"\n",
        "        data-repo-id=\"R_kgDOLhOfMA\"\n",
        "        data-category=\"General\"\n",
        "        data-category-id=\"DIC_kwDOLhOfMM4CeHeZ\"\n",
        "        data-mapping=\"pathname\"\n",
        "        data-strict=\"0\"\n",
        "        data-reactions-enabled=\"1\"\n",
        "        data-emit-metadata=\"0\"\n",
        "        data-input-position=\"bottom\"\n",
        "        data-theme=\"dark_high_contrast\"\n",
        "        data-lang=\"en\"\n",
        "        crossorigin=\"anonymous\"\n",
        "        async>\n",
        "</script>\n",
        "```"
      ]
    }
  ],
  "metadata": {
    "colab": {
      "authorship_tag": "ABX9TyOhcFc1wxrz8T/Fr1dCogP+",
      "include_colab_link": true,
      "provenance": []
    },
    "kernelspec": {
      "display_name": "Python 3",
      "name": "python3"
    },
    "language_info": {
      "name": "python"
    }
  },
  "nbformat": 4,
  "nbformat_minor": 0
}
